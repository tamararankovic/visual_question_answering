{
 "cells": [
  {
   "cell_type": "markdown",
   "id": "eab6cd31",
   "metadata": {},
   "source": [
    "### 1. Iz Annotations/train.json filtrirati samo ona pitanja koja ne zahtevaju prepoznavanje teksta (izlazi van domena rešenja)\n",
    "### 2. Podeliti filtrirani skup na train i test deo (data/train.json i data/test.json)\n",
    "\n",
    "### Napomena 1 - Annotations/val.json i Annotations/test.json necemo koristiti ni za obucavanje ni za evaluaciju zato sto nemamo informacije o tome da li zahtevaju prepoznavanje teksta\n",
    "### Napomena 2 - Ravnomerna podela na osnovu answer_type (number, yes/no, other, unanswerable)"
   ]
  },
  {
   "cell_type": "code",
   "execution_count": 117,
   "id": "200b1389",
   "metadata": {},
   "outputs": [],
   "source": [
    "import pandas as pd\n",
    "from sklearn.model_selection import train_test_split"
   ]
  },
  {
   "cell_type": "code",
   "execution_count": 118,
   "id": "5701851f",
   "metadata": {},
   "outputs": [
    {
     "data": {
      "text/html": [
       "<div>\n",
       "<style scoped>\n",
       "    .dataframe tbody tr th:only-of-type {\n",
       "        vertical-align: middle;\n",
       "    }\n",
       "\n",
       "    .dataframe tbody tr th {\n",
       "        vertical-align: top;\n",
       "    }\n",
       "\n",
       "    .dataframe thead th {\n",
       "        text-align: right;\n",
       "    }\n",
       "</style>\n",
       "<table border=\"1\" class=\"dataframe\">\n",
       "  <thead>\n",
       "    <tr style=\"text-align: right;\">\n",
       "      <th></th>\n",
       "      <th>IMG</th>\n",
       "      <th>QSN</th>\n",
       "      <th>TXT</th>\n",
       "      <th>OBJ</th>\n",
       "      <th>COL</th>\n",
       "      <th>CNT</th>\n",
       "      <th>OTH</th>\n",
       "    </tr>\n",
       "  </thead>\n",
       "  <tbody>\n",
       "    <tr>\n",
       "      <th>0</th>\n",
       "      <td>VizWiz_train_00000000.jpg</td>\n",
       "      <td>What's the name of this product?</td>\n",
       "      <td>4</td>\n",
       "      <td>3</td>\n",
       "      <td>0</td>\n",
       "      <td>0</td>\n",
       "      <td>0</td>\n",
       "    </tr>\n",
       "    <tr>\n",
       "      <th>1</th>\n",
       "      <td>VizWiz_train_00000001.jpg</td>\n",
       "      <td>Can you tell me what is in this can please?</td>\n",
       "      <td>2</td>\n",
       "      <td>5</td>\n",
       "      <td>1</td>\n",
       "      <td>1</td>\n",
       "      <td>0</td>\n",
       "    </tr>\n",
       "    <tr>\n",
       "      <th>2</th>\n",
       "      <td>VizWiz_train_00000002.jpg</td>\n",
       "      <td>Is this enchilada sauce or is this tomatoes?  ...</td>\n",
       "      <td>4</td>\n",
       "      <td>3</td>\n",
       "      <td>1</td>\n",
       "      <td>0</td>\n",
       "      <td>0</td>\n",
       "    </tr>\n",
       "    <tr>\n",
       "      <th>3</th>\n",
       "      <td>VizWiz_train_00000003.jpg</td>\n",
       "      <td>What is the captcha on this screenshot?</td>\n",
       "      <td>4</td>\n",
       "      <td>2</td>\n",
       "      <td>1</td>\n",
       "      <td>1</td>\n",
       "      <td>0</td>\n",
       "    </tr>\n",
       "    <tr>\n",
       "      <th>4</th>\n",
       "      <td>VizWiz_train_00000004.jpg</td>\n",
       "      <td>What is this item?</td>\n",
       "      <td>3</td>\n",
       "      <td>5</td>\n",
       "      <td>1</td>\n",
       "      <td>0</td>\n",
       "      <td>0</td>\n",
       "    </tr>\n",
       "  </tbody>\n",
       "</table>\n",
       "</div>"
      ],
      "text/plain": [
       "                         IMG  \\\n",
       "0  VizWiz_train_00000000.jpg   \n",
       "1  VizWiz_train_00000001.jpg   \n",
       "2  VizWiz_train_00000002.jpg   \n",
       "3  VizWiz_train_00000003.jpg   \n",
       "4  VizWiz_train_00000004.jpg   \n",
       "\n",
       "                                                 QSN  TXT  OBJ  COL  CNT  OTH  \n",
       "0                   What's the name of this product?    4    3    0    0    0  \n",
       "1        Can you tell me what is in this can please?    2    5    1    1    0  \n",
       "2  Is this enchilada sauce or is this tomatoes?  ...    4    3    1    0    0  \n",
       "3            What is the captcha on this screenshot?    4    2    1    1    0  \n",
       "4                                 What is this item?    3    5    1    0    0  "
      ]
     },
     "execution_count": 118,
     "metadata": {},
     "output_type": "execute_result"
    }
   ],
   "source": [
    "ocr = pd.read_csv('data/ocr.csv')\n",
    "ocr.head()"
   ]
  },
  {
   "cell_type": "code",
   "execution_count": 119,
   "id": "69d8b937",
   "metadata": {},
   "outputs": [
    {
     "data": {
      "text/plain": [
       "count    14239.000000\n",
       "mean         2.107732\n",
       "std          1.819784\n",
       "min          0.000000\n",
       "25%          0.000000\n",
       "50%          2.000000\n",
       "75%          4.000000\n",
       "max          5.000000\n",
       "Name: TXT, dtype: float64"
      ]
     },
     "execution_count": 119,
     "metadata": {},
     "output_type": "execute_result"
    }
   ],
   "source": [
    "ocr.TXT.describe()"
   ]
  },
  {
   "cell_type": "code",
   "execution_count": 120,
   "id": "702fb437",
   "metadata": {},
   "outputs": [
    {
     "data": {
      "text/html": [
       "<div>\n",
       "<style scoped>\n",
       "    .dataframe tbody tr th:only-of-type {\n",
       "        vertical-align: middle;\n",
       "    }\n",
       "\n",
       "    .dataframe tbody tr th {\n",
       "        vertical-align: top;\n",
       "    }\n",
       "\n",
       "    .dataframe thead th {\n",
       "        text-align: right;\n",
       "    }\n",
       "</style>\n",
       "<table border=\"1\" class=\"dataframe\">\n",
       "  <thead>\n",
       "    <tr style=\"text-align: right;\">\n",
       "      <th></th>\n",
       "      <th>IMG</th>\n",
       "      <th>QSN</th>\n",
       "      <th>TXT</th>\n",
       "      <th>OBJ</th>\n",
       "      <th>COL</th>\n",
       "      <th>CNT</th>\n",
       "      <th>OTH</th>\n",
       "    </tr>\n",
       "  </thead>\n",
       "  <tbody>\n",
       "    <tr>\n",
       "      <th>5</th>\n",
       "      <td>VizWiz_train_00000005.jpg</td>\n",
       "      <td>What's this?</td>\n",
       "      <td>1</td>\n",
       "      <td>5</td>\n",
       "      <td>1</td>\n",
       "      <td>0</td>\n",
       "      <td>0</td>\n",
       "    </tr>\n",
       "    <tr>\n",
       "      <th>8</th>\n",
       "      <td>VizWiz_train_00000008.jpg</td>\n",
       "      <td>What color do these look?</td>\n",
       "      <td>1</td>\n",
       "      <td>3</td>\n",
       "      <td>4</td>\n",
       "      <td>0</td>\n",
       "      <td>0</td>\n",
       "    </tr>\n",
       "    <tr>\n",
       "      <th>9</th>\n",
       "      <td>VizWiz_train_00000009.jpg</td>\n",
       "      <td>Surface look clean? Thank you.</td>\n",
       "      <td>0</td>\n",
       "      <td>5</td>\n",
       "      <td>1</td>\n",
       "      <td>0</td>\n",
       "      <td>0</td>\n",
       "    </tr>\n",
       "    <tr>\n",
       "      <th>10</th>\n",
       "      <td>VizWiz_train_00000010.jpg</td>\n",
       "      <td>Is this.</td>\n",
       "      <td>1</td>\n",
       "      <td>5</td>\n",
       "      <td>2</td>\n",
       "      <td>0</td>\n",
       "      <td>0</td>\n",
       "    </tr>\n",
       "    <tr>\n",
       "      <th>11</th>\n",
       "      <td>VizWiz_train_00000012.jpg</td>\n",
       "      <td>what is this?</td>\n",
       "      <td>0</td>\n",
       "      <td>5</td>\n",
       "      <td>2</td>\n",
       "      <td>0</td>\n",
       "      <td>0</td>\n",
       "    </tr>\n",
       "  </tbody>\n",
       "</table>\n",
       "</div>"
      ],
      "text/plain": [
       "                          IMG                             QSN  TXT  OBJ  COL  \\\n",
       "5   VizWiz_train_00000005.jpg                    What's this?    1    5    1   \n",
       "8   VizWiz_train_00000008.jpg       What color do these look?    1    3    4   \n",
       "9   VizWiz_train_00000009.jpg  Surface look clean? Thank you.    0    5    1   \n",
       "10  VizWiz_train_00000010.jpg                        Is this.    1    5    2   \n",
       "11  VizWiz_train_00000012.jpg                   what is this?    0    5    2   \n",
       "\n",
       "    CNT  OTH  \n",
       "5     0    0  \n",
       "8     0    0  \n",
       "9     0    0  \n",
       "10    0    0  \n",
       "11    0    0  "
      ]
     },
     "execution_count": 120,
     "metadata": {},
     "output_type": "execute_result"
    }
   ],
   "source": [
    "ocr_filtered = ocr[ocr.TXT <= 1]\n",
    "ocr_filtered.head()"
   ]
  },
  {
   "cell_type": "code",
   "execution_count": 121,
   "id": "42a9823f",
   "metadata": {},
   "outputs": [
    {
     "data": {
      "text/plain": [
       "count    6241.000000\n",
       "mean        0.273514\n",
       "std         0.445798\n",
       "min         0.000000\n",
       "25%         0.000000\n",
       "50%         0.000000\n",
       "75%         1.000000\n",
       "max         1.000000\n",
       "Name: TXT, dtype: float64"
      ]
     },
     "execution_count": 121,
     "metadata": {},
     "output_type": "execute_result"
    }
   ],
   "source": [
    "ocr_filtered.TXT.describe()"
   ]
  },
  {
   "cell_type": "code",
   "execution_count": 122,
   "id": "2a970ad8",
   "metadata": {},
   "outputs": [],
   "source": [
    "data = pd.read_json('Annotations/train.json')"
   ]
  },
  {
   "cell_type": "code",
   "execution_count": 123,
   "id": "48ec48ba",
   "metadata": {},
   "outputs": [
    {
     "data": {
      "text/html": [
       "<div>\n",
       "<style scoped>\n",
       "    .dataframe tbody tr th:only-of-type {\n",
       "        vertical-align: middle;\n",
       "    }\n",
       "\n",
       "    .dataframe tbody tr th {\n",
       "        vertical-align: top;\n",
       "    }\n",
       "\n",
       "    .dataframe thead th {\n",
       "        text-align: right;\n",
       "    }\n",
       "</style>\n",
       "<table border=\"1\" class=\"dataframe\">\n",
       "  <thead>\n",
       "    <tr style=\"text-align: right;\">\n",
       "      <th></th>\n",
       "      <th>image</th>\n",
       "      <th>question</th>\n",
       "      <th>answers</th>\n",
       "      <th>answer_type</th>\n",
       "      <th>answerable</th>\n",
       "    </tr>\n",
       "  </thead>\n",
       "  <tbody>\n",
       "    <tr>\n",
       "      <th>5</th>\n",
       "      <td>VizWiz_train_00000005.jpg</td>\n",
       "      <td>What's this?</td>\n",
       "      <td>[{'answer_confidence': 'yes', 'answer': 'boots...</td>\n",
       "      <td>other</td>\n",
       "      <td>1</td>\n",
       "    </tr>\n",
       "    <tr>\n",
       "      <th>8</th>\n",
       "      <td>VizWiz_train_00000008.jpg</td>\n",
       "      <td>What color do these look?</td>\n",
       "      <td>[{'answer_confidence': 'yes', 'answer': 'orang...</td>\n",
       "      <td>other</td>\n",
       "      <td>1</td>\n",
       "    </tr>\n",
       "    <tr>\n",
       "      <th>9</th>\n",
       "      <td>VizWiz_train_00000009.jpg</td>\n",
       "      <td>Surface look clean? Thank you.</td>\n",
       "      <td>[{'answer_confidence': 'yes', 'answer': 'yes'}...</td>\n",
       "      <td>yes/no</td>\n",
       "      <td>1</td>\n",
       "    </tr>\n",
       "    <tr>\n",
       "      <th>10</th>\n",
       "      <td>VizWiz_train_00000010.jpg</td>\n",
       "      <td>Is this.</td>\n",
       "      <td>[{'answer_confidence': 'maybe', 'answer': 'and...</td>\n",
       "      <td>other</td>\n",
       "      <td>1</td>\n",
       "    </tr>\n",
       "    <tr>\n",
       "      <th>12</th>\n",
       "      <td>VizWiz_train_00000012.jpg</td>\n",
       "      <td>what is this?</td>\n",
       "      <td>[{'answer_confidence': 'yes', 'answer': 'remot...</td>\n",
       "      <td>other</td>\n",
       "      <td>1</td>\n",
       "    </tr>\n",
       "  </tbody>\n",
       "</table>\n",
       "</div>"
      ],
      "text/plain": [
       "                        image                        question  \\\n",
       "5   VizWiz_train_00000005.jpg                    What's this?   \n",
       "8   VizWiz_train_00000008.jpg       What color do these look?   \n",
       "9   VizWiz_train_00000009.jpg  Surface look clean? Thank you.   \n",
       "10  VizWiz_train_00000010.jpg                        Is this.   \n",
       "12  VizWiz_train_00000012.jpg                   what is this?   \n",
       "\n",
       "                                              answers answer_type  answerable  \n",
       "5   [{'answer_confidence': 'yes', 'answer': 'boots...       other           1  \n",
       "8   [{'answer_confidence': 'yes', 'answer': 'orang...       other           1  \n",
       "9   [{'answer_confidence': 'yes', 'answer': 'yes'}...      yes/no           1  \n",
       "10  [{'answer_confidence': 'maybe', 'answer': 'and...       other           1  \n",
       "12  [{'answer_confidence': 'yes', 'answer': 'remot...       other           1  "
      ]
     },
     "execution_count": 123,
     "metadata": {},
     "output_type": "execute_result"
    }
   ],
   "source": [
    "data_filtered = data[data.image.isin(ocr_filtered.IMG)]\n",
    "data_filtered.head()"
   ]
  },
  {
   "cell_type": "code",
   "execution_count": 124,
   "id": "509be785",
   "metadata": {},
   "outputs": [
    {
     "name": "stdout",
     "output_type": "stream",
     "text": [
      "<class 'pandas.core.frame.DataFrame'>\n",
      "Int64Index: 6238 entries, 5 to 19924\n",
      "Data columns (total 5 columns):\n",
      " #   Column       Non-Null Count  Dtype \n",
      "---  ------       --------------  ----- \n",
      " 0   image        6238 non-null   object\n",
      " 1   question     6238 non-null   object\n",
      " 2   answers      6238 non-null   object\n",
      " 3   answer_type  6238 non-null   object\n",
      " 4   answerable   6238 non-null   int64 \n",
      "dtypes: int64(1), object(4)\n",
      "memory usage: 292.4+ KB\n"
     ]
    }
   ],
   "source": [
    "data_filtered.info()"
   ]
  },
  {
   "cell_type": "markdown",
   "id": "06871a18",
   "metadata": {},
   "source": [
    "### Zašto ocr_filtered ima 6241, a data_filtered 6238 elementara? nzm"
   ]
  },
  {
   "cell_type": "code",
   "execution_count": 125,
   "id": "80813c25",
   "metadata": {},
   "outputs": [
    {
     "data": {
      "text/plain": [
       "count      6238\n",
       "unique        4\n",
       "top       other\n",
       "freq       5678\n",
       "Name: answer_type, dtype: object"
      ]
     },
     "execution_count": 125,
     "metadata": {},
     "output_type": "execute_result"
    }
   ],
   "source": [
    "data_filtered.answer_type.describe()"
   ]
  },
  {
   "cell_type": "code",
   "execution_count": 126,
   "id": "a0f35860",
   "metadata": {},
   "outputs": [
    {
     "data": {
      "text/plain": [
       "array(['other', 'yes/no', 'number', 'unanswerable'], dtype=object)"
      ]
     },
     "execution_count": 126,
     "metadata": {},
     "output_type": "execute_result"
    }
   ],
   "source": [
    "data_filtered.answer_type.unique()"
   ]
  },
  {
   "cell_type": "code",
   "execution_count": 127,
   "id": "fba99c97",
   "metadata": {},
   "outputs": [],
   "source": [
    "train, test = train_test_split(data_filtered, train_size=0.9, stratify=data_filtered.answer_type)\n",
    "train.to_json('data/train.json')\n",
    "test.to_json('data/test.json')"
   ]
  },
  {
   "cell_type": "code",
   "execution_count": 128,
   "id": "86760d50",
   "metadata": {},
   "outputs": [
    {
     "data": {
      "text/html": [
       "<div>\n",
       "<style scoped>\n",
       "    .dataframe tbody tr th:only-of-type {\n",
       "        vertical-align: middle;\n",
       "    }\n",
       "\n",
       "    .dataframe tbody tr th {\n",
       "        vertical-align: top;\n",
       "    }\n",
       "\n",
       "    .dataframe thead th {\n",
       "        text-align: right;\n",
       "    }\n",
       "</style>\n",
       "<table border=\"1\" class=\"dataframe\">\n",
       "  <thead>\n",
       "    <tr style=\"text-align: right;\">\n",
       "      <th></th>\n",
       "      <th>image</th>\n",
       "      <th>question</th>\n",
       "      <th>answers</th>\n",
       "      <th>answer_type</th>\n",
       "      <th>answerable</th>\n",
       "    </tr>\n",
       "  </thead>\n",
       "  <tbody>\n",
       "    <tr>\n",
       "      <th>1616</th>\n",
       "      <td>VizWiz_train_00001616.jpg</td>\n",
       "      <td>What is it?</td>\n",
       "      <td>[{'answer_confidence': 'yes', 'answer': 'rug'}...</td>\n",
       "      <td>other</td>\n",
       "      <td>1</td>\n",
       "    </tr>\n",
       "    <tr>\n",
       "      <th>11910</th>\n",
       "      <td>VizWiz_train_00011910.jpg</td>\n",
       "      <td>WHAT DO YOU SEE?</td>\n",
       "      <td>[{'answer_confidence': 'maybe', 'answer': 'leg...</td>\n",
       "      <td>other</td>\n",
       "      <td>1</td>\n",
       "    </tr>\n",
       "    <tr>\n",
       "      <th>13392</th>\n",
       "      <td>VizWiz_train_00013392.jpg</td>\n",
       "      <td>What is this?</td>\n",
       "      <td>[{'answer_confidence': 'no', 'answer': 'pendan...</td>\n",
       "      <td>other</td>\n",
       "      <td>1</td>\n",
       "    </tr>\n",
       "    <tr>\n",
       "      <th>7274</th>\n",
       "      <td>VizWiz_train_00007274.jpg</td>\n",
       "      <td>What do I see</td>\n",
       "      <td>[{'answer': 'toilet paper', 'answer_confidence...</td>\n",
       "      <td>other</td>\n",
       "      <td>1</td>\n",
       "    </tr>\n",
       "    <tr>\n",
       "      <th>15488</th>\n",
       "      <td>VizWiz_train_00015488.jpg</td>\n",
       "      <td>What color are these socks?</td>\n",
       "      <td>[{'answer_confidence': 'yes', 'answer': 'black...</td>\n",
       "      <td>other</td>\n",
       "      <td>1</td>\n",
       "    </tr>\n",
       "  </tbody>\n",
       "</table>\n",
       "</div>"
      ],
      "text/plain": [
       "                           image                     question  \\\n",
       "1616   VizWiz_train_00001616.jpg                  What is it?   \n",
       "11910  VizWiz_train_00011910.jpg             WHAT DO YOU SEE?   \n",
       "13392  VizWiz_train_00013392.jpg                What is this?   \n",
       "7274   VizWiz_train_00007274.jpg                What do I see   \n",
       "15488  VizWiz_train_00015488.jpg  What color are these socks?   \n",
       "\n",
       "                                                 answers answer_type  \\\n",
       "1616   [{'answer_confidence': 'yes', 'answer': 'rug'}...       other   \n",
       "11910  [{'answer_confidence': 'maybe', 'answer': 'leg...       other   \n",
       "13392  [{'answer_confidence': 'no', 'answer': 'pendan...       other   \n",
       "7274   [{'answer': 'toilet paper', 'answer_confidence...       other   \n",
       "15488  [{'answer_confidence': 'yes', 'answer': 'black...       other   \n",
       "\n",
       "       answerable  \n",
       "1616            1  \n",
       "11910           1  \n",
       "13392           1  \n",
       "7274            1  \n",
       "15488           1  "
      ]
     },
     "execution_count": 128,
     "metadata": {},
     "output_type": "execute_result"
    }
   ],
   "source": [
    "train = pd.read_json('data/train.json')\n",
    "train.head()"
   ]
  },
  {
   "cell_type": "code",
   "execution_count": 129,
   "id": "d8f04eb1",
   "metadata": {},
   "outputs": [
    {
     "data": {
      "text/html": [
       "<div>\n",
       "<style scoped>\n",
       "    .dataframe tbody tr th:only-of-type {\n",
       "        vertical-align: middle;\n",
       "    }\n",
       "\n",
       "    .dataframe tbody tr th {\n",
       "        vertical-align: top;\n",
       "    }\n",
       "\n",
       "    .dataframe thead th {\n",
       "        text-align: right;\n",
       "    }\n",
       "</style>\n",
       "<table border=\"1\" class=\"dataframe\">\n",
       "  <thead>\n",
       "    <tr style=\"text-align: right;\">\n",
       "      <th></th>\n",
       "      <th>image</th>\n",
       "      <th>question</th>\n",
       "      <th>answers</th>\n",
       "      <th>answer_type</th>\n",
       "      <th>answerable</th>\n",
       "    </tr>\n",
       "  </thead>\n",
       "  <tbody>\n",
       "    <tr>\n",
       "      <th>7824</th>\n",
       "      <td>VizWiz_train_00007824.jpg</td>\n",
       "      <td>What color is this?</td>\n",
       "      <td>[{'answer_confidence': 'maybe', 'answer': 'blu...</td>\n",
       "      <td>other</td>\n",
       "      <td>1</td>\n",
       "    </tr>\n",
       "    <tr>\n",
       "      <th>7288</th>\n",
       "      <td>VizWiz_train_00007288.jpg</td>\n",
       "      <td>What is this?</td>\n",
       "      <td>[{'answer_confidence': 'yes', 'answer': 'cream...</td>\n",
       "      <td>other</td>\n",
       "      <td>1</td>\n",
       "    </tr>\n",
       "    <tr>\n",
       "      <th>6489</th>\n",
       "      <td>VizWiz_train_00006489.jpg</td>\n",
       "      <td>What is this?</td>\n",
       "      <td>[{'answer_confidence': 'yes', 'answer': 'mug'}...</td>\n",
       "      <td>other</td>\n",
       "      <td>1</td>\n",
       "    </tr>\n",
       "    <tr>\n",
       "      <th>9376</th>\n",
       "      <td>VizWiz_train_00009376.jpg</td>\n",
       "      <td>what color is the shirt</td>\n",
       "      <td>[{'answer_confidence': 'yes', 'answer': 'white...</td>\n",
       "      <td>other</td>\n",
       "      <td>1</td>\n",
       "    </tr>\n",
       "    <tr>\n",
       "      <th>6591</th>\n",
       "      <td>VizWiz_train_00006591.jpg</td>\n",
       "      <td>What are these pills?</td>\n",
       "      <td>[{'answer_confidence': 'yes', 'answer': 'wefwe...</td>\n",
       "      <td>other</td>\n",
       "      <td>1</td>\n",
       "    </tr>\n",
       "  </tbody>\n",
       "</table>\n",
       "</div>"
      ],
      "text/plain": [
       "                          image                  question  \\\n",
       "7824  VizWiz_train_00007824.jpg       What color is this?   \n",
       "7288  VizWiz_train_00007288.jpg             What is this?   \n",
       "6489  VizWiz_train_00006489.jpg             What is this?   \n",
       "9376  VizWiz_train_00009376.jpg  what color is the shirt    \n",
       "6591  VizWiz_train_00006591.jpg     What are these pills?   \n",
       "\n",
       "                                                answers answer_type  \\\n",
       "7824  [{'answer_confidence': 'maybe', 'answer': 'blu...       other   \n",
       "7288  [{'answer_confidence': 'yes', 'answer': 'cream...       other   \n",
       "6489  [{'answer_confidence': 'yes', 'answer': 'mug'}...       other   \n",
       "9376  [{'answer_confidence': 'yes', 'answer': 'white...       other   \n",
       "6591  [{'answer_confidence': 'yes', 'answer': 'wefwe...       other   \n",
       "\n",
       "      answerable  \n",
       "7824           1  \n",
       "7288           1  \n",
       "6489           1  \n",
       "9376           1  \n",
       "6591           1  "
      ]
     },
     "execution_count": 129,
     "metadata": {},
     "output_type": "execute_result"
    }
   ],
   "source": [
    "test = pd.read_json('data/test.json')\n",
    "test.head()"
   ]
  },
  {
   "cell_type": "code",
   "execution_count": 130,
   "id": "e82d3efb",
   "metadata": {},
   "outputs": [
    {
     "name": "stdout",
     "output_type": "stream",
     "text": [
      "<class 'pandas.core.frame.DataFrame'>\n",
      "Int64Index: 5614 entries, 1616 to 4966\n",
      "Data columns (total 5 columns):\n",
      " #   Column       Non-Null Count  Dtype \n",
      "---  ------       --------------  ----- \n",
      " 0   image        5614 non-null   object\n",
      " 1   question     5614 non-null   object\n",
      " 2   answers      5614 non-null   object\n",
      " 3   answer_type  5614 non-null   object\n",
      " 4   answerable   5614 non-null   int64 \n",
      "dtypes: int64(1), object(4)\n",
      "memory usage: 263.2+ KB\n"
     ]
    }
   ],
   "source": [
    "train.info()"
   ]
  },
  {
   "cell_type": "code",
   "execution_count": 131,
   "id": "420c9ff2",
   "metadata": {},
   "outputs": [
    {
     "name": "stdout",
     "output_type": "stream",
     "text": [
      "<class 'pandas.core.frame.DataFrame'>\n",
      "Int64Index: 624 entries, 7824 to 11965\n",
      "Data columns (total 5 columns):\n",
      " #   Column       Non-Null Count  Dtype \n",
      "---  ------       --------------  ----- \n",
      " 0   image        624 non-null    object\n",
      " 1   question     624 non-null    object\n",
      " 2   answers      624 non-null    object\n",
      " 3   answer_type  624 non-null    object\n",
      " 4   answerable   624 non-null    int64 \n",
      "dtypes: int64(1), object(4)\n",
      "memory usage: 29.2+ KB\n"
     ]
    }
   ],
   "source": [
    "test.info()"
   ]
  },
  {
   "cell_type": "code",
   "execution_count": null,
   "id": "e39fce93",
   "metadata": {},
   "outputs": [],
   "source": []
  }
 ],
 "metadata": {
  "kernelspec": {
   "display_name": "Python 3 (ipykernel)",
   "language": "python",
   "name": "python3"
  },
  "language_info": {
   "codemirror_mode": {
    "name": "ipython",
    "version": 3
   },
   "file_extension": ".py",
   "mimetype": "text/x-python",
   "name": "python",
   "nbconvert_exporter": "python",
   "pygments_lexer": "ipython3",
   "version": "3.8.10"
  }
 },
 "nbformat": 4,
 "nbformat_minor": 5
}
