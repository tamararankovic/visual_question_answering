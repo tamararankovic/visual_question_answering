{
 "cells": [
  {
   "cell_type": "markdown",
   "id": "3cb2c2fb",
   "metadata": {},
   "source": [
    "### 1. Iz Annotations/train.json filtrirati samo ona pitanja koja ne zahtevaju prepoznavanje teksta (izlazi van domena rešenja)\n",
    "### 2. Podeliti filtrirani skup na train i test deo (data/train.json i data/test.json)\n",
    "\n",
    "### Napomena 1 - Annotations/val.json i Annotations/test.json necemo koristiti ni za obucavanje ni za evaluaciju zato sto nemamo informacije o tome da li zahtevaju prepoznavanje teksta\n",
    "### Napomena 2 - Ravnomerna podela na osnovu answer_type (number, yes/no, other, unanswerable)"
   ]
  },
  {
   "cell_type": "code",
   "execution_count": 99,
   "id": "64e7354d",
   "metadata": {},
   "outputs": [],
   "source": [
    "import pandas as pd\n",
    "from sklearn.model_selection import train_test_split"
   ]
  },
  {
   "cell_type": "code",
   "execution_count": 100,
   "id": "39b465b4",
   "metadata": {},
   "outputs": [
    {
     "data": {
      "text/html": [
       "<div>\n",
       "<style scoped>\n",
       "    .dataframe tbody tr th:only-of-type {\n",
       "        vertical-align: middle;\n",
       "    }\n",
       "\n",
       "    .dataframe tbody tr th {\n",
       "        vertical-align: top;\n",
       "    }\n",
       "\n",
       "    .dataframe thead th {\n",
       "        text-align: right;\n",
       "    }\n",
       "</style>\n",
       "<table border=\"1\" class=\"dataframe\">\n",
       "  <thead>\n",
       "    <tr style=\"text-align: right;\">\n",
       "      <th></th>\n",
       "      <th>IMG</th>\n",
       "      <th>QSN</th>\n",
       "      <th>TXT</th>\n",
       "      <th>OBJ</th>\n",
       "      <th>COL</th>\n",
       "      <th>CNT</th>\n",
       "      <th>OTH</th>\n",
       "    </tr>\n",
       "  </thead>\n",
       "  <tbody>\n",
       "    <tr>\n",
       "      <th>0</th>\n",
       "      <td>VizWiz_train_00000000.jpg</td>\n",
       "      <td>What's the name of this product?</td>\n",
       "      <td>4</td>\n",
       "      <td>3</td>\n",
       "      <td>0</td>\n",
       "      <td>0</td>\n",
       "      <td>0</td>\n",
       "    </tr>\n",
       "    <tr>\n",
       "      <th>1</th>\n",
       "      <td>VizWiz_train_00000001.jpg</td>\n",
       "      <td>Can you tell me what is in this can please?</td>\n",
       "      <td>2</td>\n",
       "      <td>5</td>\n",
       "      <td>1</td>\n",
       "      <td>1</td>\n",
       "      <td>0</td>\n",
       "    </tr>\n",
       "    <tr>\n",
       "      <th>2</th>\n",
       "      <td>VizWiz_train_00000002.jpg</td>\n",
       "      <td>Is this enchilada sauce or is this tomatoes?  ...</td>\n",
       "      <td>4</td>\n",
       "      <td>3</td>\n",
       "      <td>1</td>\n",
       "      <td>0</td>\n",
       "      <td>0</td>\n",
       "    </tr>\n",
       "    <tr>\n",
       "      <th>3</th>\n",
       "      <td>VizWiz_train_00000003.jpg</td>\n",
       "      <td>What is the captcha on this screenshot?</td>\n",
       "      <td>4</td>\n",
       "      <td>2</td>\n",
       "      <td>1</td>\n",
       "      <td>1</td>\n",
       "      <td>0</td>\n",
       "    </tr>\n",
       "    <tr>\n",
       "      <th>4</th>\n",
       "      <td>VizWiz_train_00000004.jpg</td>\n",
       "      <td>What is this item?</td>\n",
       "      <td>3</td>\n",
       "      <td>5</td>\n",
       "      <td>1</td>\n",
       "      <td>0</td>\n",
       "      <td>0</td>\n",
       "    </tr>\n",
       "  </tbody>\n",
       "</table>\n",
       "</div>"
      ],
      "text/plain": [
       "                         IMG  \\\n",
       "0  VizWiz_train_00000000.jpg   \n",
       "1  VizWiz_train_00000001.jpg   \n",
       "2  VizWiz_train_00000002.jpg   \n",
       "3  VizWiz_train_00000003.jpg   \n",
       "4  VizWiz_train_00000004.jpg   \n",
       "\n",
       "                                                 QSN  TXT  OBJ  COL  CNT  OTH  \n",
       "0                   What's the name of this product?    4    3    0    0    0  \n",
       "1        Can you tell me what is in this can please?    2    5    1    1    0  \n",
       "2  Is this enchilada sauce or is this tomatoes?  ...    4    3    1    0    0  \n",
       "3            What is the captcha on this screenshot?    4    2    1    1    0  \n",
       "4                                 What is this item?    3    5    1    0    0  "
      ]
     },
     "execution_count": 100,
     "metadata": {},
     "output_type": "execute_result"
    }
   ],
   "source": [
    "ocr = pd.read_csv('data/ocr.csv')\n",
    "ocr.head()"
   ]
  },
  {
   "cell_type": "code",
   "execution_count": 101,
   "id": "ebaaf74e",
   "metadata": {},
   "outputs": [
    {
     "data": {
      "text/plain": [
       "count    14239.000000\n",
       "mean         2.107732\n",
       "std          1.819784\n",
       "min          0.000000\n",
       "25%          0.000000\n",
       "50%          2.000000\n",
       "75%          4.000000\n",
       "max          5.000000\n",
       "Name: TXT, dtype: float64"
      ]
     },
     "execution_count": 101,
     "metadata": {},
     "output_type": "execute_result"
    }
   ],
   "source": [
    "ocr.TXT.describe()"
   ]
  },
  {
   "cell_type": "code",
   "execution_count": 102,
   "id": "daaedc8d",
   "metadata": {},
   "outputs": [
    {
     "data": {
      "text/html": [
       "<div>\n",
       "<style scoped>\n",
       "    .dataframe tbody tr th:only-of-type {\n",
       "        vertical-align: middle;\n",
       "    }\n",
       "\n",
       "    .dataframe tbody tr th {\n",
       "        vertical-align: top;\n",
       "    }\n",
       "\n",
       "    .dataframe thead th {\n",
       "        text-align: right;\n",
       "    }\n",
       "</style>\n",
       "<table border=\"1\" class=\"dataframe\">\n",
       "  <thead>\n",
       "    <tr style=\"text-align: right;\">\n",
       "      <th></th>\n",
       "      <th>IMG</th>\n",
       "      <th>QSN</th>\n",
       "      <th>TXT</th>\n",
       "      <th>OBJ</th>\n",
       "      <th>COL</th>\n",
       "      <th>CNT</th>\n",
       "      <th>OTH</th>\n",
       "    </tr>\n",
       "  </thead>\n",
       "  <tbody>\n",
       "    <tr>\n",
       "      <th>5</th>\n",
       "      <td>VizWiz_train_00000005.jpg</td>\n",
       "      <td>What's this?</td>\n",
       "      <td>1</td>\n",
       "      <td>5</td>\n",
       "      <td>1</td>\n",
       "      <td>0</td>\n",
       "      <td>0</td>\n",
       "    </tr>\n",
       "    <tr>\n",
       "      <th>8</th>\n",
       "      <td>VizWiz_train_00000008.jpg</td>\n",
       "      <td>What color do these look?</td>\n",
       "      <td>1</td>\n",
       "      <td>3</td>\n",
       "      <td>4</td>\n",
       "      <td>0</td>\n",
       "      <td>0</td>\n",
       "    </tr>\n",
       "    <tr>\n",
       "      <th>9</th>\n",
       "      <td>VizWiz_train_00000009.jpg</td>\n",
       "      <td>Surface look clean? Thank you.</td>\n",
       "      <td>0</td>\n",
       "      <td>5</td>\n",
       "      <td>1</td>\n",
       "      <td>0</td>\n",
       "      <td>0</td>\n",
       "    </tr>\n",
       "    <tr>\n",
       "      <th>10</th>\n",
       "      <td>VizWiz_train_00000010.jpg</td>\n",
       "      <td>Is this.</td>\n",
       "      <td>1</td>\n",
       "      <td>5</td>\n",
       "      <td>2</td>\n",
       "      <td>0</td>\n",
       "      <td>0</td>\n",
       "    </tr>\n",
       "    <tr>\n",
       "      <th>11</th>\n",
       "      <td>VizWiz_train_00000012.jpg</td>\n",
       "      <td>what is this?</td>\n",
       "      <td>0</td>\n",
       "      <td>5</td>\n",
       "      <td>2</td>\n",
       "      <td>0</td>\n",
       "      <td>0</td>\n",
       "    </tr>\n",
       "  </tbody>\n",
       "</table>\n",
       "</div>"
      ],
      "text/plain": [
       "                          IMG                             QSN  TXT  OBJ  COL  \\\n",
       "5   VizWiz_train_00000005.jpg                    What's this?    1    5    1   \n",
       "8   VizWiz_train_00000008.jpg       What color do these look?    1    3    4   \n",
       "9   VizWiz_train_00000009.jpg  Surface look clean? Thank you.    0    5    1   \n",
       "10  VizWiz_train_00000010.jpg                        Is this.    1    5    2   \n",
       "11  VizWiz_train_00000012.jpg                   what is this?    0    5    2   \n",
       "\n",
       "    CNT  OTH  \n",
       "5     0    0  \n",
       "8     0    0  \n",
       "9     0    0  \n",
       "10    0    0  \n",
       "11    0    0  "
      ]
     },
     "execution_count": 102,
     "metadata": {},
     "output_type": "execute_result"
    }
   ],
   "source": [
    "ocr_filtered = ocr[ocr.TXT <= 1]\n",
    "ocr_filtered.head()"
   ]
  },
  {
   "cell_type": "code",
   "execution_count": 103,
   "id": "f6eb9a35",
   "metadata": {},
   "outputs": [
    {
     "data": {
      "text/plain": [
       "count    6241.000000\n",
       "mean        0.273514\n",
       "std         0.445798\n",
       "min         0.000000\n",
       "25%         0.000000\n",
       "50%         0.000000\n",
       "75%         1.000000\n",
       "max         1.000000\n",
       "Name: TXT, dtype: float64"
      ]
     },
     "execution_count": 103,
     "metadata": {},
     "output_type": "execute_result"
    }
   ],
   "source": [
    "ocr_filtered.TXT.describe()"
   ]
  },
  {
   "cell_type": "code",
   "execution_count": 104,
   "id": "8f28d018",
   "metadata": {},
   "outputs": [],
   "source": [
    "data = pd.read_json('Annotations/train.json')"
   ]
  },
  {
   "cell_type": "code",
   "execution_count": 105,
   "id": "3585f216",
   "metadata": {},
   "outputs": [
    {
     "data": {
      "text/html": [
       "<div>\n",
       "<style scoped>\n",
       "    .dataframe tbody tr th:only-of-type {\n",
       "        vertical-align: middle;\n",
       "    }\n",
       "\n",
       "    .dataframe tbody tr th {\n",
       "        vertical-align: top;\n",
       "    }\n",
       "\n",
       "    .dataframe thead th {\n",
       "        text-align: right;\n",
       "    }\n",
       "</style>\n",
       "<table border=\"1\" class=\"dataframe\">\n",
       "  <thead>\n",
       "    <tr style=\"text-align: right;\">\n",
       "      <th></th>\n",
       "      <th>image</th>\n",
       "      <th>question</th>\n",
       "      <th>answers</th>\n",
       "      <th>answer_type</th>\n",
       "      <th>answerable</th>\n",
       "    </tr>\n",
       "  </thead>\n",
       "  <tbody>\n",
       "    <tr>\n",
       "      <th>5</th>\n",
       "      <td>VizWiz_train_00000005.jpg</td>\n",
       "      <td>What's this?</td>\n",
       "      <td>[{'answer_confidence': 'yes', 'answer': 'boots...</td>\n",
       "      <td>other</td>\n",
       "      <td>1</td>\n",
       "    </tr>\n",
       "    <tr>\n",
       "      <th>8</th>\n",
       "      <td>VizWiz_train_00000008.jpg</td>\n",
       "      <td>What color do these look?</td>\n",
       "      <td>[{'answer_confidence': 'yes', 'answer': 'orang...</td>\n",
       "      <td>other</td>\n",
       "      <td>1</td>\n",
       "    </tr>\n",
       "    <tr>\n",
       "      <th>9</th>\n",
       "      <td>VizWiz_train_00000009.jpg</td>\n",
       "      <td>Surface look clean? Thank you.</td>\n",
       "      <td>[{'answer_confidence': 'yes', 'answer': 'yes'}...</td>\n",
       "      <td>yes/no</td>\n",
       "      <td>1</td>\n",
       "    </tr>\n",
       "    <tr>\n",
       "      <th>10</th>\n",
       "      <td>VizWiz_train_00000010.jpg</td>\n",
       "      <td>Is this.</td>\n",
       "      <td>[{'answer_confidence': 'maybe', 'answer': 'and...</td>\n",
       "      <td>other</td>\n",
       "      <td>1</td>\n",
       "    </tr>\n",
       "    <tr>\n",
       "      <th>12</th>\n",
       "      <td>VizWiz_train_00000012.jpg</td>\n",
       "      <td>what is this?</td>\n",
       "      <td>[{'answer_confidence': 'yes', 'answer': 'remot...</td>\n",
       "      <td>other</td>\n",
       "      <td>1</td>\n",
       "    </tr>\n",
       "  </tbody>\n",
       "</table>\n",
       "</div>"
      ],
      "text/plain": [
       "                        image                        question  \\\n",
       "5   VizWiz_train_00000005.jpg                    What's this?   \n",
       "8   VizWiz_train_00000008.jpg       What color do these look?   \n",
       "9   VizWiz_train_00000009.jpg  Surface look clean? Thank you.   \n",
       "10  VizWiz_train_00000010.jpg                        Is this.   \n",
       "12  VizWiz_train_00000012.jpg                   what is this?   \n",
       "\n",
       "                                              answers answer_type  answerable  \n",
       "5   [{'answer_confidence': 'yes', 'answer': 'boots...       other           1  \n",
       "8   [{'answer_confidence': 'yes', 'answer': 'orang...       other           1  \n",
       "9   [{'answer_confidence': 'yes', 'answer': 'yes'}...      yes/no           1  \n",
       "10  [{'answer_confidence': 'maybe', 'answer': 'and...       other           1  \n",
       "12  [{'answer_confidence': 'yes', 'answer': 'remot...       other           1  "
      ]
     },
     "execution_count": 105,
     "metadata": {},
     "output_type": "execute_result"
    }
   ],
   "source": [
    "data_filtered = data[data.image.isin(ocr_filtered.IMG)]\n",
    "data_filtered.head()"
   ]
  },
  {
   "cell_type": "code",
   "execution_count": 106,
   "id": "35d11032",
   "metadata": {},
   "outputs": [
    {
     "name": "stdout",
     "output_type": "stream",
     "text": [
      "<class 'pandas.core.frame.DataFrame'>\n",
      "Int64Index: 6238 entries, 5 to 19924\n",
      "Data columns (total 5 columns):\n",
      " #   Column       Non-Null Count  Dtype \n",
      "---  ------       --------------  ----- \n",
      " 0   image        6238 non-null   object\n",
      " 1   question     6238 non-null   object\n",
      " 2   answers      6238 non-null   object\n",
      " 3   answer_type  6238 non-null   object\n",
      " 4   answerable   6238 non-null   int64 \n",
      "dtypes: int64(1), object(4)\n",
      "memory usage: 292.4+ KB\n"
     ]
    }
   ],
   "source": [
    "data_filtered.info()"
   ]
  },
  {
   "cell_type": "markdown",
   "id": "14e0678c",
   "metadata": {},
   "source": [
    "### Zašto ocr_filtered ima 6241, a data_filtered 6238 elementara? nzm"
   ]
  },
  {
   "cell_type": "code",
   "execution_count": 107,
   "id": "6e504c43",
   "metadata": {},
   "outputs": [
    {
     "data": {
      "text/plain": [
       "count      6238\n",
       "unique        4\n",
       "top       other\n",
       "freq       5678\n",
       "Name: answer_type, dtype: object"
      ]
     },
     "execution_count": 107,
     "metadata": {},
     "output_type": "execute_result"
    }
   ],
   "source": [
    "data_filtered.answer_type.describe()"
   ]
  },
  {
   "cell_type": "code",
   "execution_count": 108,
   "id": "3c8c3d19",
   "metadata": {},
   "outputs": [
    {
     "data": {
      "text/plain": [
       "array(['other', 'yes/no', 'number', 'unanswerable'], dtype=object)"
      ]
     },
     "execution_count": 108,
     "metadata": {},
     "output_type": "execute_result"
    }
   ],
   "source": [
    "data_filtered.answer_type.unique()"
   ]
  },
  {
   "cell_type": "code",
   "execution_count": 109,
   "id": "4da1a20a",
   "metadata": {},
   "outputs": [],
   "source": [
    "train, test = train_test_split(data_filtered, train_size=0.9, stratify=data_filtered.answer_type)\n",
    "train.to_json('data/train.json')\n",
    "test.to_json('data/test.json')"
   ]
  },
  {
   "cell_type": "code",
   "execution_count": 110,
   "id": "04906fe7",
   "metadata": {},
   "outputs": [
    {
     "data": {
      "text/html": [
       "<div>\n",
       "<style scoped>\n",
       "    .dataframe tbody tr th:only-of-type {\n",
       "        vertical-align: middle;\n",
       "    }\n",
       "\n",
       "    .dataframe tbody tr th {\n",
       "        vertical-align: top;\n",
       "    }\n",
       "\n",
       "    .dataframe thead th {\n",
       "        text-align: right;\n",
       "    }\n",
       "</style>\n",
       "<table border=\"1\" class=\"dataframe\">\n",
       "  <thead>\n",
       "    <tr style=\"text-align: right;\">\n",
       "      <th></th>\n",
       "      <th>image</th>\n",
       "      <th>question</th>\n",
       "      <th>answers</th>\n",
       "      <th>answer_type</th>\n",
       "      <th>answerable</th>\n",
       "    </tr>\n",
       "  </thead>\n",
       "  <tbody>\n",
       "    <tr>\n",
       "      <th>13750</th>\n",
       "      <td>VizWiz_train_00013750.jpg</td>\n",
       "      <td>Can you tell what color this dress is?</td>\n",
       "      <td>[{'answer_confidence': 'yes', 'answer': 'blue ...</td>\n",
       "      <td>other</td>\n",
       "      <td>1</td>\n",
       "    </tr>\n",
       "    <tr>\n",
       "      <th>14965</th>\n",
       "      <td>VizWiz_train_00014965.jpg</td>\n",
       "      <td>What color is this?</td>\n",
       "      <td>[{'answer_confidence': 'yes', 'answer': 'blue'...</td>\n",
       "      <td>other</td>\n",
       "      <td>1</td>\n",
       "    </tr>\n",
       "    <tr>\n",
       "      <th>1130</th>\n",
       "      <td>VizWiz_train_00001130.jpg</td>\n",
       "      <td>What is this item?</td>\n",
       "      <td>[{'answer_confidence': 'yes', 'answer': 'cell ...</td>\n",
       "      <td>other</td>\n",
       "      <td>1</td>\n",
       "    </tr>\n",
       "    <tr>\n",
       "      <th>12246</th>\n",
       "      <td>VizWiz_train_00012246.jpg</td>\n",
       "      <td>What is this?</td>\n",
       "      <td>[{'answer_confidence': 'yes', 'answer': 'pictu...</td>\n",
       "      <td>other</td>\n",
       "      <td>1</td>\n",
       "    </tr>\n",
       "    <tr>\n",
       "      <th>12592</th>\n",
       "      <td>VizWiz_train_00012592.jpg</td>\n",
       "      <td>What color is this cat?</td>\n",
       "      <td>[{'answer_confidence': 'yes', 'answer': 'brown...</td>\n",
       "      <td>other</td>\n",
       "      <td>1</td>\n",
       "    </tr>\n",
       "  </tbody>\n",
       "</table>\n",
       "</div>"
      ],
      "text/plain": [
       "                           image                                question  \\\n",
       "13750  VizWiz_train_00013750.jpg  Can you tell what color this dress is?   \n",
       "14965  VizWiz_train_00014965.jpg                     What color is this?   \n",
       "1130   VizWiz_train_00001130.jpg                      What is this item?   \n",
       "12246  VizWiz_train_00012246.jpg                           What is this?   \n",
       "12592  VizWiz_train_00012592.jpg                 What color is this cat?   \n",
       "\n",
       "                                                 answers answer_type  \\\n",
       "13750  [{'answer_confidence': 'yes', 'answer': 'blue ...       other   \n",
       "14965  [{'answer_confidence': 'yes', 'answer': 'blue'...       other   \n",
       "1130   [{'answer_confidence': 'yes', 'answer': 'cell ...       other   \n",
       "12246  [{'answer_confidence': 'yes', 'answer': 'pictu...       other   \n",
       "12592  [{'answer_confidence': 'yes', 'answer': 'brown...       other   \n",
       "\n",
       "       answerable  \n",
       "13750           1  \n",
       "14965           1  \n",
       "1130            1  \n",
       "12246           1  \n",
       "12592           1  "
      ]
     },
     "execution_count": 110,
     "metadata": {},
     "output_type": "execute_result"
    }
   ],
   "source": [
    "train = pd.read_json('data/train.json')\n",
    "train.head()"
   ]
  },
  {
   "cell_type": "code",
   "execution_count": 111,
   "id": "6f981015",
   "metadata": {},
   "outputs": [
    {
     "data": {
      "text/html": [
       "<div>\n",
       "<style scoped>\n",
       "    .dataframe tbody tr th:only-of-type {\n",
       "        vertical-align: middle;\n",
       "    }\n",
       "\n",
       "    .dataframe tbody tr th {\n",
       "        vertical-align: top;\n",
       "    }\n",
       "\n",
       "    .dataframe thead th {\n",
       "        text-align: right;\n",
       "    }\n",
       "</style>\n",
       "<table border=\"1\" class=\"dataframe\">\n",
       "  <thead>\n",
       "    <tr style=\"text-align: right;\">\n",
       "      <th></th>\n",
       "      <th>image</th>\n",
       "      <th>question</th>\n",
       "      <th>answers</th>\n",
       "      <th>answer_type</th>\n",
       "      <th>answerable</th>\n",
       "    </tr>\n",
       "  </thead>\n",
       "  <tbody>\n",
       "    <tr>\n",
       "      <th>9485</th>\n",
       "      <td>VizWiz_train_00009485.jpg</td>\n",
       "      <td>What color is this sweater please?</td>\n",
       "      <td>[{'answer_confidence': 'yes', 'answer': 'beige...</td>\n",
       "      <td>other</td>\n",
       "      <td>1</td>\n",
       "    </tr>\n",
       "    <tr>\n",
       "      <th>4991</th>\n",
       "      <td>VizWiz_train_00004991.jpg</td>\n",
       "      <td>What do you see?</td>\n",
       "      <td>[{'answer_confidence': 'yes', 'answer': 'ceili...</td>\n",
       "      <td>other</td>\n",
       "      <td>1</td>\n",
       "    </tr>\n",
       "    <tr>\n",
       "      <th>3626</th>\n",
       "      <td>VizWiz_train_00003626.jpg</td>\n",
       "      <td>Does this outfit match?</td>\n",
       "      <td>[{'answer_confidence': 'maybe', 'answer': 'no'...</td>\n",
       "      <td>yes/no</td>\n",
       "      <td>1</td>\n",
       "    </tr>\n",
       "    <tr>\n",
       "      <th>5530</th>\n",
       "      <td>VizWiz_train_00005530.jpg</td>\n",
       "      <td>What kind of car is this?</td>\n",
       "      <td>[{'answer_confidence': 'yes', 'answer': 'ford'...</td>\n",
       "      <td>other</td>\n",
       "      <td>1</td>\n",
       "    </tr>\n",
       "    <tr>\n",
       "      <th>13032</th>\n",
       "      <td>VizWiz_train_00013032.jpg</td>\n",
       "      <td>What is this?</td>\n",
       "      <td>[{'answer_confidence': 'yes', 'answer': 'unans...</td>\n",
       "      <td>other</td>\n",
       "      <td>1</td>\n",
       "    </tr>\n",
       "  </tbody>\n",
       "</table>\n",
       "</div>"
      ],
      "text/plain": [
       "                           image                            question  \\\n",
       "9485   VizWiz_train_00009485.jpg  What color is this sweater please?   \n",
       "4991   VizWiz_train_00004991.jpg                    What do you see?   \n",
       "3626   VizWiz_train_00003626.jpg             Does this outfit match?   \n",
       "5530   VizWiz_train_00005530.jpg           What kind of car is this?   \n",
       "13032  VizWiz_train_00013032.jpg                       What is this?   \n",
       "\n",
       "                                                 answers answer_type  \\\n",
       "9485   [{'answer_confidence': 'yes', 'answer': 'beige...       other   \n",
       "4991   [{'answer_confidence': 'yes', 'answer': 'ceili...       other   \n",
       "3626   [{'answer_confidence': 'maybe', 'answer': 'no'...      yes/no   \n",
       "5530   [{'answer_confidence': 'yes', 'answer': 'ford'...       other   \n",
       "13032  [{'answer_confidence': 'yes', 'answer': 'unans...       other   \n",
       "\n",
       "       answerable  \n",
       "9485            1  \n",
       "4991            1  \n",
       "3626            1  \n",
       "5530            1  \n",
       "13032           1  "
      ]
     },
     "execution_count": 111,
     "metadata": {},
     "output_type": "execute_result"
    }
   ],
   "source": [
    "test = pd.read_json('data/test.json')\n",
    "test.head()"
   ]
  },
  {
   "cell_type": "code",
   "execution_count": 112,
   "id": "aa8cf713",
   "metadata": {},
   "outputs": [
    {
     "name": "stdout",
     "output_type": "stream",
     "text": [
      "<class 'pandas.core.frame.DataFrame'>\n",
      "Int64Index: 5614 entries, 13750 to 12060\n",
      "Data columns (total 5 columns):\n",
      " #   Column       Non-Null Count  Dtype \n",
      "---  ------       --------------  ----- \n",
      " 0   image        5614 non-null   object\n",
      " 1   question     5614 non-null   object\n",
      " 2   answers      5614 non-null   object\n",
      " 3   answer_type  5614 non-null   object\n",
      " 4   answerable   5614 non-null   int64 \n",
      "dtypes: int64(1), object(4)\n",
      "memory usage: 263.2+ KB\n"
     ]
    }
   ],
   "source": [
    "train.info()"
   ]
  },
  {
   "cell_type": "code",
   "execution_count": 113,
   "id": "cafc3caa",
   "metadata": {},
   "outputs": [
    {
     "name": "stdout",
     "output_type": "stream",
     "text": [
      "<class 'pandas.core.frame.DataFrame'>\n",
      "Int64Index: 624 entries, 9485 to 6834\n",
      "Data columns (total 5 columns):\n",
      " #   Column       Non-Null Count  Dtype \n",
      "---  ------       --------------  ----- \n",
      " 0   image        624 non-null    object\n",
      " 1   question     624 non-null    object\n",
      " 2   answers      624 non-null    object\n",
      " 3   answer_type  624 non-null    object\n",
      " 4   answerable   624 non-null    int64 \n",
      "dtypes: int64(1), object(4)\n",
      "memory usage: 29.2+ KB\n"
     ]
    }
   ],
   "source": [
    "test.info()"
   ]
  },
  {
   "cell_type": "code",
   "execution_count": 114,
   "id": "dec65715",
   "metadata": {},
   "outputs": [
    {
     "data": {
      "image/png": "[encoded data removed]",
      "text/plain": [
       "<Figure size 432x288 with 1 Axes>"
      ]
     },
     "metadata": {},
     "output_type": "display_data"
    }
   ],
   "source": [
    "num = data_filtered[data_filtered.answer_type == 'number'].count()[0]\n",
    "yn = data_filtered[data_filtered.answer_type == 'yes/no'].count()[0]\n",
    "other = data_filtered[data_filtered.answer_type == 'other'].count()[0]\n",
    "u = data_filtered[data_filtered.answer_type == 'unanswerable'].count()[0]\n",
    "ans_type_count = np.array([num, yn, other, u])\n",
    "labels = [\"number\", \"yes/no\", \"other\", \"unanswerable\"]\n",
    "\n",
    "plt.pie(ans_type_count, labels=labels, startangle=90, autopct='%1.2f%%')\n",
    "plt.show()"
   ]
  },
  {
   "cell_type": "code",
   "execution_count": 115,
   "id": "75a89aaf",
   "metadata": {},
   "outputs": [
    {
     "data": {
      "image/png": "[encoded data removed]",
      "text/plain": [
       "<Figure size 432x288 with 1 Axes>"
      ]
     },
     "metadata": {},
     "output_type": "display_data"
    }
   ],
   "source": [
    "num = train[train.answer_type == 'number'].count()[0]\n",
    "yn = train[train.answer_type == 'yes/no'].count()[0]\n",
    "other = train[train.answer_type == 'other'].count()[0]\n",
    "u = train[train.answer_type == 'unanswerable'].count()[0]\n",
    "ans_type_count = np.array([num, yn, other, u])\n",
    "labels = [\"number\", \"yes/no\", \"other\", \"unanswerable\"]\n",
    "\n",
    "plt.pie(ans_type_count, labels=labels, startangle=90, autopct='%1.2f%%')\n",
    "plt.show()"
   ]
  },
  {
   "cell_type": "code",
   "execution_count": 116,
   "id": "4f07eae5",
   "metadata": {},
   "outputs": [
    {
     "data": {
      "image/png": "[encoded data removed]",
      "text/plain": [
       "<Figure size 432x288 with 1 Axes>"
      ]
     },
     "metadata": {},
     "output_type": "display_data"
    }
   ],
   "source": [
    "num = test[test.answer_type == 'number'].count()[0]\n",
    "yn = test[test.answer_type == 'yes/no'].count()[0]\n",
    "other = test[test.answer_type == 'other'].count()[0]\n",
    "u = test[test.answer_type == 'unanswerable'].count()[0]\n",
    "ans_type_count = np.array([num, yn, other, u])\n",
    "labels = [\"number\", \"yes/no\", \"other\", \"unanswerable\"]\n",
    "\n",
    "plt.pie(ans_type_count, labels=labels, startangle=90, autopct='%1.2f%%')\n",
    "plt.show()"
   ]
  },
  {
   "cell_type": "markdown",
   "id": "c0c7f403",
   "metadata": {},
   "source": [
    "### jako malo unanswerable => ne moramo ih izbacivati"
   ]
  },
  {
   "cell_type": "code",
   "execution_count": null,
   "id": "a38462e6",
   "metadata": {},
   "outputs": [],
   "source": []
  }
 ],
 "metadata": {
  "kernelspec": {
   "display_name": "Python 3 (ipykernel)",
   "language": "python",
   "name": "python3"
  },
  "language_info": {
   "codemirror_mode": {
    "name": "ipython",
    "version": 3
   },
   "file_extension": ".py",
   "mimetype": "text/x-python",
   "name": "python",
   "nbconvert_exporter": "python",
   "pygments_lexer": "ipython3",
   "version": "3.8.10"
  }
 },
 "nbformat": 4,
 "nbformat_minor": 5
}
