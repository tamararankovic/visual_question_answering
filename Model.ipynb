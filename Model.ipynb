{
 "cells": [
  {
   "cell_type": "code",
   "execution_count": 252,
   "id": "28595c40",
   "metadata": {},
   "outputs": [],
   "source": [
    "import numpy as np\n",
    "from keras.layers import Layer, Concatenate, Input, Dense\n",
    "import keras.backend as K\n",
    "from keras.models import load_model, Model\n",
    "from keras.metrics import CategoricalAccuracy\n",
    "import pandas as pd\n",
    "import tensorflow as tf\n",
    "from matplotlib import pyplot as plt\n",
    "from keras.callbacks import EarlyStopping, ModelCheckpoint\n",
    "from keras.utils import custom_object_scope\n",
    "from keras.losses import CategoricalCrossentropy"
   ]
  },
  {
   "cell_type": "code",
   "execution_count": 253,
   "id": "48f69028",
   "metadata": {},
   "outputs": [],
   "source": [
    "model_dir = 'model'\n",
    "tanh_layer_size = 300\n",
    "input_size = 1280\n",
    "output_size = 2327\n",
    "regions = 15"
   ]
  },
  {
   "cell_type": "code",
   "execution_count": 254,
   "id": "2133c182",
   "metadata": {},
   "outputs": [],
   "source": [
    "class QGAttention(Layer):\n",
    "    def __init__(self, tanh_layer_size):\n",
    "        super(QGAttention, self).__init__()\n",
    "        self.tanh_layer_size = tanh_layer_size\n",
    " \n",
    "    def build(self,input_shape):\n",
    "        self.W1 = self.add_weight(name='attention_weight', shape=(input_shape[2], self.tanh_layer_size), \n",
    "                               initializer='random_normal', trainable=True)\n",
    "        self.W2 = self.add_weight(name='attention_weight2', shape=(self.tanh_layer_size, 1), \n",
    "                               initializer='random_normal', trainable=True)\n",
    "        #self.b=self.add_weight(name='attention_bias', shape=(1, 32), \n",
    "        #                       initializer='zeros', trainable=True)        \n",
    "        super(QGAttention, self).build(input_shape)\n",
    " \n",
    "    def get_config(self):\n",
    "        config = super().get_config()\n",
    "        config.update({\n",
    "            \"tanh_layer_size\": self.tanh_layer_size,\n",
    "        })\n",
    "        return config\n",
    "    \n",
    "    # x = [batch_size, vector_length, regions]\n",
    "    def call(self,x):\n",
    "        #tanh layer\n",
    "        e = K.tanh(K.dot(x, self.W1))\n",
    "        #linear layer\n",
    "        #print('e: ', e)\n",
    "        e = K.dot(e, self.W2)\n",
    "        #print('e: ', e)\n",
    "        # Remove dimension of size 1\n",
    "        e = K.squeeze(e, axis=-1)   \n",
    "        #print('e: ', e)\n",
    "        # Compute the weights\n",
    "        alpha = K.softmax(e)\n",
    "        #print('alpha: ', alpha)\n",
    "        # Reshape to tensorFlow format\n",
    "        alpha = K.expand_dims(alpha, axis=-1)\n",
    "        #print('alpha: ', alpha)\n",
    "        # Compute the context vector\n",
    "        context = x * alpha\n",
    "        #print('context: ', context)\n",
    "        context = K.sum(context, axis=1)\n",
    "        #print('context: ', context)\n",
    "        return context"
   ]
  },
  {
   "cell_type": "code",
   "execution_count": 255,
   "id": "cd32a40b",
   "metadata": {},
   "outputs": [],
   "source": [
    "def get_model(regions, vector_input_size, tanh_layer_size):\n",
    "    inputs = Input(shape=(regions, vector_input_size))\n",
    "    inputs2 = QGAttention(tanh_layer_size)(inputs)\n",
    "    outputs = Dense(output_size)(inputs2)\n",
    "    model = Model(inputs=inputs, outputs=outputs)\n",
    "    model.compile(\n",
    "        optimizer=\"adam\", \n",
    "        loss=CategoricalCrossentropy(\n",
    "            from_logits=False,\n",
    "            label_smoothing=0.0,\n",
    "            axis=-0,\n",
    "            reduction=\"auto\",\n",
    "            name=\"categorical_crossentropy\",\n",
    "        ),\n",
    "        metrics=[CategoricalAccuracy()]\n",
    "    )\n",
    "    return model"
   ]
  },
  {
   "cell_type": "code",
   "execution_count": 270,
   "id": "003945f9",
   "metadata": {},
   "outputs": [],
   "source": [
    "def train(x, y):\n",
    "    model = get_model(regions, input_size, tanh_layer_size)\n",
    "    print(model.summary())\n",
    "    \n",
    "    es = EarlyStopping(monitor='val_categorical_accuracy', \n",
    "                       mode='max', \n",
    "#                        min_delta=0.5, \n",
    "                       patience=50)\n",
    "    mc = ModelCheckpoint('model/best_model.h5', \n",
    "                         monitor='val_categorical_accuracy', \n",
    "                         mode='max', \n",
    "                         save_best_only=True,\n",
    "                         save_weights_only=True)\n",
    "    \n",
    "    history = model.fit(x, y, \n",
    "                        verbose=2, \n",
    "                        validation_split=0.1, \n",
    "                        epochs=1000, \n",
    "                        callbacks=[es, mc])\n",
    "    \n",
    "    model.load_weights('model/best_model.h5')\n",
    "    \n",
    "    old_model = load_model(model_dir)\n",
    "    _, old_acc = evaluate(x, y)\n",
    "    _, new_acc = evaluate(x, y)\n",
    "    if new_acc > old_acc:\n",
    "        model.save(model_dir)\n",
    "    return history"
   ]
  },
  {
   "cell_type": "code",
   "execution_count": 271,
   "id": "e1d2a181",
   "metadata": {},
   "outputs": [],
   "source": [
    "def predict(x):\n",
    "    model = load_model(model_dir)\n",
    "    print(model.predict(x))"
   ]
  },
  {
   "cell_type": "code",
   "execution_count": 272,
   "id": "2ebe37a4",
   "metadata": {},
   "outputs": [],
   "source": [
    "def evaluate(x, y):\n",
    "    model = load_model(model_dir)\n",
    "    return model.evaluate(x, y)"
   ]
  },
  {
   "cell_type": "code",
   "execution_count": 273,
   "id": "70aa170b",
   "metadata": {},
   "outputs": [],
   "source": [
    "def concat(question_str, regions_str):\n",
    "    question = str2fv(question_str)\n",
    "    regs = str2fvs(regions_str)\n",
    "    result = []\n",
    "    regs_count = len(regs)\n",
    "    for i in range(0, regions):\n",
    "        if i >= regs_count-1:\n",
    "            result.append([0]*1280)\n",
    "            continue\n",
    "        reg = regs[i]\n",
    "        reg.extend(question)\n",
    "        result.append(reg)\n",
    "    return result\n",
    "    \n",
    "def str2fvs(string):\n",
    "    fvs = []\n",
    "    for strfv in string.split('#'):\n",
    "        fv = []\n",
    "        for v in strfv.split('|'):\n",
    "            fv.append(float(v))\n",
    "        fvs.append(fv)\n",
    "    return fvs\n",
    "\n",
    "def str2fv(string):\n",
    "    fv = []\n",
    "    for v in string.split('|'):\n",
    "        fv.append(float(v))\n",
    "    return fv"
   ]
  },
  {
   "cell_type": "code",
   "execution_count": 274,
   "id": "9ec736d9",
   "metadata": {},
   "outputs": [
    {
     "data": {
      "text/html": [
       "<div>\n",
       "<style scoped>\n",
       "    .dataframe tbody tr th:only-of-type {\n",
       "        vertical-align: middle;\n",
       "    }\n",
       "\n",
       "    .dataframe tbody tr th {\n",
       "        vertical-align: top;\n",
       "    }\n",
       "\n",
       "    .dataframe thead th {\n",
       "        text-align: right;\n",
       "    }\n",
       "</style>\n",
       "<table border=\"1\" class=\"dataframe\">\n",
       "  <thead>\n",
       "    <tr style=\"text-align: right;\">\n",
       "      <th></th>\n",
       "      <th>question</th>\n",
       "      <th>id</th>\n",
       "      <th>img_regions</th>\n",
       "      <th>answer_type</th>\n",
       "      <th>0.1</th>\n",
       "      <th>00 310 539</th>\n",
       "      <th>1</th>\n",
       "      <th>1 08 11</th>\n",
       "      <th>1 3</th>\n",
       "      <th>1 4 ounce</th>\n",
       "      <th>...</th>\n",
       "      <th>yes green grey</th>\n",
       "      <th>yes grey shirt</th>\n",
       "      <th>yes no</th>\n",
       "      <th>yes on</th>\n",
       "      <th>yes white</th>\n",
       "      <th>yes yes</th>\n",
       "      <th>yogurt</th>\n",
       "      <th>yoplait</th>\n",
       "      <th>yorkie</th>\n",
       "      <th>zipper</th>\n",
       "    </tr>\n",
       "  </thead>\n",
       "  <tbody>\n",
       "    <tr>\n",
       "      <th>0</th>\n",
       "      <td>-0.2378118336200714|0.343080997467041|-0.21145...</td>\n",
       "      <td>1616</td>\n",
       "      <td>0.4848161041736603|0.8302670121192932|0.333211...</td>\n",
       "      <td>other</td>\n",
       "      <td>0</td>\n",
       "      <td>0</td>\n",
       "      <td>0</td>\n",
       "      <td>0</td>\n",
       "      <td>0</td>\n",
       "      <td>0</td>\n",
       "      <td>...</td>\n",
       "      <td>0</td>\n",
       "      <td>0</td>\n",
       "      <td>0</td>\n",
       "      <td>0</td>\n",
       "      <td>0</td>\n",
       "      <td>0</td>\n",
       "      <td>0</td>\n",
       "      <td>0</td>\n",
       "      <td>0</td>\n",
       "      <td>0</td>\n",
       "    </tr>\n",
       "    <tr>\n",
       "      <th>1</th>\n",
       "      <td>-0.06691977381706238|0.34440624713897705|-0.22...</td>\n",
       "      <td>11910</td>\n",
       "      <td>0.5611845254898071|0.39622652530670166|0.21795...</td>\n",
       "      <td>other</td>\n",
       "      <td>0</td>\n",
       "      <td>0</td>\n",
       "      <td>0</td>\n",
       "      <td>0</td>\n",
       "      <td>0</td>\n",
       "      <td>0</td>\n",
       "      <td>...</td>\n",
       "      <td>0</td>\n",
       "      <td>0</td>\n",
       "      <td>0</td>\n",
       "      <td>0</td>\n",
       "      <td>0</td>\n",
       "      <td>0</td>\n",
       "      <td>0</td>\n",
       "      <td>0</td>\n",
       "      <td>0</td>\n",
       "      <td>0</td>\n",
       "    </tr>\n",
       "    <tr>\n",
       "      <th>2</th>\n",
       "      <td>-0.11341997981071472|0.2821967899799347|-0.144...</td>\n",
       "      <td>13392</td>\n",
       "      <td>0.9789563417434692|0.17534661293029785|0.13067...</td>\n",
       "      <td>other</td>\n",
       "      <td>0</td>\n",
       "      <td>0</td>\n",
       "      <td>0</td>\n",
       "      <td>0</td>\n",
       "      <td>0</td>\n",
       "      <td>0</td>\n",
       "      <td>...</td>\n",
       "      <td>0</td>\n",
       "      <td>0</td>\n",
       "      <td>0</td>\n",
       "      <td>0</td>\n",
       "      <td>0</td>\n",
       "      <td>0</td>\n",
       "      <td>0</td>\n",
       "      <td>0</td>\n",
       "      <td>0</td>\n",
       "      <td>0</td>\n",
       "    </tr>\n",
       "    <tr>\n",
       "      <th>3</th>\n",
       "      <td>-0.10996074229478836|0.4101363718509674|-0.159...</td>\n",
       "      <td>7274</td>\n",
       "      <td>1.396734595298767|0.0643806904554367|0.0101861...</td>\n",
       "      <td>other</td>\n",
       "      <td>0</td>\n",
       "      <td>0</td>\n",
       "      <td>0</td>\n",
       "      <td>0</td>\n",
       "      <td>0</td>\n",
       "      <td>0</td>\n",
       "      <td>...</td>\n",
       "      <td>0</td>\n",
       "      <td>0</td>\n",
       "      <td>0</td>\n",
       "      <td>0</td>\n",
       "      <td>0</td>\n",
       "      <td>0</td>\n",
       "      <td>0</td>\n",
       "      <td>0</td>\n",
       "      <td>0</td>\n",
       "      <td>0</td>\n",
       "    </tr>\n",
       "    <tr>\n",
       "      <th>4</th>\n",
       "      <td>0.10682886093854904|0.34835386276245117|-0.120...</td>\n",
       "      <td>15488</td>\n",
       "      <td>0.34761351346969604|1.1078996658325195|0.77606...</td>\n",
       "      <td>other</td>\n",
       "      <td>0</td>\n",
       "      <td>0</td>\n",
       "      <td>0</td>\n",
       "      <td>0</td>\n",
       "      <td>0</td>\n",
       "      <td>0</td>\n",
       "      <td>...</td>\n",
       "      <td>0</td>\n",
       "      <td>0</td>\n",
       "      <td>0</td>\n",
       "      <td>0</td>\n",
       "      <td>0</td>\n",
       "      <td>0</td>\n",
       "      <td>0</td>\n",
       "      <td>0</td>\n",
       "      <td>0</td>\n",
       "      <td>0</td>\n",
       "    </tr>\n",
       "  </tbody>\n",
       "</table>\n",
       "<p>5 rows × 2331 columns</p>\n",
       "</div>"
      ],
      "text/plain": [
       "                                            question     id  \\\n",
       "0  -0.2378118336200714|0.343080997467041|-0.21145...   1616   \n",
       "1  -0.06691977381706238|0.34440624713897705|-0.22...  11910   \n",
       "2  -0.11341997981071472|0.2821967899799347|-0.144...  13392   \n",
       "3  -0.10996074229478836|0.4101363718509674|-0.159...   7274   \n",
       "4  0.10682886093854904|0.34835386276245117|-0.120...  15488   \n",
       "\n",
       "                                         img_regions answer_type  0.1  \\\n",
       "0  0.4848161041736603|0.8302670121192932|0.333211...       other    0   \n",
       "1  0.5611845254898071|0.39622652530670166|0.21795...       other    0   \n",
       "2  0.9789563417434692|0.17534661293029785|0.13067...       other    0   \n",
       "3  1.396734595298767|0.0643806904554367|0.0101861...       other    0   \n",
       "4  0.34761351346969604|1.1078996658325195|0.77606...       other    0   \n",
       "\n",
       "   00 310 539  1  1 08 11  1 3  1 4 ounce  ...  yes green grey  \\\n",
       "0           0  0        0    0          0  ...               0   \n",
       "1           0  0        0    0          0  ...               0   \n",
       "2           0  0        0    0          0  ...               0   \n",
       "3           0  0        0    0          0  ...               0   \n",
       "4           0  0        0    0          0  ...               0   \n",
       "\n",
       "   yes grey shirt  yes no  yes on  yes white  yes yes  yogurt  yoplait  \\\n",
       "0               0       0       0          0        0       0        0   \n",
       "1               0       0       0          0        0       0        0   \n",
       "2               0       0       0          0        0       0        0   \n",
       "3               0       0       0          0        0       0        0   \n",
       "4               0       0       0          0        0       0        0   \n",
       "\n",
       "   yorkie  zipper  \n",
       "0       0       0  \n",
       "1       0       0  \n",
       "2       0       0  \n",
       "3       0       0  \n",
       "4       0       0  \n",
       "\n",
       "[5 rows x 2331 columns]"
      ]
     },
     "execution_count": 274,
     "metadata": {},
     "output_type": "execute_result"
    }
   ],
   "source": [
    "df = pd.read_csv('data/train.csv')\n",
    "df.head()"
   ]
  },
  {
   "cell_type": "code",
   "execution_count": 275,
   "id": "c268a035",
   "metadata": {},
   "outputs": [
    {
     "name": "stdout",
     "output_type": "stream",
     "text": [
      "Model: \"model_22\"\n",
      "_________________________________________________________________\n",
      " Layer (type)                Output Shape              Param #   \n",
      "=================================================================\n",
      " input_23 (InputLayer)       [(None, 15, 1280)]        0         \n",
      "                                                                 \n",
      " qg_attention_22 (QGAttentio  (None, 1280)             384300    \n",
      " n)                                                              \n",
      "                                                                 \n",
      " dense_22 (Dense)            (None, 2327)              2980887   \n",
      "                                                                 \n",
      "=================================================================\n",
      "Total params: 3,365,187\n",
      "Trainable params: 3,365,187\n",
      "Non-trainable params: 0\n",
      "_________________________________________________________________\n",
      "None\n",
      "Epoch 1/1000\n",
      "158/158 - 3s - loss: 0.2023 - categorical_accuracy: 0.0170 - val_loss: 0.1895 - val_categorical_accuracy: 0.0018 - 3s/epoch - 16ms/step\n",
      "Epoch 2/1000\n",
      "158/158 - 2s - loss: 0.1907 - categorical_accuracy: 0.0107 - val_loss: 0.1772 - val_categorical_accuracy: 0.0018 - 2s/epoch - 14ms/step\n",
      "Epoch 3/1000\n",
      "158/158 - 2s - loss: 0.1986 - categorical_accuracy: 0.0099 - val_loss: 0.1890 - val_categorical_accuracy: 0.0036 - 2s/epoch - 14ms/step\n",
      "Epoch 4/1000\n",
      "158/158 - 2s - loss: 0.1913 - categorical_accuracy: 0.0105 - val_loss: 0.1867 - val_categorical_accuracy: 0.0018 - 2s/epoch - 14ms/step\n",
      "Epoch 5/1000\n",
      "158/158 - 2s - loss: 0.1982 - categorical_accuracy: 0.0105 - val_loss: 0.1859 - val_categorical_accuracy: 0.0018 - 2s/epoch - 14ms/step\n",
      "Epoch 6/1000\n",
      "158/158 - 2s - loss: 0.1983 - categorical_accuracy: 0.0057 - val_loss: 0.1838 - val_categorical_accuracy: 0.0018 - 2s/epoch - 14ms/step\n",
      "Epoch 7/1000\n",
      "158/158 - 2s - loss: 0.2128 - categorical_accuracy: 0.0032 - val_loss: 0.2054 - val_categorical_accuracy: 0.0018 - 2s/epoch - 14ms/step\n",
      "Epoch 8/1000\n",
      "158/158 - 2s - loss: 0.2170 - categorical_accuracy: 0.0032 - val_loss: 0.2071 - val_categorical_accuracy: 0.0018 - 2s/epoch - 14ms/step\n",
      "Epoch 9/1000\n",
      "158/158 - 2s - loss: 0.2192 - categorical_accuracy: 0.0030 - val_loss: 0.2062 - val_categorical_accuracy: 0.0018 - 2s/epoch - 14ms/step\n",
      "Epoch 10/1000\n",
      "158/158 - 2s - loss: 0.2205 - categorical_accuracy: 0.0026 - val_loss: 0.2060 - val_categorical_accuracy: 0.0000e+00 - 2s/epoch - 14ms/step\n",
      "Epoch 11/1000\n",
      "158/158 - 2s - loss: 0.2213 - categorical_accuracy: 3.9588e-04 - val_loss: 0.2056 - val_categorical_accuracy: 0.0000e+00 - 2s/epoch - 14ms/step\n",
      "Epoch 12/1000\n",
      "158/158 - 2s - loss: 0.2205 - categorical_accuracy: 9.8971e-04 - val_loss: 0.2045 - val_categorical_accuracy: 0.0000e+00 - 2s/epoch - 14ms/step\n",
      "Epoch 13/1000\n",
      "158/158 - 2s - loss: 0.2208 - categorical_accuracy: 0.0014 - val_loss: 0.2000 - val_categorical_accuracy: 0.0000e+00 - 2s/epoch - 14ms/step\n",
      "Epoch 14/1000\n",
      "158/158 - 2s - loss: 0.2094 - categorical_accuracy: 0.0024 - val_loss: 0.1862 - val_categorical_accuracy: 0.0000e+00 - 2s/epoch - 14ms/step\n",
      "Epoch 15/1000\n",
      "158/158 - 2s - loss: 0.1986 - categorical_accuracy: 0.0020 - val_loss: 0.1805 - val_categorical_accuracy: 0.0000e+00 - 2s/epoch - 14ms/step\n",
      "Epoch 16/1000\n",
      "158/158 - 2s - loss: 0.1531 - categorical_accuracy: 0.0038 - val_loss: 0.1410 - val_categorical_accuracy: 0.0018 - 2s/epoch - 14ms/step\n",
      "Epoch 17/1000\n",
      "158/158 - 2s - loss: 0.1397 - categorical_accuracy: 0.0048 - val_loss: 0.1473 - val_categorical_accuracy: 0.0018 - 2s/epoch - 14ms/step\n",
      "Epoch 18/1000\n",
      "158/158 - 2s - loss: 0.1444 - categorical_accuracy: 0.0048 - val_loss: 0.1471 - val_categorical_accuracy: 0.0018 - 2s/epoch - 14ms/step\n",
      "Epoch 19/1000\n",
      "158/158 - 2s - loss: 0.1409 - categorical_accuracy: 0.0048 - val_loss: 0.1485 - val_categorical_accuracy: 0.0018 - 2s/epoch - 14ms/step\n",
      "Epoch 20/1000\n",
      "158/158 - 2s - loss: 0.1501 - categorical_accuracy: 0.0048 - val_loss: 0.1536 - val_categorical_accuracy: 0.0018 - 2s/epoch - 14ms/step\n",
      "Epoch 21/1000\n",
      "158/158 - 2s - loss: 0.1522 - categorical_accuracy: 0.0048 - val_loss: 0.1537 - val_categorical_accuracy: 0.0018 - 2s/epoch - 14ms/step\n",
      "Epoch 22/1000\n",
      "158/158 - 2s - loss: 0.1526 - categorical_accuracy: 0.0048 - val_loss: 0.1541 - val_categorical_accuracy: 0.0018 - 2s/epoch - 14ms/step\n",
      "Epoch 23/1000\n",
      "158/158 - 2s - loss: 0.1515 - categorical_accuracy: 0.0048 - val_loss: 0.1568 - val_categorical_accuracy: 0.0018 - 2s/epoch - 14ms/step\n",
      "Epoch 24/1000\n",
      "158/158 - 2s - loss: 0.1516 - categorical_accuracy: 0.0048 - val_loss: 0.1573 - val_categorical_accuracy: 0.0018 - 2s/epoch - 15ms/step\n",
      "Epoch 25/1000\n",
      "158/158 - 2s - loss: 0.1544 - categorical_accuracy: 0.0048 - val_loss: 0.1565 - val_categorical_accuracy: 0.0018 - 2s/epoch - 14ms/step\n",
      "Epoch 26/1000\n",
      "158/158 - 2s - loss: 0.1572 - categorical_accuracy: 0.0048 - val_loss: 0.1594 - val_categorical_accuracy: 0.0018 - 2s/epoch - 14ms/step\n",
      "Epoch 27/1000\n",
      "158/158 - 2s - loss: 0.1565 - categorical_accuracy: 0.0048 - val_loss: 0.1598 - val_categorical_accuracy: 0.0018 - 2s/epoch - 14ms/step\n",
      "Epoch 28/1000\n",
      "158/158 - 2s - loss: 0.1573 - categorical_accuracy: 0.0048 - val_loss: 0.1599 - val_categorical_accuracy: 0.0018 - 2s/epoch - 15ms/step\n",
      "Epoch 29/1000\n",
      "158/158 - 2s - loss: 0.1505 - categorical_accuracy: 0.0042 - val_loss: 0.1600 - val_categorical_accuracy: 0.0018 - 2s/epoch - 15ms/step\n",
      "Epoch 30/1000\n",
      "158/158 - 2s - loss: 0.1617 - categorical_accuracy: 0.0018 - val_loss: 0.1598 - val_categorical_accuracy: 0.0018 - 2s/epoch - 14ms/step\n",
      "Epoch 31/1000\n",
      "158/158 - 2s - loss: 0.1546 - categorical_accuracy: 0.0038 - val_loss: 0.1595 - val_categorical_accuracy: 0.0018 - 2s/epoch - 15ms/step\n",
      "Epoch 32/1000\n",
      "158/158 - 2s - loss: 0.1571 - categorical_accuracy: 0.0044 - val_loss: 0.1608 - val_categorical_accuracy: 0.0018 - 2s/epoch - 14ms/step\n",
      "Epoch 33/1000\n",
      "158/158 - 2s - loss: 0.1591 - categorical_accuracy: 0.0044 - val_loss: 0.1608 - val_categorical_accuracy: 0.0018 - 2s/epoch - 14ms/step\n",
      "Epoch 34/1000\n",
      "158/158 - 2s - loss: 0.1578 - categorical_accuracy: 0.0044 - val_loss: 0.1602 - val_categorical_accuracy: 0.0018 - 2s/epoch - 14ms/step\n",
      "Epoch 35/1000\n",
      "158/158 - 2s - loss: 0.1585 - categorical_accuracy: 0.0044 - val_loss: 0.1608 - val_categorical_accuracy: 0.0018 - 2s/epoch - 14ms/step\n",
      "Epoch 36/1000\n",
      "158/158 - 2s - loss: 0.1590 - categorical_accuracy: 0.0044 - val_loss: 0.1609 - val_categorical_accuracy: 0.0018 - 2s/epoch - 14ms/step\n",
      "Epoch 37/1000\n",
      "158/158 - 2s - loss: 0.1588 - categorical_accuracy: 0.0044 - val_loss: 0.1599 - val_categorical_accuracy: 0.0018 - 2s/epoch - 14ms/step\n",
      "Epoch 38/1000\n",
      "158/158 - 2s - loss: 0.1532 - categorical_accuracy: 0.0044 - val_loss: 0.1608 - val_categorical_accuracy: 0.0018 - 2s/epoch - 14ms/step\n",
      "Epoch 39/1000\n",
      "158/158 - 2s - loss: 0.1561 - categorical_accuracy: 0.0044 - val_loss: 0.1609 - val_categorical_accuracy: 0.0018 - 2s/epoch - 14ms/step\n",
      "Epoch 40/1000\n",
      "158/158 - 2s - loss: 0.1617 - categorical_accuracy: 0.0044 - val_loss: 0.1604 - val_categorical_accuracy: 0.0018 - 2s/epoch - 14ms/step\n",
      "Epoch 41/1000\n",
      "158/158 - 2s - loss: 0.1582 - categorical_accuracy: 0.0044 - val_loss: 0.1605 - val_categorical_accuracy: 0.0018 - 2s/epoch - 14ms/step\n",
      "Epoch 42/1000\n",
      "158/158 - 2s - loss: 0.1566 - categorical_accuracy: 0.0044 - val_loss: 0.1609 - val_categorical_accuracy: 0.0018 - 2s/epoch - 14ms/step\n",
      "Epoch 43/1000\n",
      "158/158 - 2s - loss: 0.1587 - categorical_accuracy: 0.0042 - val_loss: 0.1610 - val_categorical_accuracy: 0.0018 - 2s/epoch - 15ms/step\n",
      "Epoch 44/1000\n",
      "158/158 - 2s - loss: 0.1614 - categorical_accuracy: 0.0036 - val_loss: 0.1611 - val_categorical_accuracy: 0.0000e+00 - 2s/epoch - 14ms/step\n",
      "Epoch 45/1000\n",
      "158/158 - 2s - loss: 0.1617 - categorical_accuracy: 0.0014 - val_loss: 0.1614 - val_categorical_accuracy: 0.0000e+00 - 2s/epoch - 14ms/step\n",
      "Epoch 46/1000\n",
      "158/158 - 2s - loss: 0.1538 - categorical_accuracy: 0.0014 - val_loss: 0.1614 - val_categorical_accuracy: 0.0000e+00 - 2s/epoch - 14ms/step\n",
      "Epoch 47/1000\n",
      "158/158 - 2s - loss: 0.1582 - categorical_accuracy: 0.0014 - val_loss: 0.1591 - val_categorical_accuracy: 0.0000e+00 - 2s/epoch - 14ms/step\n",
      "Epoch 48/1000\n",
      "158/158 - 2s - loss: 0.1600 - categorical_accuracy: 0.0014 - val_loss: 0.1614 - val_categorical_accuracy: 0.0000e+00 - 2s/epoch - 14ms/step\n",
      "Epoch 49/1000\n",
      "158/158 - 2s - loss: 0.1631 - categorical_accuracy: 0.0014 - val_loss: 0.1614 - val_categorical_accuracy: 0.0018 - 2s/epoch - 14ms/step\n"
     ]
    },
    {
     "name": "stdout",
     "output_type": "stream",
     "text": [
      "Epoch 50/1000\n",
      "158/158 - 2s - loss: 0.1644 - categorical_accuracy: 0.0018 - val_loss: 0.1611 - val_categorical_accuracy: 0.0018 - 2s/epoch - 14ms/step\n",
      "Epoch 51/1000\n",
      "158/158 - 2s - loss: 0.1626 - categorical_accuracy: 0.0018 - val_loss: 0.1607 - val_categorical_accuracy: 0.0018 - 2s/epoch - 14ms/step\n",
      "Epoch 52/1000\n",
      "158/158 - 2s - loss: 0.1635 - categorical_accuracy: 0.0018 - val_loss: 0.1615 - val_categorical_accuracy: 0.0018 - 2s/epoch - 14ms/step\n",
      "Epoch 53/1000\n",
      "158/158 - 2s - loss: 0.1579 - categorical_accuracy: 0.0018 - val_loss: 0.1614 - val_categorical_accuracy: 0.0018 - 2s/epoch - 14ms/step\n",
      "176/176 [==============================] - 1s 6ms/step - loss: 0.1497 - categorical_accuracy: 0.0969\n",
      "176/176 [==============================] - 1s 5ms/step - loss: 0.1497 - categorical_accuracy: 0.0969\n"
     ]
    }
   ],
   "source": [
    "x = []\n",
    "y = []\n",
    "for row in df.values:\n",
    "    question = row[0]\n",
    "    img_regions = row[2]\n",
    "    answer = row[4:]\n",
    "    x.append(concat(question, img_regions))\n",
    "    y.append(answer)\n",
    "\n",
    "X = tf.convert_to_tensor(x)\n",
    "Y = tf.convert_to_tensor(y)\n",
    "\n",
    "history = train(X, Y)"
   ]
  },
  {
   "cell_type": "code",
   "execution_count": 276,
   "id": "cbfe01b6",
   "metadata": {},
   "outputs": [
    {
     "data": {
      "image/png": "[encoded data removed]",
      "text/plain": [
       "<Figure size 432x288 with 1 Axes>"
      ]
     },
     "metadata": {
      "needs_background": "light"
     },
     "output_type": "display_data"
    }
   ],
   "source": [
    "# plot training history\n",
    "plt.plot(history.history['loss'], label='train')\n",
    "plt.plot(history.history['val_loss'], label='val')\n",
    "plt.legend()\n",
    "plt.show()"
   ]
  },
  {
   "cell_type": "code",
   "execution_count": 277,
   "id": "47017fbd",
   "metadata": {},
   "outputs": [
    {
     "data": {
      "image/png": "[encoded data removed]",
      "text/plain": [
       "<Figure size 432x288 with 1 Axes>"
      ]
     },
     "metadata": {
      "needs_background": "light"
     },
     "output_type": "display_data"
    }
   ],
   "source": [
    "plt.plot(history.history['categorical_accuracy'], label='train')\n",
    "plt.plot(history.history['val_categorical_accuracy'], label='val')\n",
    "plt.legend()\n",
    "plt.show()"
   ]
  },
  {
   "cell_type": "code",
   "execution_count": 278,
   "id": "75b3b6b4",
   "metadata": {},
   "outputs": [
    {
     "name": "stdout",
     "output_type": "stream",
     "text": [
      "176/176 [==============================] - 1s 5ms/step - loss: 0.1497 - categorical_accuracy: 0.0969\n"
     ]
    },
    {
     "data": {
      "text/plain": [
       "0.09690060466527939"
      ]
     },
     "execution_count": 278,
     "metadata": {},
     "output_type": "execute_result"
    }
   ],
   "source": [
    "_, acc = evaluate(X, Y)\n",
    "acc"
   ]
  },
  {
   "cell_type": "code",
   "execution_count": 279,
   "id": "30ea39bd",
   "metadata": {},
   "outputs": [],
   "source": [
    "test_df = pd.read_csv('data/test.csv')"
   ]
  },
  {
   "cell_type": "markdown",
   "id": "6fb637ac",
   "metadata": {},
   "source": [
    "## NUMBERS"
   ]
  },
  {
   "cell_type": "code",
   "execution_count": 280,
   "id": "7594a8c9",
   "metadata": {},
   "outputs": [
    {
     "name": "stdout",
     "output_type": "stream",
     "text": [
      "5\n",
      "1/1 [==============================] - 0s 61ms/step - loss: 0.0034 - categorical_accuracy: 0.2000\n"
     ]
    },
    {
     "data": {
      "text/plain": [
       "[0.003436154453083873, 0.20000000298023224]"
      ]
     },
     "execution_count": 280,
     "metadata": {},
     "output_type": "execute_result"
    }
   ],
   "source": [
    "number_df = test_df[test_df.answer_type == 'number']\n",
    "print(number_df.shape[0])\n",
    "\n",
    "tx = []\n",
    "ty = []\n",
    "for row in number_df.values:\n",
    "    question = row[0]\n",
    "    img_regions = row[2]\n",
    "    answer = row[4:]\n",
    "    tx.append(concat(question, img_regions))\n",
    "    ty.append(answer)\n",
    "\n",
    "tX = tf.convert_to_tensor(tx)\n",
    "tY = tf.convert_to_tensor(ty)\n",
    "\n",
    "evaluate(tX, tY)"
   ]
  },
  {
   "cell_type": "markdown",
   "id": "e948ac57",
   "metadata": {},
   "source": [
    "## YES/NO"
   ]
  },
  {
   "cell_type": "code",
   "execution_count": 281,
   "id": "48c07933",
   "metadata": {},
   "outputs": [
    {
     "name": "stdout",
     "output_type": "stream",
     "text": [
      "49\n",
      "2/2 [==============================] - 0s 5ms/step - loss: 0.0570 - categorical_accuracy: 0.0000e+00\n"
     ]
    },
    {
     "data": {
      "text/plain": [
       "[0.0569518618285656, 0.0]"
      ]
     },
     "execution_count": 281,
     "metadata": {},
     "output_type": "execute_result"
    }
   ],
   "source": [
    "yesno_df = test_df[test_df.answer_type == 'yes/no']\n",
    "print(yesno_df.shape[0])\n",
    "\n",
    "tx = []\n",
    "ty = []\n",
    "for row in yesno_df.values:\n",
    "    question = row[0]\n",
    "    img_regions = row[2]\n",
    "    answer = row[4:]\n",
    "    tx.append(concat(question, img_regions))\n",
    "    ty.append(answer)\n",
    "\n",
    "tX = tf.convert_to_tensor(tx)\n",
    "tY = tf.convert_to_tensor(ty)\n",
    "\n",
    "evaluate(tX, tY)"
   ]
  },
  {
   "cell_type": "markdown",
   "id": "f96d3ee7",
   "metadata": {},
   "source": [
    "## OTHER"
   ]
  },
  {
   "cell_type": "code",
   "execution_count": 282,
   "id": "f5740b38",
   "metadata": {},
   "outputs": [
    {
     "name": "stdout",
     "output_type": "stream",
     "text": [
      "568\n",
      "18/18 [==============================] - 0s 5ms/step - loss: 0.0955 - categorical_accuracy: 0.0951\n"
     ]
    },
    {
     "data": {
      "text/plain": [
       "[0.0954810380935669, 0.09507042169570923]"
      ]
     },
     "execution_count": 282,
     "metadata": {},
     "output_type": "execute_result"
    }
   ],
   "source": [
    "other_df = test_df[test_df.answer_type == 'other']\n",
    "print(other_df.shape[0])\n",
    "\n",
    "tx = []\n",
    "ty = []\n",
    "for row in other_df.values:\n",
    "    question = row[0]\n",
    "    img_regions = row[2]\n",
    "    answer = row[4:]\n",
    "    tx.append(concat(question, img_regions))\n",
    "    ty.append(answer)\n",
    "\n",
    "tX = tf.convert_to_tensor(tx)\n",
    "tY = tf.convert_to_tensor(ty)\n",
    "\n",
    "evaluate(tX, tY)"
   ]
  },
  {
   "cell_type": "markdown",
   "id": "7589366d",
   "metadata": {},
   "source": [
    "## UNANSWERABLE"
   ]
  },
  {
   "cell_type": "code",
   "execution_count": 283,
   "id": "5b9abb4d",
   "metadata": {},
   "outputs": [
    {
     "name": "stdout",
     "output_type": "stream",
     "text": [
      "2\n",
      "1/1 [==============================] - 0s 57ms/step - loss: nan - categorical_accuracy: 1.0000\n"
     ]
    },
    {
     "data": {
      "text/plain": [
       "[nan, 1.0]"
      ]
     },
     "execution_count": 283,
     "metadata": {},
     "output_type": "execute_result"
    }
   ],
   "source": [
    "unanswerable_df = test_df[test_df.answer_type == 'unanswerable']\n",
    "print(unanswerable_df.shape[0])\n",
    "\n",
    "tx = []\n",
    "ty = []\n",
    "for row in unanswerable_df.values:\n",
    "    question = row[0]\n",
    "    img_regions = row[2]\n",
    "    answer = row[4:]\n",
    "    tx.append(concat(question, img_regions))\n",
    "    ty.append(answer)\n",
    "\n",
    "tX = tf.convert_to_tensor(tx)\n",
    "tY = tf.convert_to_tensor(ty)\n",
    "\n",
    "evaluate(tX, tY)"
   ]
  },
  {
   "cell_type": "code",
   "execution_count": null,
   "id": "fa89193c",
   "metadata": {},
   "outputs": [],
   "source": []
  }
 ],
 "metadata": {
  "kernelspec": {
   "display_name": "Python 3 (ipykernel)",
   "language": "python",
   "name": "python3"
  },
  "language_info": {
   "codemirror_mode": {
    "name": "ipython",
    "version": 3
   },
   "file_extension": ".py",
   "mimetype": "text/x-python",
   "name": "python",
   "nbconvert_exporter": "python",
   "pygments_lexer": "ipython3",
   "version": "3.9.13"
  }
 },
 "nbformat": 4,
 "nbformat_minor": 5
}
