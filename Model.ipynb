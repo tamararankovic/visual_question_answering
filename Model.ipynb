{
 "cells": [
  {
   "cell_type": "code",
   "execution_count": 11,
   "id": "28595c40",
   "metadata": {},
   "outputs": [],
   "source": [
    "import numpy as np\n",
    "from keras.layers import Layer, Concatenate, Input, Dense\n",
    "import keras.backend as K\n",
    "from keras.models import load_model, Model\n",
    "from keras.metrics import CategoricalAccuracy\n",
    "import pandas as pd\n",
    "import tensorflow as tf\n",
    "from matplotlib import pyplot as plt\n",
    "from keras.callbacks import EarlyStopping, ModelCheckpoint\n",
    "from keras.utils import custom_object_scope\n",
    "from keras.losses import CategoricalCrossentropy, MeanSquaredError\n",
    "from keras.optimizers import Adam\n",
    "from tensorflow.keras.optimizers.schedules import ExponentialDecay"
   ]
  },
  {
   "cell_type": "code",
   "execution_count": 12,
   "id": "48f69028",
   "metadata": {},
   "outputs": [],
   "source": [
    "model_dir = 'model'\n",
    "tanh_layer_size = 300\n",
    "input_size = 1280\n",
    "output_size = 2327\n",
    "regions = 15"
   ]
  },
  {
   "cell_type": "code",
   "execution_count": 13,
   "id": "2133c182",
   "metadata": {},
   "outputs": [],
   "source": [
    "class QGAttention(Layer):\n",
    "    def __init__(self, tanh_layer_size):\n",
    "        super(QGAttention, self).__init__()\n",
    "        self.tanh_layer_size = tanh_layer_size\n",
    " \n",
    "    def build(self,input_shape):\n",
    "        self.W1 = self.add_weight(name='attention_weight', shape=(input_shape[2], self.tanh_layer_size), \n",
    "                               initializer='random_normal', trainable=True)\n",
    "        self.W2 = self.add_weight(name='attention_weight2', shape=(self.tanh_layer_size, 1), \n",
    "                               initializer='random_normal', trainable=True)\n",
    "        #self.b=self.add_weight(name='attention_bias', shape=(1, 32), \n",
    "        #                       initializer='zeros', trainable=True)        \n",
    "        super(QGAttention, self).build(input_shape)\n",
    " \n",
    "    def get_config(self):\n",
    "        config = super().get_config()\n",
    "        config.update({\n",
    "            \"tanh_layer_size\": self.tanh_layer_size,\n",
    "        })\n",
    "        return config\n",
    "    \n",
    "    # x = [batch_size, vector_length, regions]\n",
    "    def call(self,x):\n",
    "        #tanh layer\n",
    "        e = K.relu(K.dot(x, self.W1))\n",
    "        #linear layer\n",
    "        #print('e: ', e)\n",
    "        e = K.dot(e, self.W2)\n",
    "        #print('e: ', e)\n",
    "        # Remove dimension of size 1\n",
    "        e = K.squeeze(e, axis=-1)   \n",
    "        #print('e: ', e)\n",
    "        # Compute the weights\n",
    "        alpha = K.softmax(e)\n",
    "        #print('alpha: ', alpha)\n",
    "        # Reshape to tensorFlow format\n",
    "        alpha = K.expand_dims(alpha, axis=-1)\n",
    "        #print('alpha: ', alpha)\n",
    "        # Compute the context vector\n",
    "        context = x * alpha\n",
    "        #print('context: ', context)\n",
    "        context = K.sum(context, axis=1)\n",
    "        #print('context: ', context)\n",
    "        return context"
   ]
  },
  {
   "cell_type": "code",
   "execution_count": 46,
   "id": "cd32a40b",
   "metadata": {},
   "outputs": [],
   "source": [
    "def get_model(regions, vector_input_size, tanh_layer_size):\n",
    "    inputs = Input(shape=(regions, vector_input_size))\n",
    "    inputs2 = QGAttention(tanh_layer_size)(inputs)\n",
    "    inputs3 = Dense(5000, activation='sigmoid')(inputs2)\n",
    "    outputs = Dense(output_size, activation='sigmoid')(inputs3)\n",
    "    model = Model(inputs=inputs, outputs=outputs)\n",
    "    \n",
    "    lr_schedule = ExponentialDecay(\n",
    "        initial_learning_rate=0.00001,\n",
    "        decay_steps=1000,\n",
    "        decay_rate=0.9\n",
    "    )\n",
    "    \n",
    "    model.compile(\n",
    "        optimizer=Adam(learning_rate=lr_schedule), \n",
    "        loss=CategoricalCrossentropy(),\n",
    "        metrics=[CategoricalAccuracy()]\n",
    "    )\n",
    "    return model"
   ]
  },
  {
   "cell_type": "code",
   "execution_count": 47,
   "id": "003945f9",
   "metadata": {},
   "outputs": [],
   "source": [
    "def train(x, y):\n",
    "    model = get_model(regions, input_size, tanh_layer_size)\n",
    "    print(model.summary())\n",
    "    \n",
    "    es = EarlyStopping(monitor='val_categorical_accuracy', \n",
    "                       mode='max', \n",
    "#                        min_delta=0.5, \n",
    "                       patience=20)\n",
    "    mc = ModelCheckpoint('model/best_model.h5', \n",
    "                         monitor='val_categorical_accuracy', \n",
    "                         mode='max', \n",
    "                         save_best_only=True,\n",
    "                         save_weights_only=True)\n",
    "    \n",
    "    history = model.fit(x, y, \n",
    "                        verbose=2, \n",
    "                        validation_split=0.1, \n",
    "                        epochs=1000, \n",
    "                        callbacks=[es, mc],\n",
    "#                         batch_size=70\n",
    "                       )\n",
    "    \n",
    "    model.load_weights('model/best_model.h5')\n",
    "    \n",
    "    _, old_acc = evaluate(x, y)\n",
    "    _, new_acc = model.evaluate(x, y)\n",
    "    if new_acc > old_acc:\n",
    "        model.save(model_dir)\n",
    "    return history"
   ]
  },
  {
   "cell_type": "code",
   "execution_count": 48,
   "id": "e1d2a181",
   "metadata": {},
   "outputs": [],
   "source": [
    "def predict(x):\n",
    "    model = load_model(model_dir)\n",
    "    print(model.predict(x))"
   ]
  },
  {
   "cell_type": "code",
   "execution_count": 49,
   "id": "2ebe37a4",
   "metadata": {},
   "outputs": [],
   "source": [
    "def evaluate(x, y):\n",
    "    model = load_model(model_dir)\n",
    "    return model.evaluate(x, y)"
   ]
  },
  {
   "cell_type": "code",
   "execution_count": 50,
   "id": "70aa170b",
   "metadata": {},
   "outputs": [],
   "source": [
    "def concat(question_str, regions_str):\n",
    "    question = str2fv(question_str)\n",
    "    regs = str2fvs(regions_str)\n",
    "    result = []\n",
    "    regs_count = len(regs)\n",
    "    for i in range(0, regions):\n",
    "        if i >= regs_count-1:\n",
    "            result.append([0]*1280)\n",
    "            continue\n",
    "        reg = regs[i]\n",
    "        reg.extend(question)\n",
    "        result.append(reg)\n",
    "    return result\n",
    "    \n",
    "def str2fvs(string):\n",
    "    fvs = []\n",
    "    for strfv in string.split('#'):\n",
    "        fv = []\n",
    "        for v in strfv.split('|'):\n",
    "            fv.append(float(v))\n",
    "        fvs.append(fv)\n",
    "    return fvs\n",
    "\n",
    "def str2fv(string):\n",
    "    fv = []\n",
    "    for v in string.split('|'):\n",
    "        fv.append(float(v))\n",
    "    return fv"
   ]
  },
  {
   "cell_type": "code",
   "execution_count": 51,
   "id": "9ec736d9",
   "metadata": {},
   "outputs": [
    {
     "data": {
      "text/html": [
       "<div>\n",
       "<style scoped>\n",
       "    .dataframe tbody tr th:only-of-type {\n",
       "        vertical-align: middle;\n",
       "    }\n",
       "\n",
       "    .dataframe tbody tr th {\n",
       "        vertical-align: top;\n",
       "    }\n",
       "\n",
       "    .dataframe thead th {\n",
       "        text-align: right;\n",
       "    }\n",
       "</style>\n",
       "<table border=\"1\" class=\"dataframe\">\n",
       "  <thead>\n",
       "    <tr style=\"text-align: right;\">\n",
       "      <th></th>\n",
       "      <th>question</th>\n",
       "      <th>id</th>\n",
       "      <th>img_regions</th>\n",
       "      <th>answer_type</th>\n",
       "      <th>0.1</th>\n",
       "      <th>00 310 539</th>\n",
       "      <th>1</th>\n",
       "      <th>1 08 11</th>\n",
       "      <th>1 3</th>\n",
       "      <th>1 4 ounce</th>\n",
       "      <th>...</th>\n",
       "      <th>yes green grey</th>\n",
       "      <th>yes grey shirt</th>\n",
       "      <th>yes no</th>\n",
       "      <th>yes on</th>\n",
       "      <th>yes white</th>\n",
       "      <th>yes yes</th>\n",
       "      <th>yogurt</th>\n",
       "      <th>yoplait</th>\n",
       "      <th>yorkie</th>\n",
       "      <th>zipper</th>\n",
       "    </tr>\n",
       "  </thead>\n",
       "  <tbody>\n",
       "    <tr>\n",
       "      <th>0</th>\n",
       "      <td>-0.2378118336200714|0.343080997467041|-0.21145...</td>\n",
       "      <td>1616</td>\n",
       "      <td>0.4848161041736603|0.8302670121192932|0.333211...</td>\n",
       "      <td>other</td>\n",
       "      <td>0</td>\n",
       "      <td>0</td>\n",
       "      <td>0</td>\n",
       "      <td>0</td>\n",
       "      <td>0</td>\n",
       "      <td>0</td>\n",
       "      <td>...</td>\n",
       "      <td>0</td>\n",
       "      <td>0</td>\n",
       "      <td>0</td>\n",
       "      <td>0</td>\n",
       "      <td>0</td>\n",
       "      <td>0</td>\n",
       "      <td>0</td>\n",
       "      <td>0</td>\n",
       "      <td>0</td>\n",
       "      <td>0</td>\n",
       "    </tr>\n",
       "    <tr>\n",
       "      <th>1</th>\n",
       "      <td>-0.06691977381706238|0.34440624713897705|-0.22...</td>\n",
       "      <td>11910</td>\n",
       "      <td>0.5611845254898071|0.39622652530670166|0.21795...</td>\n",
       "      <td>other</td>\n",
       "      <td>0</td>\n",
       "      <td>0</td>\n",
       "      <td>0</td>\n",
       "      <td>0</td>\n",
       "      <td>0</td>\n",
       "      <td>0</td>\n",
       "      <td>...</td>\n",
       "      <td>0</td>\n",
       "      <td>0</td>\n",
       "      <td>0</td>\n",
       "      <td>0</td>\n",
       "      <td>0</td>\n",
       "      <td>0</td>\n",
       "      <td>0</td>\n",
       "      <td>0</td>\n",
       "      <td>0</td>\n",
       "      <td>0</td>\n",
       "    </tr>\n",
       "    <tr>\n",
       "      <th>2</th>\n",
       "      <td>-0.11341997981071472|0.2821967899799347|-0.144...</td>\n",
       "      <td>13392</td>\n",
       "      <td>0.9789563417434692|0.17534661293029785|0.13067...</td>\n",
       "      <td>other</td>\n",
       "      <td>0</td>\n",
       "      <td>0</td>\n",
       "      <td>0</td>\n",
       "      <td>0</td>\n",
       "      <td>0</td>\n",
       "      <td>0</td>\n",
       "      <td>...</td>\n",
       "      <td>0</td>\n",
       "      <td>0</td>\n",
       "      <td>0</td>\n",
       "      <td>0</td>\n",
       "      <td>0</td>\n",
       "      <td>0</td>\n",
       "      <td>0</td>\n",
       "      <td>0</td>\n",
       "      <td>0</td>\n",
       "      <td>0</td>\n",
       "    </tr>\n",
       "    <tr>\n",
       "      <th>3</th>\n",
       "      <td>-0.10996074229478836|0.4101363718509674|-0.159...</td>\n",
       "      <td>7274</td>\n",
       "      <td>1.396734595298767|0.0643806904554367|0.0101861...</td>\n",
       "      <td>other</td>\n",
       "      <td>0</td>\n",
       "      <td>0</td>\n",
       "      <td>0</td>\n",
       "      <td>0</td>\n",
       "      <td>0</td>\n",
       "      <td>0</td>\n",
       "      <td>...</td>\n",
       "      <td>0</td>\n",
       "      <td>0</td>\n",
       "      <td>0</td>\n",
       "      <td>0</td>\n",
       "      <td>0</td>\n",
       "      <td>0</td>\n",
       "      <td>0</td>\n",
       "      <td>0</td>\n",
       "      <td>0</td>\n",
       "      <td>0</td>\n",
       "    </tr>\n",
       "    <tr>\n",
       "      <th>4</th>\n",
       "      <td>0.10682886093854904|0.34835386276245117|-0.120...</td>\n",
       "      <td>15488</td>\n",
       "      <td>0.34761351346969604|1.1078996658325195|0.77606...</td>\n",
       "      <td>other</td>\n",
       "      <td>0</td>\n",
       "      <td>0</td>\n",
       "      <td>0</td>\n",
       "      <td>0</td>\n",
       "      <td>0</td>\n",
       "      <td>0</td>\n",
       "      <td>...</td>\n",
       "      <td>0</td>\n",
       "      <td>0</td>\n",
       "      <td>0</td>\n",
       "      <td>0</td>\n",
       "      <td>0</td>\n",
       "      <td>0</td>\n",
       "      <td>0</td>\n",
       "      <td>0</td>\n",
       "      <td>0</td>\n",
       "      <td>0</td>\n",
       "    </tr>\n",
       "  </tbody>\n",
       "</table>\n",
       "<p>5 rows × 2331 columns</p>\n",
       "</div>"
      ],
      "text/plain": [
       "                                            question     id  \\\n",
       "0  -0.2378118336200714|0.343080997467041|-0.21145...   1616   \n",
       "1  -0.06691977381706238|0.34440624713897705|-0.22...  11910   \n",
       "2  -0.11341997981071472|0.2821967899799347|-0.144...  13392   \n",
       "3  -0.10996074229478836|0.4101363718509674|-0.159...   7274   \n",
       "4  0.10682886093854904|0.34835386276245117|-0.120...  15488   \n",
       "\n",
       "                                         img_regions answer_type  0.1  \\\n",
       "0  0.4848161041736603|0.8302670121192932|0.333211...       other    0   \n",
       "1  0.5611845254898071|0.39622652530670166|0.21795...       other    0   \n",
       "2  0.9789563417434692|0.17534661293029785|0.13067...       other    0   \n",
       "3  1.396734595298767|0.0643806904554367|0.0101861...       other    0   \n",
       "4  0.34761351346969604|1.1078996658325195|0.77606...       other    0   \n",
       "\n",
       "   00 310 539  1  1 08 11  1 3  1 4 ounce  ...  yes green grey  \\\n",
       "0           0  0        0    0          0  ...               0   \n",
       "1           0  0        0    0          0  ...               0   \n",
       "2           0  0        0    0          0  ...               0   \n",
       "3           0  0        0    0          0  ...               0   \n",
       "4           0  0        0    0          0  ...               0   \n",
       "\n",
       "   yes grey shirt  yes no  yes on  yes white  yes yes  yogurt  yoplait  \\\n",
       "0               0       0       0          0        0       0        0   \n",
       "1               0       0       0          0        0       0        0   \n",
       "2               0       0       0          0        0       0        0   \n",
       "3               0       0       0          0        0       0        0   \n",
       "4               0       0       0          0        0       0        0   \n",
       "\n",
       "   yorkie  zipper  \n",
       "0       0       0  \n",
       "1       0       0  \n",
       "2       0       0  \n",
       "3       0       0  \n",
       "4       0       0  \n",
       "\n",
       "[5 rows x 2331 columns]"
      ]
     },
     "execution_count": 51,
     "metadata": {},
     "output_type": "execute_result"
    }
   ],
   "source": [
    "df = pd.read_csv('data/train.csv')\n",
    "df.head()"
   ]
  },
  {
   "cell_type": "code",
   "execution_count": 52,
   "id": "c268a035",
   "metadata": {},
   "outputs": [],
   "source": [
    "x = []\n",
    "y = []\n",
    "for row in df.values:\n",
    "    question = row[0]\n",
    "    img_regions = row[2]\n",
    "    answer = row[4:]\n",
    "    x.append(concat(question, img_regions))\n",
    "    y.append(answer)\n",
    "\n",
    "X = tf.convert_to_tensor(x)\n",
    "Y = tf.convert_to_tensor(y)"
   ]
  },
  {
   "cell_type": "code",
   "execution_count": 53,
   "id": "d5b7a42d",
   "metadata": {},
   "outputs": [
    {
     "name": "stdout",
     "output_type": "stream",
     "text": [
      "Model: \"model_3\"\n",
      "_________________________________________________________________\n",
      " Layer (type)                Output Shape              Param #   \n",
      "=================================================================\n",
      " input_4 (InputLayer)        [(None, 15, 1280)]        0         \n",
      "                                                                 \n",
      " qg_attention_3 (QGAttention  (None, 1280)             384300    \n",
      " )                                                               \n",
      "                                                                 \n",
      " dense_4 (Dense)             (None, 5000)              6405000   \n",
      "                                                                 \n",
      " dense_5 (Dense)             (None, 2327)              11637327  \n",
      "                                                                 \n",
      "=================================================================\n",
      "Total params: 18,426,627\n",
      "Trainable params: 18,426,627\n",
      "Non-trainable params: 0\n",
      "_________________________________________________________________\n",
      "None\n",
      "Epoch 1/1000\n",
      "158/158 - 9s - loss: 10.8990 - categorical_accuracy: 0.0493 - val_loss: 10.0254 - val_categorical_accuracy: 0.0836 - 9s/epoch - 56ms/step\n",
      "Epoch 2/1000\n",
      "158/158 - 8s - loss: 9.3933 - categorical_accuracy: 0.0877 - val_loss: 9.8325 - val_categorical_accuracy: 0.0996 - 8s/epoch - 54ms/step\n",
      "Epoch 3/1000\n",
      "158/158 - 8s - loss: 9.2017 - categorical_accuracy: 0.0980 - val_loss: 9.8721 - val_categorical_accuracy: 0.0996 - 8s/epoch - 53ms/step\n",
      "Epoch 4/1000\n",
      "158/158 - 8s - loss: 9.1483 - categorical_accuracy: 0.0980 - val_loss: 9.9431 - val_categorical_accuracy: 0.0996 - 8s/epoch - 53ms/step\n",
      "Epoch 5/1000\n",
      "158/158 - 8s - loss: 9.1325 - categorical_accuracy: 0.0982 - val_loss: 10.0163 - val_categorical_accuracy: 0.0996 - 8s/epoch - 53ms/step\n",
      "Epoch 6/1000\n",
      "158/158 - 9s - loss: 9.1254 - categorical_accuracy: 0.0988 - val_loss: 10.1013 - val_categorical_accuracy: 0.0996 - 9s/epoch - 54ms/step\n",
      "Epoch 7/1000\n",
      "158/158 - 8s - loss: 9.1185 - categorical_accuracy: 0.0998 - val_loss: 10.1778 - val_categorical_accuracy: 0.1014 - 8s/epoch - 54ms/step\n",
      "Epoch 8/1000\n",
      "158/158 - 8s - loss: 9.1178 - categorical_accuracy: 0.1021 - val_loss: 10.2605 - val_categorical_accuracy: 0.1014 - 8s/epoch - 53ms/step\n",
      "Epoch 9/1000\n",
      "158/158 - 8s - loss: 9.1098 - categorical_accuracy: 0.1037 - val_loss: 10.3275 - val_categorical_accuracy: 0.1032 - 8s/epoch - 53ms/step\n",
      "Epoch 10/1000\n",
      "158/158 - 8s - loss: 9.1049 - categorical_accuracy: 0.1057 - val_loss: 10.4144 - val_categorical_accuracy: 0.1032 - 8s/epoch - 53ms/step\n",
      "Epoch 11/1000\n",
      "158/158 - 8s - loss: 9.1017 - categorical_accuracy: 0.1067 - val_loss: 10.4882 - val_categorical_accuracy: 0.1068 - 8s/epoch - 53ms/step\n",
      "Epoch 12/1000\n",
      "158/158 - 8s - loss: 9.1045 - categorical_accuracy: 0.1085 - val_loss: 10.5726 - val_categorical_accuracy: 0.1068 - 8s/epoch - 53ms/step\n",
      "Epoch 13/1000\n",
      "158/158 - 8s - loss: 9.0984 - categorical_accuracy: 0.1089 - val_loss: 10.6516 - val_categorical_accuracy: 0.1103 - 8s/epoch - 53ms/step\n",
      "Epoch 14/1000\n",
      "158/158 - 9s - loss: 9.1042 - categorical_accuracy: 0.1124 - val_loss: 10.7319 - val_categorical_accuracy: 0.1103 - 9s/epoch - 56ms/step\n",
      "Epoch 15/1000\n",
      "158/158 - 8s - loss: 9.0997 - categorical_accuracy: 0.1154 - val_loss: 10.8229 - val_categorical_accuracy: 0.1103 - 8s/epoch - 53ms/step\n",
      "Epoch 16/1000\n",
      "158/158 - 8s - loss: 9.1013 - categorical_accuracy: 0.1152 - val_loss: 10.9063 - val_categorical_accuracy: 0.1139 - 8s/epoch - 54ms/step\n",
      "Epoch 17/1000\n",
      "158/158 - 8s - loss: 9.1049 - categorical_accuracy: 0.1170 - val_loss: 10.9868 - val_categorical_accuracy: 0.1103 - 8s/epoch - 53ms/step\n",
      "Epoch 18/1000\n",
      "158/158 - 8s - loss: 9.0987 - categorical_accuracy: 0.1190 - val_loss: 11.0881 - val_categorical_accuracy: 0.1121 - 8s/epoch - 53ms/step\n",
      "Epoch 19/1000\n",
      "158/158 - 8s - loss: 9.1050 - categorical_accuracy: 0.1200 - val_loss: 11.1784 - val_categorical_accuracy: 0.1174 - 8s/epoch - 54ms/step\n",
      "Epoch 20/1000\n",
      "158/158 - 8s - loss: 9.1095 - categorical_accuracy: 0.1225 - val_loss: 11.2601 - val_categorical_accuracy: 0.1139 - 8s/epoch - 53ms/step\n",
      "Epoch 21/1000\n",
      "158/158 - 8s - loss: 9.1098 - categorical_accuracy: 0.1241 - val_loss: 11.3716 - val_categorical_accuracy: 0.1157 - 8s/epoch - 53ms/step\n",
      "Epoch 22/1000\n",
      "158/158 - 8s - loss: 9.1171 - categorical_accuracy: 0.1237 - val_loss: 11.4675 - val_categorical_accuracy: 0.1121 - 8s/epoch - 53ms/step\n",
      "Epoch 23/1000\n",
      "158/158 - 8s - loss: 9.1206 - categorical_accuracy: 0.1275 - val_loss: 11.5577 - val_categorical_accuracy: 0.1121 - 8s/epoch - 54ms/step\n",
      "Epoch 24/1000\n",
      "158/158 - 8s - loss: 9.1219 - categorical_accuracy: 0.1297 - val_loss: 11.6678 - val_categorical_accuracy: 0.1121 - 8s/epoch - 53ms/step\n",
      "Epoch 25/1000\n",
      "158/158 - 8s - loss: 9.1289 - categorical_accuracy: 0.1283 - val_loss: 11.7608 - val_categorical_accuracy: 0.1157 - 8s/epoch - 53ms/step\n",
      "Epoch 26/1000\n",
      "158/158 - 8s - loss: 9.1328 - categorical_accuracy: 0.1291 - val_loss: 11.8547 - val_categorical_accuracy: 0.1174 - 8s/epoch - 53ms/step\n",
      "Epoch 27/1000\n",
      "158/158 - 8s - loss: 9.1401 - categorical_accuracy: 0.1293 - val_loss: 11.9623 - val_categorical_accuracy: 0.1139 - 8s/epoch - 53ms/step\n",
      "Epoch 28/1000\n",
      "158/158 - 8s - loss: 9.1433 - categorical_accuracy: 0.1300 - val_loss: 12.0603 - val_categorical_accuracy: 0.1121 - 8s/epoch - 53ms/step\n",
      "Epoch 29/1000\n",
      "158/158 - 8s - loss: 9.1542 - categorical_accuracy: 0.1298 - val_loss: 12.1639 - val_categorical_accuracy: 0.1121 - 8s/epoch - 53ms/step\n",
      "Epoch 30/1000\n",
      "158/158 - 8s - loss: 9.1616 - categorical_accuracy: 0.1314 - val_loss: 12.2595 - val_categorical_accuracy: 0.1121 - 8s/epoch - 53ms/step\n",
      "Epoch 31/1000\n",
      "158/158 - 9s - loss: 9.1638 - categorical_accuracy: 0.1318 - val_loss: 12.3778 - val_categorical_accuracy: 0.1121 - 9s/epoch - 55ms/step\n",
      "Epoch 32/1000\n",
      "158/158 - 8s - loss: 9.1718 - categorical_accuracy: 0.1336 - val_loss: 12.4847 - val_categorical_accuracy: 0.1121 - 8s/epoch - 53ms/step\n",
      "Epoch 33/1000\n",
      "158/158 - 9s - loss: 9.1889 - categorical_accuracy: 0.1300 - val_loss: 12.5668 - val_categorical_accuracy: 0.1192 - 9s/epoch - 55ms/step\n",
      "Epoch 34/1000\n",
      "158/158 - 9s - loss: 9.1895 - categorical_accuracy: 0.1332 - val_loss: 12.6712 - val_categorical_accuracy: 0.1121 - 9s/epoch - 54ms/step\n",
      "Epoch 35/1000\n",
      "158/158 - 9s - loss: 9.2073 - categorical_accuracy: 0.1298 - val_loss: 12.7595 - val_categorical_accuracy: 0.1157 - 9s/epoch - 54ms/step\n",
      "Epoch 36/1000\n",
      "158/158 - 8s - loss: 9.2039 - categorical_accuracy: 0.1330 - val_loss: 12.8585 - val_categorical_accuracy: 0.1157 - 8s/epoch - 53ms/step\n",
      "Epoch 37/1000\n",
      "158/158 - 8s - loss: 9.2130 - categorical_accuracy: 0.1312 - val_loss: 12.9548 - val_categorical_accuracy: 0.1157 - 8s/epoch - 53ms/step\n",
      "Epoch 38/1000\n",
      "158/158 - 8s - loss: 9.2285 - categorical_accuracy: 0.1330 - val_loss: 13.0376 - val_categorical_accuracy: 0.1157 - 8s/epoch - 53ms/step\n",
      "Epoch 39/1000\n",
      "158/158 - 8s - loss: 9.2390 - categorical_accuracy: 0.1300 - val_loss: 13.1266 - val_categorical_accuracy: 0.1157 - 8s/epoch - 53ms/step\n",
      "Epoch 40/1000\n",
      "158/158 - 8s - loss: 9.2347 - categorical_accuracy: 0.1310 - val_loss: 13.2258 - val_categorical_accuracy: 0.1139 - 8s/epoch - 53ms/step\n",
      "Epoch 41/1000\n",
      "158/158 - 8s - loss: 9.2503 - categorical_accuracy: 0.1318 - val_loss: 13.2958 - val_categorical_accuracy: 0.1157 - 8s/epoch - 53ms/step\n",
      "Epoch 42/1000\n",
      "158/158 - 8s - loss: 9.2545 - categorical_accuracy: 0.1312 - val_loss: 13.3883 - val_categorical_accuracy: 0.1121 - 8s/epoch - 53ms/step\n",
      "Epoch 43/1000\n",
      "158/158 - 8s - loss: 9.2645 - categorical_accuracy: 0.1306 - val_loss: 13.4742 - val_categorical_accuracy: 0.1192 - 8s/epoch - 53ms/step\n",
      "Epoch 44/1000\n",
      "158/158 - 8s - loss: 9.2704 - categorical_accuracy: 0.1326 - val_loss: 13.5518 - val_categorical_accuracy: 0.1121 - 8s/epoch - 53ms/step\n",
      "Epoch 45/1000\n",
      "158/158 - 8s - loss: 9.2824 - categorical_accuracy: 0.1295 - val_loss: 13.6359 - val_categorical_accuracy: 0.1139 - 8s/epoch - 53ms/step\n",
      "Epoch 46/1000\n",
      "158/158 - 8s - loss: 9.2881 - categorical_accuracy: 0.1320 - val_loss: 13.7121 - val_categorical_accuracy: 0.1139 - 8s/epoch - 53ms/step\n",
      "Epoch 47/1000\n",
      "158/158 - 8s - loss: 9.2855 - categorical_accuracy: 0.1291 - val_loss: 13.7954 - val_categorical_accuracy: 0.1139 - 8s/epoch - 53ms/step\n",
      "Epoch 48/1000\n",
      "158/158 - 8s - loss: 9.2965 - categorical_accuracy: 0.1306 - val_loss: 13.8710 - val_categorical_accuracy: 0.1103 - 8s/epoch - 53ms/step\n"
     ]
    },
    {
     "name": "stdout",
     "output_type": "stream",
     "text": [
      "Epoch 49/1000\n",
      "158/158 - 8s - loss: 9.3148 - categorical_accuracy: 0.1312 - val_loss: 13.9549 - val_categorical_accuracy: 0.1139 - 8s/epoch - 53ms/step\n",
      "Epoch 50/1000\n",
      "158/158 - 8s - loss: 9.3093 - categorical_accuracy: 0.1310 - val_loss: 14.0245 - val_categorical_accuracy: 0.1085 - 8s/epoch - 53ms/step\n",
      "Epoch 51/1000\n",
      "158/158 - 8s - loss: 9.3299 - categorical_accuracy: 0.1267 - val_loss: 14.0876 - val_categorical_accuracy: 0.1139 - 8s/epoch - 53ms/step\n",
      "Epoch 52/1000\n",
      "158/158 - 8s - loss: 9.3198 - categorical_accuracy: 0.1275 - val_loss: 14.1649 - val_categorical_accuracy: 0.1085 - 8s/epoch - 53ms/step\n",
      "Epoch 53/1000\n",
      "158/158 - 8s - loss: 9.3390 - categorical_accuracy: 0.1265 - val_loss: 14.2355 - val_categorical_accuracy: 0.1121 - 8s/epoch - 53ms/step\n",
      "176/176 [==============================] - 1s 5ms/step - loss: 8.4583 - categorical_accuracy: 0.2485\n",
      "176/176 [==============================] - 2s 9ms/step - loss: 9.4761 - categorical_accuracy: 0.1309\n"
     ]
    }
   ],
   "source": [
    "history = train(X, Y)"
   ]
  },
  {
   "cell_type": "markdown",
   "id": "9f645cff",
   "metadata": {},
   "source": [
    "### ovo prvo srediti - izgleda da je mreza previse jednostavna"
   ]
  },
  {
   "cell_type": "code",
   "execution_count": 54,
   "id": "cbfe01b6",
   "metadata": {},
   "outputs": [
    {
     "data": {
      "image/png": "[encoded data removed]",
      "text/plain": [
       "<Figure size 432x288 with 1 Axes>"
      ]
     },
     "metadata": {
      "needs_background": "light"
     },
     "output_type": "display_data"
    }
   ],
   "source": [
    "# plot training history\n",
    "plt.plot(history.history['loss'], label='train')\n",
    "plt.plot(history.history['val_loss'], label='val')\n",
    "plt.legend()\n",
    "plt.show()"
   ]
  },
  {
   "cell_type": "code",
   "execution_count": 55,
   "id": "47017fbd",
   "metadata": {},
   "outputs": [
    {
     "data": {
      "image/png": "[encoded data removed]",
      "text/plain": [
       "<Figure size 432x288 with 1 Axes>"
      ]
     },
     "metadata": {
      "needs_background": "light"
     },
     "output_type": "display_data"
    }
   ],
   "source": [
    "plt.plot(history.history['categorical_accuracy'], label='train')\n",
    "plt.plot(history.history['val_categorical_accuracy'], label='val')\n",
    "plt.legend()\n",
    "plt.show()"
   ]
  },
  {
   "cell_type": "code",
   "execution_count": 56,
   "id": "75b3b6b4",
   "metadata": {},
   "outputs": [
    {
     "name": "stdout",
     "output_type": "stream",
     "text": [
      "176/176 [==============================] - 1s 5ms/step - loss: 8.4583 - categorical_accuracy: 0.2485\n"
     ]
    },
    {
     "data": {
      "text/plain": [
       "0.24848592281341553"
      ]
     },
     "execution_count": 56,
     "metadata": {},
     "output_type": "execute_result"
    }
   ],
   "source": [
    "_, acc = evaluate(X, Y)\n",
    "acc"
   ]
  },
  {
   "cell_type": "code",
   "execution_count": 57,
   "id": "30ea39bd",
   "metadata": {},
   "outputs": [],
   "source": [
    "test_df = pd.read_csv('data/test.csv')"
   ]
  },
  {
   "cell_type": "markdown",
   "id": "6fb637ac",
   "metadata": {},
   "source": [
    "## NUMBERS"
   ]
  },
  {
   "cell_type": "code",
   "execution_count": 58,
   "id": "7594a8c9",
   "metadata": {},
   "outputs": [
    {
     "name": "stdout",
     "output_type": "stream",
     "text": [
      "5\n",
      "1/1 [==============================] - 0s 63ms/step - loss: 6.1905 - categorical_accuracy: 0.2000\n"
     ]
    },
    {
     "data": {
      "text/plain": [
       "[6.190515995025635, 0.20000000298023224]"
      ]
     },
     "execution_count": 58,
     "metadata": {},
     "output_type": "execute_result"
    }
   ],
   "source": [
    "number_df = test_df[test_df.answer_type == 'number']\n",
    "print(number_df.shape[0])\n",
    "\n",
    "tx = []\n",
    "ty = []\n",
    "for row in number_df.values:\n",
    "    question = row[0]\n",
    "    img_regions = row[2]\n",
    "    answer = row[4:]\n",
    "    tx.append(concat(question, img_regions))\n",
    "    ty.append(answer)\n",
    "\n",
    "tX = tf.convert_to_tensor(tx)\n",
    "tY = tf.convert_to_tensor(ty)\n",
    "\n",
    "evaluate(tX, tY)"
   ]
  },
  {
   "cell_type": "markdown",
   "id": "e948ac57",
   "metadata": {},
   "source": [
    "## YES/NO"
   ]
  },
  {
   "cell_type": "code",
   "execution_count": 59,
   "id": "48c07933",
   "metadata": {},
   "outputs": [
    {
     "name": "stdout",
     "output_type": "stream",
     "text": [
      "49\n",
      "2/2 [==============================] - 0s 5ms/step - loss: 6.4827 - categorical_accuracy: 0.2449\n"
     ]
    },
    {
     "data": {
      "text/plain": [
       "[6.482658386230469, 0.2448979616165161]"
      ]
     },
     "execution_count": 59,
     "metadata": {},
     "output_type": "execute_result"
    }
   ],
   "source": [
    "yesno_df = test_df[test_df.answer_type == 'yes/no']\n",
    "print(yesno_df.shape[0])\n",
    "\n",
    "tx = []\n",
    "ty = []\n",
    "for row in yesno_df.values:\n",
    "    question = row[0]\n",
    "    img_regions = row[2]\n",
    "    answer = row[4:]\n",
    "    tx.append(concat(question, img_regions))\n",
    "    ty.append(answer)\n",
    "\n",
    "tX = tf.convert_to_tensor(tx)\n",
    "tY = tf.convert_to_tensor(ty)\n",
    "\n",
    "evaluate(tX, tY)"
   ]
  },
  {
   "cell_type": "markdown",
   "id": "f96d3ee7",
   "metadata": {},
   "source": [
    "## OTHER"
   ]
  },
  {
   "cell_type": "code",
   "execution_count": 60,
   "id": "f5740b38",
   "metadata": {},
   "outputs": [
    {
     "name": "stdout",
     "output_type": "stream",
     "text": [
      "568\n",
      "18/18 [==============================] - 0s 5ms/step - loss: 8.9767 - categorical_accuracy: 0.1127\n"
     ]
    },
    {
     "data": {
      "text/plain": [
       "[8.976716995239258, 0.11267605423927307]"
      ]
     },
     "execution_count": 60,
     "metadata": {},
     "output_type": "execute_result"
    }
   ],
   "source": [
    "other_df = test_df[test_df.answer_type == 'other']\n",
    "print(other_df.shape[0])\n",
    "\n",
    "tx = []\n",
    "ty = []\n",
    "for row in other_df.values:\n",
    "    question = row[0]\n",
    "    img_regions = row[2]\n",
    "    answer = row[4:]\n",
    "    tx.append(concat(question, img_regions))\n",
    "    ty.append(answer)\n",
    "\n",
    "tX = tf.convert_to_tensor(tx)\n",
    "tY = tf.convert_to_tensor(ty)\n",
    "\n",
    "evaluate(tX, tY)"
   ]
  },
  {
   "cell_type": "markdown",
   "id": "760ebdba",
   "metadata": {},
   "source": [
    "## TOTAL"
   ]
  },
  {
   "cell_type": "code",
   "execution_count": 61,
   "id": "a892ea25",
   "metadata": {},
   "outputs": [
    {
     "name": "stdout",
     "output_type": "stream",
     "text": [
      "20/20 [==============================] - 0s 5ms/step - loss: 8.7532 - categorical_accuracy: 0.1234\n"
     ]
    },
    {
     "data": {
      "text/plain": [
       "[8.75318431854248, 0.12339743226766586]"
      ]
     },
     "execution_count": 61,
     "metadata": {},
     "output_type": "execute_result"
    }
   ],
   "source": [
    "tx = []\n",
    "ty = []\n",
    "for row in test_df.values:\n",
    "    question = row[0]\n",
    "    img_regions = row[2]\n",
    "    answer = row[4:]\n",
    "    tx.append(concat(question, img_regions))\n",
    "    ty.append(answer)\n",
    "\n",
    "tX = tf.convert_to_tensor(tx)\n",
    "tY = tf.convert_to_tensor(ty)\n",
    "\n",
    "evaluate(tX, tY)"
   ]
  },
  {
   "cell_type": "code",
   "execution_count": null,
   "id": "00480270",
   "metadata": {},
   "outputs": [],
   "source": []
  }
 ],
 "metadata": {
  "kernelspec": {
   "display_name": "Python 3 (ipykernel)",
   "language": "python",
   "name": "python3"
  },
  "language_info": {
   "codemirror_mode": {
    "name": "ipython",
    "version": 3
   },
   "file_extension": ".py",
   "mimetype": "text/x-python",
   "name": "python",
   "nbconvert_exporter": "python",
   "pygments_lexer": "ipython3",
   "version": "3.9.13"
  }
 },
 "nbformat": 4,
 "nbformat_minor": 5
}
