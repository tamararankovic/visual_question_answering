{
 "cells": [
  {
   "cell_type": "code",
   "execution_count": 1,
   "id": "613cae34",
   "metadata": {},
   "outputs": [],
   "source": [
    "# \"image\": \"VizWiz_train_00000000.jpg\",\n",
    "#     \"question\": \"What's the name of this product?\",\n",
    "#     \"answers\": [\n",
    "#       {\n",
    "#         \"answer_confidence\": \"yes\",\n",
    "#         \"answer\": \"basil leaves\"\n",
    "#       },\n",
    "#      ... 10 odgovora\n",
    "#      ],\n",
    "#     \"answer_type\": \"other\", yes/no\n",
    "#     \"answerable\": 1"
   ]
  },
  {
   "cell_type": "code",
   "execution_count": 2,
   "id": "5838a9d1",
   "metadata": {},
   "outputs": [],
   "source": [
    "import re\n",
    "import json\n",
    "import numpy as np\n",
    "import pandas as pd\n",
    "from collections import Counter\n",
    "import matplotlib.pyplot as plt\n",
    "from sklearn.preprocessing import MultiLabelBinarizer\n",
    "from sklearn.model_selection import train_test_split"
   ]
  },
  {
   "cell_type": "code",
   "execution_count": 8,
   "id": "c17c668c",
   "metadata": {},
   "outputs": [],
   "source": [
    "def read_csv_file():\n",
    "    return pd.read_csv('data/ocr.csv')"
   ]
  },
  {
   "cell_type": "code",
   "execution_count": 9,
   "id": "dd3f2d70",
   "metadata": {},
   "outputs": [],
   "source": [
    "def read_data(dataset):\n",
    "    f = open('Annotations/' + dataset + '.json', encoding='utf8')\n",
    "    data = json.load(f)\n",
    "    f.close()\n",
    "    return data"
   ]
  },
  {
   "cell_type": "code",
   "execution_count": 10,
   "id": "ac36fca5",
   "metadata": {},
   "outputs": [],
   "source": [
    "def write_data(data, name):\n",
    "    json_data = json.dumps(data, indent=2)\n",
    "    with open(name + '.json', 'w') as f:\n",
    "        f.write(json_data)"
   ]
  },
  {
   "cell_type": "code",
   "execution_count": 14,
   "id": "dd96b487",
   "metadata": {},
   "outputs": [],
   "source": [
    "in_train = read_data('train')\n",
    "in_val = read_data('val')\n",
    "in_test = read_data('test')"
   ]
  },
  {
   "cell_type": "code",
   "execution_count": 63,
   "id": "daed6665",
   "metadata": {},
   "outputs": [
    {
     "name": "stdout",
     "output_type": "stream",
     "text": [
      "train  20523\n",
      "val    4319\n",
      "test   8000\n",
      "\n",
      "total  32842\n"
     ]
    }
   ],
   "source": [
    "train_len = len(in_train)\n",
    "val_len = len(in_val)\n",
    "test_len = len(in_test)\n",
    "total = train_len + val_len + test_len\n",
    "\n",
    "print('train ', train_len)\n",
    "print('val   ', val_len)\n",
    "print('test  ', test_len)\n",
    "print()\n",
    "print('total ', total)"
   ]
  },
  {
   "cell_type": "code",
   "execution_count": 64,
   "id": "1670c853",
   "metadata": {},
   "outputs": [
    {
     "data": {
      "image/png": "[encoded data removed]",
      "text/plain": [
       "<Figure size 432x288 with 1 Axes>"
      ]
     },
     "metadata": {},
     "output_type": "display_data"
    }
   ],
   "source": [
    "y = np.array([train_len, val_len, test_len])\n",
    "labels = [\"train\", \"val\", \"test\"]\n",
    "\n",
    "plt.pie(y, labels=labels, startangle=90, autopct='%1.2f%%')\n",
    "plt.show()"
   ]
  },
  {
   "cell_type": "code",
   "execution_count": 56,
   "id": "00d245ca",
   "metadata": {},
   "outputs": [],
   "source": [
    "# BAD-IDEA 0) izbacivanje svih pitanja koje zahtevaju OCR - citanje sa slike!!! - filtrirati po anotiranom skupu???\n",
    "# DONE     1) izbacivanje svih slika na koje nema odgovora (unanwserable) - DONE\n",
    "# POTENSL TO-DO 2) svodjenje 10 odgovora na jednu rec (koliko je moguce) - KAKO ODREDITI GLAVNU REC?\n",
    "#    (naivni pristup - uzmi prvu imenicu ili prvi glagol)\n",
    "# DONE     3.0)\n",
    "#             svodjenje svih odgovora na mala slova - DONE\n",
    "#             izbacivanje specijalnih karaktera (i znakova interpunkcije) - DONE\n",
    "#             izbacivanje praznina - DONE\n",
    "#             konverzija unicode u ascii - DONE\n",
    "# DONE     3) izbacivanje svih slika na koje nemamo koncenzus (svedeni odgovori, nema vise od 3 istih) - DONE\n",
    "# DONE     4) splitovanje skupa u odnosu da odgovara pocetnom (65:13:22) - DONE\n",
    "# DONE     5) kreiranje skupa odgovora (odgovori koji se na nivou celog skupa pojavljuju barem 8-12 puta - literatura)\n",
    "#             (posto smo mi iscistili skup, mozda bi bilo okej da uzmemo sve)\n",
    "# DONE     6) kreiranje question-answer1,answer2,...,answer1176 csv fajla - ogroman broj featura, ogroman file\n",
    "#             (mozda smanjiti na reci koje se cesto pojavljuju, u radu su sveli na reci koje se pojavljuju 8-12 puta,\n",
    "#             UMESTO DA UZMEM SAMO SIGURNE ODGOVORE, UZMEM SIGURNE SLIKE I SVE NJEGOVE ODGOVORE I ONDA GLEDAM KOJI SE POJAVLJUJU VISE PUTA)\n",
    "# NOT-DONE 7) pretprocesiranje pitanja\n",
    "#             isto kao 3.0 - DONE\n",
    "#             plus - word embedding (fastText i gloVe) - drugi fajl\n",
    "#             plus - charcacter embedding (postoje implementacije)\n",
    "# NOT-DONE   9) GRU sloj nakon pretprocesiranja svog\n",
    "# NOT-DONE   8) istraziti character embedding! - GOING DER\n",
    "# KREIRATI CSV NA ISTI NACIN I ZA TEST DEO SKUPA"
   ]
  },
  {
   "cell_type": "markdown",
   "id": "586c10c6",
   "metadata": {},
   "source": [
    "### Izbacivanje slika koje zahtevaju OCR"
   ]
  },
  {
   "cell_type": "code",
   "execution_count": 14,
   "id": "76b36fa1",
   "metadata": {},
   "outputs": [],
   "source": [
    "ocr = read_csv_file()"
   ]
  },
  {
   "cell_type": "code",
   "execution_count": 15,
   "id": "c5c935ef",
   "metadata": {},
   "outputs": [
    {
     "data": {
      "text/html": [
       "<div>\n",
       "<style scoped>\n",
       "    .dataframe tbody tr th:only-of-type {\n",
       "        vertical-align: middle;\n",
       "    }\n",
       "\n",
       "    .dataframe tbody tr th {\n",
       "        vertical-align: top;\n",
       "    }\n",
       "\n",
       "    .dataframe thead th {\n",
       "        text-align: right;\n",
       "    }\n",
       "</style>\n",
       "<table border=\"1\" class=\"dataframe\">\n",
       "  <thead>\n",
       "    <tr style=\"text-align: right;\">\n",
       "      <th></th>\n",
       "      <th>IMG</th>\n",
       "      <th>QSN</th>\n",
       "      <th>TXT</th>\n",
       "      <th>OBJ</th>\n",
       "      <th>COL</th>\n",
       "      <th>CNT</th>\n",
       "      <th>OTH</th>\n",
       "    </tr>\n",
       "  </thead>\n",
       "  <tbody>\n",
       "    <tr>\n",
       "      <th>0</th>\n",
       "      <td>VizWiz_train_00000000.jpg</td>\n",
       "      <td>What's the name of this product?</td>\n",
       "      <td>4</td>\n",
       "      <td>3</td>\n",
       "      <td>0</td>\n",
       "      <td>0</td>\n",
       "      <td>0</td>\n",
       "    </tr>\n",
       "    <tr>\n",
       "      <th>1</th>\n",
       "      <td>VizWiz_train_00000001.jpg</td>\n",
       "      <td>Can you tell me what is in this can please?</td>\n",
       "      <td>2</td>\n",
       "      <td>5</td>\n",
       "      <td>1</td>\n",
       "      <td>1</td>\n",
       "      <td>0</td>\n",
       "    </tr>\n",
       "    <tr>\n",
       "      <th>2</th>\n",
       "      <td>VizWiz_train_00000002.jpg</td>\n",
       "      <td>Is this enchilada sauce or is this tomatoes?  ...</td>\n",
       "      <td>4</td>\n",
       "      <td>3</td>\n",
       "      <td>1</td>\n",
       "      <td>0</td>\n",
       "      <td>0</td>\n",
       "    </tr>\n",
       "    <tr>\n",
       "      <th>3</th>\n",
       "      <td>VizWiz_train_00000003.jpg</td>\n",
       "      <td>What is the captcha on this screenshot?</td>\n",
       "      <td>4</td>\n",
       "      <td>2</td>\n",
       "      <td>1</td>\n",
       "      <td>1</td>\n",
       "      <td>0</td>\n",
       "    </tr>\n",
       "    <tr>\n",
       "      <th>4</th>\n",
       "      <td>VizWiz_train_00000004.jpg</td>\n",
       "      <td>What is this item?</td>\n",
       "      <td>3</td>\n",
       "      <td>5</td>\n",
       "      <td>1</td>\n",
       "      <td>0</td>\n",
       "      <td>0</td>\n",
       "    </tr>\n",
       "  </tbody>\n",
       "</table>\n",
       "</div>"
      ],
      "text/plain": [
       "                         IMG  \\\n",
       "0  VizWiz_train_00000000.jpg   \n",
       "1  VizWiz_train_00000001.jpg   \n",
       "2  VizWiz_train_00000002.jpg   \n",
       "3  VizWiz_train_00000003.jpg   \n",
       "4  VizWiz_train_00000004.jpg   \n",
       "\n",
       "                                                 QSN  TXT  OBJ  COL  CNT  OTH  \n",
       "0                   What's the name of this product?    4    3    0    0    0  \n",
       "1        Can you tell me what is in this can please?    2    5    1    1    0  \n",
       "2  Is this enchilada sauce or is this tomatoes?  ...    4    3    1    0    0  \n",
       "3            What is the captcha on this screenshot?    4    2    1    1    0  \n",
       "4                                 What is this item?    3    5    1    0    0  "
      ]
     },
     "execution_count": 15,
     "metadata": {},
     "output_type": "execute_result"
    }
   ],
   "source": [
    "ocr.head()\n",
    "# izbacujemo sve slike koje za TXT imaju vrednost > 2 (6410 slika)\n",
    "# nemamo informacije za validacioni i testni "
   ]
  },
  {
   "cell_type": "code",
   "execution_count": 18,
   "id": "2010b972",
   "metadata": {},
   "outputs": [
    {
     "data": {
      "text/plain": [
       "9705"
      ]
     },
     "execution_count": 18,
     "metadata": {},
     "output_type": "execute_result"
    }
   ],
   "source": [
    "len(ocr[(ocr['TXT']>0)])"
   ]
  },
  {
   "cell_type": "code",
   "execution_count": 23,
   "id": "44201b11",
   "metadata": {},
   "outputs": [
    {
     "data": {
      "text/plain": [
       "6410"
      ]
     },
     "execution_count": 23,
     "metadata": {},
     "output_type": "execute_result"
    }
   ],
   "source": [
    "len(ocr[(ocr['TXT']>2)])"
   ]
  },
  {
   "cell_type": "code",
   "execution_count": 24,
   "id": "6eb435c7",
   "metadata": {},
   "outputs": [
    {
     "data": {
      "text/plain": [
       "7998"
      ]
     },
     "execution_count": 24,
     "metadata": {},
     "output_type": "execute_result"
    }
   ],
   "source": [
    "len(ocr[(ocr['TXT']>1)])"
   ]
  },
  {
   "cell_type": "markdown",
   "id": "46bf18e9",
   "metadata": {},
   "source": [
    "### Izbacivanje svih slika na koje se ne moze odgovoriti _unanswerable_"
   ]
  },
  {
   "cell_type": "code",
   "execution_count": 15,
   "id": "bb32bf7e",
   "metadata": {},
   "outputs": [],
   "source": [
    "labeled = in_train + in_val\n",
    "answerable = [value for value in labeled if value['answer_type']!='unanswerable']"
   ]
  },
  {
   "cell_type": "code",
   "execution_count": 27,
   "id": "7d5e1feb",
   "metadata": {},
   "outputs": [
    {
     "name": "stdout",
     "output_type": "stream",
     "text": [
      "24842\n",
      "17925\n"
     ]
    }
   ],
   "source": [
    "print(len(labeled))\n",
    "print(len(answerable))"
   ]
  },
  {
   "cell_type": "code",
   "execution_count": 91,
   "id": "f3b3ebd0",
   "metadata": {},
   "outputs": [
    {
     "data": {
      "image/png": "[encoded data removed]",
      "text/plain": [
       "<Figure size 432x288 with 1 Axes>"
      ]
     },
     "metadata": {},
     "output_type": "display_data"
    }
   ],
   "source": [
    "y = np.array([len(answerable), len(labeled)-len(answerable)])\n",
    "labels = [\"answerable\", \"unanswerable\"]\n",
    "\n",
    "plt.pie(y, labels=labels, startangle=90, autopct='%1.2f%%')\n",
    "plt.show()"
   ]
  },
  {
   "cell_type": "markdown",
   "id": "0b9b9702",
   "metadata": {},
   "source": [
    "### Pretprocesiranje odgovora"
   ]
  },
  {
   "cell_type": "code",
   "execution_count": 16,
   "id": "8d7cd9f6",
   "metadata": {},
   "outputs": [],
   "source": [
    "def preprocess_text(text):\n",
    "    # 1) pretvaranje svih unicode karaktera u ascii (outliers)\n",
    "    text = unicode_to_ascii(text)\n",
    "    # 2) izbacivanje belina\n",
    "    text = remove_blanks(text)\n",
    "    # 3) izbacivanje specijalnih karaktera\n",
    "    text = remove_special_characters(text)\n",
    "    # 4) svodjenje na sva mala slova\n",
    "    text = to_lower(text)\n",
    "    return text"
   ]
  },
  {
   "cell_type": "code",
   "execution_count": 17,
   "id": "b1b5f98b",
   "metadata": {},
   "outputs": [],
   "source": [
    "def unicode_to_ascii(text):\n",
    "    return text.encode('ascii', 'ignore').decode('ascii')"
   ]
  },
  {
   "cell_type": "code",
   "execution_count": 18,
   "id": "a9c53746",
   "metadata": {},
   "outputs": [],
   "source": [
    "def remove_blanks(text):\n",
    "    without_blanks = text.replace('\\\\n', ' ').replace('\\n', ' ').replace('\\t',' ').replace('\\\\', ' ')\n",
    "    without_extra_whitespace = re.sub(r'\\s+', ' ', without_blanks)\n",
    "    without_extra_whitespace = without_extra_whitespace.strip()\n",
    "    return without_extra_whitespace"
   ]
  },
  {
   "cell_type": "code",
   "execution_count": 19,
   "id": "26643755",
   "metadata": {},
   "outputs": [],
   "source": [
    "def remove_special_characters(text):\n",
    "    return re.sub('[^A-Za-z0-9 ]+', '', text)"
   ]
  },
  {
   "cell_type": "code",
   "execution_count": 20,
   "id": "cc3e6976",
   "metadata": {},
   "outputs": [],
   "source": [
    "def to_lower(text):\n",
    "    return text.lower()"
   ]
  },
  {
   "cell_type": "markdown",
   "id": "14988439",
   "metadata": {},
   "source": [
    "### Izbacivanje svih slika na koje jednoglasan odgovor (>=30% istih odgovora)"
   ]
  },
  {
   "cell_type": "code",
   "execution_count": 21,
   "id": "74697569",
   "metadata": {},
   "outputs": [],
   "source": [
    "def answer_consensus(data):\n",
    "    sure_answers = []\n",
    "    for value in data:\n",
    "        answers = value['answers']\n",
    "        # svodjenje na samo sigurne odgovore\n",
    "        confident_answers = [item['answer'] for item in answers if item['answer_confidence'] == 'yes']\n",
    "        # pretprocesiranje odgovora\n",
    "        processed_answers = [preprocess_text(ans) for ans in confident_answers]\n",
    "        # (odgovor: broj_pojavljivanja) parovi\n",
    "        counts = Counter(processed_answers)\n",
    "        # najcesci odgovor koji ima barem 3 pojavljivanja (trecina)\n",
    "        most_common = [k for (k, v) in counts.items() if v>=3]\n",
    "        if most_common:\n",
    "#             if len(most_common)==2:\n",
    "#                 print(most_common)\n",
    "#             if len(most_common)==3:\n",
    "#                 print(most_common)\n",
    "            # ako postoji, stavi ga u listu sigurnih odgovora TODO UZETI SVE MOST_COMMON\n",
    "            value['answer'] = most_common\n",
    "            sure_answers.append(value)\n",
    "    return sure_answers"
   ]
  },
  {
   "cell_type": "code",
   "execution_count": 29,
   "id": "5cc083a6",
   "metadata": {},
   "outputs": [],
   "source": [
    "sure_answers = answer_consensus(answerable)"
   ]
  },
  {
   "cell_type": "code",
   "execution_count": 30,
   "id": "1f9d0138",
   "metadata": {},
   "outputs": [
    {
     "name": "stdout",
     "output_type": "stream",
     "text": [
      "17925\n",
      "12532\n"
     ]
    }
   ],
   "source": [
    "print(len(answerable))\n",
    "print(len(sure_answers))\n",
    "# ukupno - 17925\n",
    "# 5 pojavljivanja - 6973\n",
    "# 3 pojavljivanja - 12514"
   ]
  },
  {
   "cell_type": "markdown",
   "id": "80be6817",
   "metadata": {},
   "source": [
    "### Splitovanje skupa na train/val/test"
   ]
  },
  {
   "cell_type": "code",
   "execution_count": 31,
   "id": "28fa4a33",
   "metadata": {},
   "outputs": [
    {
     "name": "stdout",
     "output_type": "stream",
     "text": [
      "8145 1316 3071\n"
     ]
    }
   ],
   "source": [
    "train, val = train_test_split(sure_answers, train_size=0.65)\n",
    "val, test = train_test_split(val, train_size=0.3)\n",
    "print(len(train), len(val), len(test))"
   ]
  },
  {
   "cell_type": "code",
   "execution_count": 144,
   "id": "16569794",
   "metadata": {},
   "outputs": [
    {
     "data": {
      "image/png": "[encoded data removed]",
      "text/plain": [
       "<Figure size 432x288 with 1 Axes>"
      ]
     },
     "metadata": {},
     "output_type": "display_data"
    }
   ],
   "source": [
    "y = np.array([len(train), len(val), len(test)])\n",
    "labels = [\"train\", \"val\", \"test\"]\n",
    "\n",
    "plt.pie(y, labels=labels, startangle=90, autopct='%1.2f%%')\n",
    "plt.show()"
   ]
  },
  {
   "cell_type": "markdown",
   "id": "ac7c3afb",
   "metadata": {},
   "source": [
    "## Kreiranje skupa potencijalnih odgovora"
   ]
  },
  {
   "cell_type": "code",
   "execution_count": 37,
   "id": "82aead62",
   "metadata": {},
   "outputs": [
    {
     "name": "stdout",
     "output_type": "stream",
     "text": [
      "2365\n"
     ]
    }
   ],
   "source": [
    "# uzmi sve odgovore, prebroj ih, uzmi samo one koji se pojavljuju barem 8 puta\n",
    "#dict_variable = {key:value for (key,value) in dictonary.items()}\n",
    "all_answers_with_confidence = [item['answers'] for item in sure_answers]\n",
    "all_answers = [ans['answer'] for answers in all_answers_with_confidence for ans in answers]\n",
    "counts = Counter(all_answers)\n",
    "most_common = [k for (k, v) in counts.items() if v>=8]\n",
    "# # most_common = [k for (k, v) in counts.items()]\n",
    "print(len(most_common))\n",
    "# 5157 unique odgovora\n",
    "# generalno treshold je 8-12 za ceo skup (2400-3800 potencijalnih odgovora)\n",
    "# mi smo sveli na polovinu skupa => okej da imamo oko 1000 potencijalnih odgovora (treshold 2 -> 1334)\n",
    "# ali onda nemamo odgovor validan za pola skupa, so, mejbi sve"
   ]
  },
  {
   "cell_type": "markdown",
   "id": "8bba812a",
   "metadata": {},
   "source": [
    "## Pitanje-odgovor CSV"
   ]
  },
  {
   "cell_type": "code",
   "execution_count": null,
   "id": "913c3bfe",
   "metadata": {},
   "outputs": [],
   "source": [
    "# Question, Answer1, Answer2,..., AnswerN\n",
    "# uzmi sva pitanja i sve odgovore, napravi tabelu, ako se poklapa, stavi jedinicu"
   ]
  },
  {
   "cell_type": "code",
   "execution_count": 24,
   "id": "ab29e228",
   "metadata": {},
   "outputs": [],
   "source": [
    "def adapt_dataset(data):\n",
    "    mlb = MultiLabelBinarizer()\n",
    "    # binarno popunjava sve odgovore u zavisnosti da li se nalaze u listi za pitanje ili ne\n",
    "    mlb_result = mlb.fit_transform([value['answer'] for value in data])\n",
    "    # list(mlb.classes_)\n",
    "    image_series = pd.Series([question['image'] for question in data])\n",
    "    q_series = pd.Series([question['question_clean'] for question in data])\n",
    "    df_final = pd.concat([image_series, q_series, pd.DataFrame(mlb_result, columns=list(mlb.classes_))], axis=1)\n",
    "    return df_final"
   ]
  },
  {
   "cell_type": "code",
   "execution_count": 25,
   "id": "fc886acd",
   "metadata": {},
   "outputs": [
    {
     "ename": "KeyError",
     "evalue": "'question_clean'",
     "output_type": "error",
     "traceback": [
      "\u001b[1;31m---------------------------------------------------------------------------\u001b[0m",
      "\u001b[1;31mKeyError\u001b[0m                                  Traceback (most recent call last)",
      "\u001b[1;32m~\\AppData\\Local\\Temp\\ipykernel_13564\\2740623581.py\u001b[0m in \u001b[0;36m<module>\u001b[1;34m\u001b[0m\n\u001b[1;32m----> 1\u001b[1;33m \u001b[0mdf\u001b[0m \u001b[1;33m=\u001b[0m \u001b[0madapt_dataset\u001b[0m\u001b[1;33m(\u001b[0m\u001b[0msure_answers\u001b[0m\u001b[1;33m)\u001b[0m\u001b[1;33m\u001b[0m\u001b[1;33m\u001b[0m\u001b[0m\n\u001b[0m\u001b[0;32m      2\u001b[0m \u001b[0mdf\u001b[0m\u001b[1;33m.\u001b[0m\u001b[0mto_csv\u001b[0m\u001b[1;33m(\u001b[0m\u001b[1;34m'data/all.csv'\u001b[0m\u001b[1;33m,\u001b[0m \u001b[0mindex\u001b[0m\u001b[1;33m=\u001b[0m\u001b[1;32mFalse\u001b[0m\u001b[1;33m)\u001b[0m\u001b[1;33m\u001b[0m\u001b[1;33m\u001b[0m\u001b[0m\n",
      "\u001b[1;32m~\\AppData\\Local\\Temp\\ipykernel_13564\\2239771537.py\u001b[0m in \u001b[0;36madapt_dataset\u001b[1;34m(data)\u001b[0m\n\u001b[0;32m      5\u001b[0m     \u001b[1;31m# list(mlb.classes_)\u001b[0m\u001b[1;33m\u001b[0m\u001b[1;33m\u001b[0m\u001b[1;33m\u001b[0m\u001b[0m\n\u001b[0;32m      6\u001b[0m     \u001b[0mimage_series\u001b[0m \u001b[1;33m=\u001b[0m \u001b[0mpd\u001b[0m\u001b[1;33m.\u001b[0m\u001b[0mSeries\u001b[0m\u001b[1;33m(\u001b[0m\u001b[1;33m[\u001b[0m\u001b[0mquestion\u001b[0m\u001b[1;33m[\u001b[0m\u001b[1;34m'image'\u001b[0m\u001b[1;33m]\u001b[0m \u001b[1;32mfor\u001b[0m \u001b[0mquestion\u001b[0m \u001b[1;32min\u001b[0m \u001b[0mdata\u001b[0m\u001b[1;33m]\u001b[0m\u001b[1;33m)\u001b[0m\u001b[1;33m\u001b[0m\u001b[1;33m\u001b[0m\u001b[0m\n\u001b[1;32m----> 7\u001b[1;33m     \u001b[0mq_series\u001b[0m \u001b[1;33m=\u001b[0m \u001b[0mpd\u001b[0m\u001b[1;33m.\u001b[0m\u001b[0mSeries\u001b[0m\u001b[1;33m(\u001b[0m\u001b[1;33m[\u001b[0m\u001b[0mquestion\u001b[0m\u001b[1;33m[\u001b[0m\u001b[1;34m'question_clean'\u001b[0m\u001b[1;33m]\u001b[0m \u001b[1;32mfor\u001b[0m \u001b[0mquestion\u001b[0m \u001b[1;32min\u001b[0m \u001b[0mdata\u001b[0m\u001b[1;33m]\u001b[0m\u001b[1;33m)\u001b[0m\u001b[1;33m\u001b[0m\u001b[1;33m\u001b[0m\u001b[0m\n\u001b[0m\u001b[0;32m      8\u001b[0m     \u001b[0mdf_final\u001b[0m \u001b[1;33m=\u001b[0m \u001b[0mpd\u001b[0m\u001b[1;33m.\u001b[0m\u001b[0mconcat\u001b[0m\u001b[1;33m(\u001b[0m\u001b[1;33m[\u001b[0m\u001b[0mimage_series\u001b[0m\u001b[1;33m,\u001b[0m \u001b[0mq_series\u001b[0m\u001b[1;33m,\u001b[0m \u001b[0mpd\u001b[0m\u001b[1;33m.\u001b[0m\u001b[0mDataFrame\u001b[0m\u001b[1;33m(\u001b[0m\u001b[0mmlb_result\u001b[0m\u001b[1;33m,\u001b[0m \u001b[0mcolumns\u001b[0m\u001b[1;33m=\u001b[0m\u001b[0mlist\u001b[0m\u001b[1;33m(\u001b[0m\u001b[0mmlb\u001b[0m\u001b[1;33m.\u001b[0m\u001b[0mclasses_\u001b[0m\u001b[1;33m)\u001b[0m\u001b[1;33m)\u001b[0m\u001b[1;33m]\u001b[0m\u001b[1;33m,\u001b[0m \u001b[0maxis\u001b[0m\u001b[1;33m=\u001b[0m\u001b[1;36m1\u001b[0m\u001b[1;33m)\u001b[0m\u001b[1;33m\u001b[0m\u001b[1;33m\u001b[0m\u001b[0m\n\u001b[0;32m      9\u001b[0m     \u001b[1;32mreturn\u001b[0m \u001b[0mdf_final\u001b[0m\u001b[1;33m\u001b[0m\u001b[1;33m\u001b[0m\u001b[0m\n",
      "\u001b[1;32m~\\AppData\\Local\\Temp\\ipykernel_13564\\2239771537.py\u001b[0m in \u001b[0;36m<listcomp>\u001b[1;34m(.0)\u001b[0m\n\u001b[0;32m      5\u001b[0m     \u001b[1;31m# list(mlb.classes_)\u001b[0m\u001b[1;33m\u001b[0m\u001b[1;33m\u001b[0m\u001b[1;33m\u001b[0m\u001b[0m\n\u001b[0;32m      6\u001b[0m     \u001b[0mimage_series\u001b[0m \u001b[1;33m=\u001b[0m \u001b[0mpd\u001b[0m\u001b[1;33m.\u001b[0m\u001b[0mSeries\u001b[0m\u001b[1;33m(\u001b[0m\u001b[1;33m[\u001b[0m\u001b[0mquestion\u001b[0m\u001b[1;33m[\u001b[0m\u001b[1;34m'image'\u001b[0m\u001b[1;33m]\u001b[0m \u001b[1;32mfor\u001b[0m \u001b[0mquestion\u001b[0m \u001b[1;32min\u001b[0m \u001b[0mdata\u001b[0m\u001b[1;33m]\u001b[0m\u001b[1;33m)\u001b[0m\u001b[1;33m\u001b[0m\u001b[1;33m\u001b[0m\u001b[0m\n\u001b[1;32m----> 7\u001b[1;33m     \u001b[0mq_series\u001b[0m \u001b[1;33m=\u001b[0m \u001b[0mpd\u001b[0m\u001b[1;33m.\u001b[0m\u001b[0mSeries\u001b[0m\u001b[1;33m(\u001b[0m\u001b[1;33m[\u001b[0m\u001b[0mquestion\u001b[0m\u001b[1;33m[\u001b[0m\u001b[1;34m'question_clean'\u001b[0m\u001b[1;33m]\u001b[0m \u001b[1;32mfor\u001b[0m \u001b[0mquestion\u001b[0m \u001b[1;32min\u001b[0m \u001b[0mdata\u001b[0m\u001b[1;33m]\u001b[0m\u001b[1;33m)\u001b[0m\u001b[1;33m\u001b[0m\u001b[1;33m\u001b[0m\u001b[0m\n\u001b[0m\u001b[0;32m      8\u001b[0m     \u001b[0mdf_final\u001b[0m \u001b[1;33m=\u001b[0m \u001b[0mpd\u001b[0m\u001b[1;33m.\u001b[0m\u001b[0mconcat\u001b[0m\u001b[1;33m(\u001b[0m\u001b[1;33m[\u001b[0m\u001b[0mimage_series\u001b[0m\u001b[1;33m,\u001b[0m \u001b[0mq_series\u001b[0m\u001b[1;33m,\u001b[0m \u001b[0mpd\u001b[0m\u001b[1;33m.\u001b[0m\u001b[0mDataFrame\u001b[0m\u001b[1;33m(\u001b[0m\u001b[0mmlb_result\u001b[0m\u001b[1;33m,\u001b[0m \u001b[0mcolumns\u001b[0m\u001b[1;33m=\u001b[0m\u001b[0mlist\u001b[0m\u001b[1;33m(\u001b[0m\u001b[0mmlb\u001b[0m\u001b[1;33m.\u001b[0m\u001b[0mclasses_\u001b[0m\u001b[1;33m)\u001b[0m\u001b[1;33m)\u001b[0m\u001b[1;33m]\u001b[0m\u001b[1;33m,\u001b[0m \u001b[0maxis\u001b[0m\u001b[1;33m=\u001b[0m\u001b[1;36m1\u001b[0m\u001b[1;33m)\u001b[0m\u001b[1;33m\u001b[0m\u001b[1;33m\u001b[0m\u001b[0m\n\u001b[0;32m      9\u001b[0m     \u001b[1;32mreturn\u001b[0m \u001b[0mdf_final\u001b[0m\u001b[1;33m\u001b[0m\u001b[1;33m\u001b[0m\u001b[0m\n",
      "\u001b[1;31mKeyError\u001b[0m: 'question_clean'"
     ]
    }
   ],
   "source": [
    "df = adapt_dataset(sure_answers)\n",
    "df.to_csv('data/all.csv', index=False)"
   ]
  },
  {
   "cell_type": "markdown",
   "id": "4b4fb467",
   "metadata": {},
   "source": [
    "## Rukovanje pitanjima"
   ]
  },
  {
   "cell_type": "code",
   "execution_count": 26,
   "id": "f447044a",
   "metadata": {},
   "outputs": [],
   "source": [
    "def clean_question(answer):\n",
    "    answer['question_clean'] = preprocess_text(answer['question'])\n",
    "    return answer"
   ]
  },
  {
   "cell_type": "code",
   "execution_count": 27,
   "id": "948c4369",
   "metadata": {},
   "outputs": [],
   "source": [
    "cleaned_questions = [clean_question(answer) for answer in sure_answers]"
   ]
  },
  {
   "cell_type": "code",
   "execution_count": 28,
   "id": "672e242a",
   "metadata": {},
   "outputs": [
    {
     "name": "stdout",
     "output_type": "stream",
     "text": [
      "8145 1316 3071\n"
     ]
    }
   ],
   "source": [
    "# splitovanje skupa\n",
    "train, val = train_test_split(cleaned_questions, train_size=0.65)\n",
    "val, test = train_test_split(val, train_size=0.3)\n",
    "print(len(train), len(val), len(test))"
   ]
  },
  {
   "cell_type": "markdown",
   "id": "6664a410",
   "metadata": {},
   "source": [
    "### Word embedding za pitanja"
   ]
  },
  {
   "cell_type": "code",
   "execution_count": null,
   "id": "e5594c20",
   "metadata": {},
   "outputs": [],
   "source": [
    "max_features = 20000\n",
    "tokenizer = Tokenizer(num_words=max_features)\n",
    "tokenizer.fit_on_texts(list(train_x))\n",
    "tokenized_train_x = tokenizer.texts_to_sequences(train_x)\n",
    "tokenized_test_x = tokenizer.texts_to_sequences(test_x)"
   ]
  },
  {
   "cell_type": "code",
   "execution_count": null,
   "id": "bbaf356e",
   "metadata": {},
   "outputs": [],
   "source": []
  },
  {
   "cell_type": "code",
   "execution_count": 5,
   "id": "f50acecd",
   "metadata": {},
   "outputs": [],
   "source": [
    "EMB_PATH='C:/Users/evaje/OneDrive/Desktop/Skola skola/Master/1_Semestar/Sistemi za istrazivanje i analizu podataka/projekat/toxic-comment-classification/ksenko/'\n",
    "EMBEDDING_FILE=EMB_PATH+'emb/glove.6B.50d.txt' # glove\n",
    "embed_dim = 50\n",
    "# EMBEDDING_FILE=EMB_PATH+'emb/wiki-news-300d-1M-subword.vec'  # fasttext\n",
    "# embed_dim = 300"
   ]
  },
  {
   "cell_type": "code",
   "execution_count": 6,
   "id": "1d6afe75",
   "metadata": {},
   "outputs": [],
   "source": [
    "# citanje vektora iz fajla\n",
    "def get_coefs(word,*arr): return word, np.asarray(arr, dtype='float32')\n",
    "embeddings_vectors = dict(get_coefs(*o.strip().split()) for o in open(EMBEDDING_FILE, encoding=\"utf8\"))"
   ]
  },
  {
   "cell_type": "code",
   "execution_count": 7,
   "id": "37c3b3f0",
   "metadata": {},
   "outputs": [
    {
     "name": "stderr",
     "output_type": "stream",
     "text": [
      "C:\\ProgramData\\Anaconda3\\envs\\tf\\lib\\site-packages\\IPython\\core\\interactiveshell.py:3444: FutureWarning: arrays to stack must be passed as a \"sequence\" type such as list or tuple. Support for non-sequence iterables such as generators is deprecated as of NumPy 1.16 and will raise an error in the future.\n",
      "  if (await self.run_code(code, result,  async_=asy)):\n"
     ]
    },
    {
     "data": {
      "text/plain": [
       "(0.020940498, 0.6441043)"
      ]
     },
     "execution_count": 7,
     "metadata": {},
     "output_type": "execute_result"
    }
   ],
   "source": [
    "all_embs = np.stack(embeddings_vectors.values())\n",
    "# preuzimanje srednje vrednosti i standardne devijacije\n",
    "# za generisanje random vektora za reci koje se ne nalaze u korpusu reci embedinga\n",
    "emb_mean,emb_std = all_embs.mean(), all_embs.std()\n",
    "emb_mean,emb_std"
   ]
  },
  {
   "cell_type": "code",
   "execution_count": null,
   "id": "e8e3d097",
   "metadata": {},
   "outputs": [],
   "source": [
    "# broj reci koje jesu u treniranim embedinzima\n",
    "emb_count = 0\n",
    "\n",
    "word_index = tokenizer.word_index\n",
    "# min(broj reci u korpusu, maksimalan broj reci)\n",
    "nb_words = min(max_features, len(word_index))\n",
    "# generisanje matrice dimenzija nb_words sa embed_dim sa random vrednostima\n",
    "embedding_matrix = np.random.normal(emb_mean, emb_std, (nb_words, embed_dim))\n",
    "for word, i in word_index.items():\n",
    "    if i >= max_features: continue\n",
    "    embedding_vector = embeddings_vectors.get(word)\n",
    "    # ako se rec nalazi medju treniranim embedinzima, uzmi je\n",
    "    if embedding_vector is not None:\n",
    "        embedding_matrix[i] = embedding_vector\n",
    "        emb_count += 1\n",
    "    else:\n",
    "        print(word)"
   ]
  },
  {
   "cell_type": "markdown",
   "id": "fe82aaca",
   "metadata": {},
   "source": [
    "### Svojedjenje svakog odgovora na glavnu rec (gde je moguce)"
   ]
  },
  {
   "cell_type": "code",
   "execution_count": 92,
   "id": "b7ccb70c",
   "metadata": {},
   "outputs": [],
   "source": [
    "bad_image = [value for value in answerable if len([answer for answer in value['answers'] if answer=='unsuitable image'])>0]"
   ]
  },
  {
   "cell_type": "code",
   "execution_count": 93,
   "id": "5be96e65",
   "metadata": {},
   "outputs": [
    {
     "name": "stdout",
     "output_type": "stream",
     "text": [
      "[]\n"
     ]
    }
   ],
   "source": [
    "print(bad_image)"
   ]
  },
  {
   "cell_type": "code",
   "execution_count": 67,
   "id": "37516786",
   "metadata": {},
   "outputs": [
    {
     "name": "stdout",
     "output_type": "stream",
     "text": [
      "16147 2608 6087\n"
     ]
    }
   ],
   "source": [
    "labeled = in_train + in_val\n",
    "train, val = train_test_split(labeled, train_size=0.65)\n",
    "val, test = train_test_split(val, train_size=0.3)\n",
    "print(len(train), len(val), len(test))"
   ]
  },
  {
   "cell_type": "code",
   "execution_count": 68,
   "id": "59edff89",
   "metadata": {},
   "outputs": [
    {
     "data": {
      "image/png": "[encoded data removed]",
      "text/plain": [
       "<Figure size 432x288 with 1 Axes>"
      ]
     },
     "metadata": {},
     "output_type": "display_data"
    }
   ],
   "source": [
    "y = np.array([len(train), len(val), len(test)])\n",
    "labels = [\"train\", \"val\", \"test\"]\n",
    "\n",
    "plt.pie(y, labels=labels, startangle=90, autopct='%1.2f%%')\n",
    "plt.show()"
   ]
  },
  {
   "cell_type": "code",
   "execution_count": 74,
   "id": "8935290c",
   "metadata": {},
   "outputs": [],
   "source": [
    "write_data(train, 'train')\n",
    "write_data(val, 'val')\n",
    "write_data(test, 'test')"
   ]
  },
  {
   "cell_type": "code",
   "execution_count": null,
   "id": "ad98221d",
   "metadata": {},
   "outputs": [],
   "source": []
  },
  {
   "cell_type": "code",
   "execution_count": 6,
   "id": "b778c9e9",
   "metadata": {},
   "outputs": [],
   "source": [
    "answer_types = [value['answer_type'] for value in in_train]"
   ]
  },
  {
   "cell_type": "code",
   "execution_count": 7,
   "id": "b2c81604",
   "metadata": {},
   "outputs": [],
   "source": [
    "answer_types = np.unique(np.array(answer_types))"
   ]
  },
  {
   "cell_type": "code",
   "execution_count": 8,
   "id": "7496ac5c",
   "metadata": {},
   "outputs": [
    {
     "data": {
      "text/plain": [
       "array(['number', 'other', 'unanswerable', 'yes/no'], dtype='<U12')"
      ]
     },
     "execution_count": 8,
     "metadata": {},
     "output_type": "execute_result"
    }
   ],
   "source": [
    "# svi tipovi odgovora\n",
    "answer_types"
   ]
  },
  {
   "cell_type": "code",
   "execution_count": 9,
   "id": "59b637ad",
   "metadata": {},
   "outputs": [],
   "source": [
    "# procenat prisustva svakog od tipova u okviru trening i validacionog skupa\n",
    "train_val = in_train+in_val\n",
    "answer_type_groups = [[value for value in train_val if value['answer_type']==answer_type] for answer_type in answer_types]"
   ]
  },
  {
   "cell_type": "code",
   "execution_count": 10,
   "id": "8249714e",
   "metadata": {},
   "outputs": [
    {
     "data": {
      "text/plain": [
       "4"
      ]
     },
     "execution_count": 10,
     "metadata": {},
     "output_type": "execute_result"
    }
   ],
   "source": [
    "len(answer_type_groups)"
   ]
  },
  {
   "cell_type": "code",
   "execution_count": 16,
   "id": "a781f35b",
   "metadata": {},
   "outputs": [
    {
     "name": "stdout",
     "output_type": "stream",
     "text": [
      "349 number\n",
      "['100', '100', '100', '100', '100', '$100', '100', '100 rupees', '100', '100']\n",
      "['100', '1246063', '100', '100', '100', 'unsuitable', '100', '100', '100', '100']\n",
      "['7', '1', '7', 'no', 'unsuitable', 'unsuitable', '1', 'unsuitable', '7', 'no']\n",
      "['73', '73', '73', '73', '73', '73', '73', '73', '73', '73']\n",
      "['8', 'unsuitable', '8', '8', 'unanswerable', '8', '8', '8', 'unsuitable', 'unsuitable']\n",
      "['76', 'sd', '76', '76', '76', '76', '76', '76', '76', '76']\n",
      "['10 club', '10', '10', '10', '10 clubs', '10', '10', '10', '10', '10 clubs']\n",
      "['68', '65', 'unsuitable', 'unsuitable', 'unanswerable', '68', '65', '65', '88', 'unsuitable']\n",
      "['819', '0', '819', 'unanswerable', 'unanswerable', 'display has time', '819', '819', 'digital', '819']\n",
      "['5', '5', '5 dollar bill', '5 dollars', '5', '5', '5 dollars', 'not clear', '$5', '5']\n",
      "['unanswerable', '31', '16', '40', '0', 'unsuitable', '40f', '40 click zoom', '40 degrees', '40']\n",
      "['unsuitable', '75', 'unanswerable', '75', 'yes', '75', 'yes', 'no', 'unsuitable', '79']\n",
      "['10', '9', '10', '10', '10', '10', '10', '10', '10', '9']\n",
      "['6182714901', '618 271 4091', 'paper', '6182714091', '6182714091', '6182714091', '6182714091', '618 271 4091', '6182714091', '618 217 4091']\n",
      "['74', '74', '74', '74', '74', '74', '74', '74', '74', '74']\n",
      "['28', '28', '28 degrees', '28 degrees', '28', '28', '28 celcius', '28 degrees', '28 celsius', '28']\n",
      "['1000', '1 1000', '1000 only 1', '1000', 'unsuitable', '1000', '1000', '1000', '1000', '1000']\n",
      "['3', '4', '4', '1 3rd key', '3', '2', '2', '3', 'unanswerable', '3']\n",
      "['28', '28', '28', '28', 'unanswerable', '28', '28', '28', '28', '28']\n",
      "['3', '13', '13', '13', 'unsuitable', 'unsuitable', 'unsuitable', '13', '13', 'unsuitable']\n",
      "['1', '2', 'unsuitable', '2', '2', '2', 'unanswerable', '0', '2', 'unsuitable']\n",
      "['2 fingers', '2', '2', '2', 'unsuitable', '1', '2', 'unanswerable', '2', '1']\n",
      "['8', '8', '8', '2', '8', '8', '8', '8', '8', '3']\n",
      "['409', '409', '409', '409', '409', '409', '409', '409', '409', '409']\n",
      "['79', '79', '79', '74 degrees', '74', '79', '79', '79', '79 degrees', '79 degrees']\n",
      "['0', '0', '0', '0', '0', '0', '0', '0', '0', '0']\n",
      "['1 hundred forty', '140 per serving', '140', '140', '140 per 11 chips', '140', '140', '140', '140', '140']\n",
      "['2', '2', '2', '2', '2', 'disc 2', 'disc 2', 'disc 2', '2', 'disc 2']\n",
      "['500', '520', '500', 'clean', '500', '525', 'oven temp', '520', 'erderf', '550']\n",
      "['1', '1', '1', 'thumb', '1 thumb', '1 thumb', '1', '1', '1', '1']\n",
      "['73', '73', '73', '73 degrees', '73 degree fahrenheit', '73', '73', '73', '73', '73']\n",
      "['50', '50', '50', '50', 'unanswerable', '50', 'unanswerable', '50', '50', '50']\n",
      "['unsuitable', '375', '325 bake', 'unsuitable', '340', '275', '355 degrees', '325', 'unanswerable', '355']\n",
      "['500 g table salt', 'container salt', '500', '500', '500', '500', '500g', '500', '500', '500']\n",
      "['1', '1', '0', '1', 'gsdgf', '0', '2', '1', '1', '1']\n",
      "['287', '287', '287', '287', '387', '287', '287', '287', '287', '287']\n",
      "['16', '16', '16', '16', '16', '16', '16', '16', '16', '16']\n",
      "['1', 'size 1', '1', 'unanswerable', '1', '1', '1', '1', '1', '1']\n",
      "['30', 'compressor', '30 pounds air pressure', '36', '30', '32', '15', '9:38', '12', '31']\n",
      "['78', '78', '78', '78', '78', '78', '78', '78', '78', 'digital']\n",
      "['409', '409 all purpose cleaner', '409 all purpose cleaner', '409', 'cleaner', '409', '409', '409 all purpose cleaner', '409', '409']\n",
      "['75', '75', '75', '75', '75', '75', '75', '15', '15', 'ad']\n",
      "['77', '77', '77', '77 degrees', '77', 'says 77', '77', '77', '77', '77 degrees']\n",
      "['unanswerable', 'unanswerable', '2', '72', 'unanswerable', '72', '72', 'unanswerable', '72', '72']\n",
      "['90', '90', '90', '90', '90', '90', '90', '90', '90', '90']\n",
      "['unsuitable', '82', '84', '83', '81', '84', '81 82', '83', '82', 'current 83']\n",
      "['74', '74', '74', '74 f', '74', 'thermostat', '74', '74', '74', '74']\n",
      "['400', '400', '400', '400', '400 degrees', '400', '400 degrees', '400 degrees', '400', '400']\n",
      "['56', '56', '56', '56', '56', '56', '56', '56', '56', '56']\n",
      "['3', '3', '3', '3', '3', '3', '3', '3', '3', '3']\n",
      "['75', '75', 'unanswerable', '75', '75', '75 degrees', '75', '75', '75', '75']\n",
      "['350', '350', '350 degrees', 'oven 350', '350', '350', 'oven temperatures', 'egaerg', '350', '350']\n",
      "['633', '633', '633', '633', '633', '633', '633', '633', '633', '633']\n",
      "['350', '350', '350', '350', '350', '350', '450', '350', '350', '425 degrees']\n",
      "['69', '69', '69 no other info available in image', '69', '69', 'number s auto on temperature', '69', '69 no', '69', '69 degrees']\n",
      "['40', '45', 'unsuitable', 'unsuitable', '40', '50 degrees', '40', 'unanswerable', '42', 'unanswerable']\n",
      "['1621', '1621', '1621', '1621', '1621', '1621', '1621', '1621', '1621', '1621']\n",
      "['81', '81', '81', 'no', '81', '81', '81 degrees', '81', '81', '81']\n",
      "['581', 'unsuitable', '742', 'unable to see focus closer on upper right hand corner', '741', '241', '243', '741', 'unanswerable', '741']\n",
      "['unsuitable', '106.8', 'unsuitable', '106', '106.8', 'unsuitable', '106', '106.0', '106', '106']\n",
      "['20', '20', '20', 'canadian 20', '20', '20', 'money', '20', '20 cad', '20 dollars']\n",
      "['many', '35', '30', '50', 'unanswerable', '23', 'unsuitable', 'several', '25 cars 7 boxes visible', '36']\n",
      "['9780132658113', '9 746132 658113', '78013200812', '00000', '9 780132 658119', '9780132658119', '9780132668119', '9780132658119', 'unsuitable', '780132658119']\n",
      "['8', '8', '8', '8', '8', '8', '8', '8', '8', '4 4 8']\n",
      "['0', '2', '0', '2', '0', '0', '2', '2', '0', '0']\n",
      "['67', '67', '67', '67', '67', '67', '67', 'sixty 7', '67', '67']\n",
      "['300', '50', '50', '300', '50 per serving', '50 calories per oz serving', '50', '50 calories 8 fl oz', '50 per serving', '50']\n",
      "['10', '10', '10', '10', '10', '10', '10', '10', '10', 'unanswerable']\n",
      "['37978', '37978', '37978', '37978', '3 79 78', '37978', '37978', '37978', '37978', '37978']\n",
      "['unanswerable', '1865', 'unsuitable', '1865', 'unsuitable', '1865', '1865', '1865', '1865', 'unanswerable']\n",
      "['8', '8', 'unanswerable', '0', '8', '8', 'unanswerable', '8', '8 0:00', '000']\n",
      "['4', '4 2 purple 2 red', '4', '4', '2 pairs', '4', '4', '4', '4', '4']\n",
      "['9 minutes', '9', '9', '9', 'unsuitable', '9', 'nothing', '9', 'unsuitable', '9']\n",
      "['unanswerable', '9', '9', '9', '9', 'unanswerable', '10', '10', 'unanswerable', '118']\n",
      "['200', 'unanswerable', '200', '200', '200', '200', '200', '200', '200', '200']\n",
      "['89', '68', 'unanswerable', 'unsuitable', '89', '60', '68', '68', 'unanswerable', '68']\n",
      "['0', '0', 'unanswerable', '0', '0', 'unanswerable', 'unanswerable', 'unanswerable', 'no salt', 'no salt added']\n",
      "['4', '4', '4', '4', '4', '4', '4', '4', '4', '4']\n",
      "['unanswerable', '0', 'unanswerable', 'unsuitable', '0', '0', '0', '0', 'unsuitable', '0']\n",
      "['50', '150', 'unanswerable', '150', 'unanswerable', 'unanswerable', '100', '20', 'unanswerable', 'unanswerable']\n",
      "['unanswerable', 'eh', 'unanswerable', 'unanswerable', '3', '3', 'unanswerable', '3', '3', '3']\n",
      "['20 dollars', '20', '20', '20', '20', '20', '20', '20', '20', '20']\n",
      "['24 degrees', 'yes', '24ºf', '24 c', '24 degrees celsius', '24', '24', '24', '24', '24']\n",
      "['74', 'no', 'yes', '74', '74', '74', '74', 'no', 'no', 'no']\n",
      "['76', '76', '76', 'we', 'unanswerable', '76', '76', '76', 'unanswerable', '76']\n",
      "['7', '72', 'unanswerable', 'unsuitable', 'unanswerable', '7', '77', '77', '77', '71']\n",
      "['480', 'about 410', '400', '400', 'gdfg', '390', '415', '420', '375', '420']\n",
      "['1', '1', '1', '1', '1', '1', '2', '1', '1', '1']\n",
      "['788741', '788741', '788741', '700741', '788741', '788741', '788741', '788741', '788741', '788741']\n",
      "['0466986101001 t 00 f', '04669861010001', '04669861010001', 'unsuitable', '04666861010001', '04669861010001 tn 00 f', '0469861010001 tn 00', 'unsuitable', '04669861010001', '0466861010001']\n",
      "['147', '147', '147', '147', '147', '147', '147', 'unsuitable', '147', '143']\n",
      "['718103051637', 'unanswerable', '1813 05163', '181013031637', '1810303163', 'upc', '6103803163', '718103051637', '7 18103 05163 7', 'unanswerable']\n",
      "['unanswerable', '45058', 'unsuitable', 'unanswerable', '45050', '45058', '45058', '45058', 'unsuitable', '45050']\n",
      "['unanswerable', '400f', '400', '400 degrees', '400', '400', '400', '400', '400', 'unsuitable']\n",
      "['10', 'unanswerable', '10', '10', 'unanswerable', 'unsuitable', '10 euro', '10', 'dollar', 'unsuitable']\n",
      "['5', '5', '5', '5', '5', '4', '5', '5', '5', '5']\n",
      "['unanswerable', '4 degree c', 'unsuitable', '4', '4', '4', '4', '4', '4', 'unsuitable']\n",
      "['10', '3', '10', '9', '10', '1 9 then 0', '10', '9 key pad', '10', '10']\n",
      "['f04', '4', '04', '04', '04', 'unanswerable', '04', '04', 'f04', 'f04']\n",
      "['1482', 'paper numbers', '1482', '1482', '1482', '1482', '1482', '1482', '1482', '1482']\n",
      "['74', '74 degrees', '74', '74', '74', '74', '74', '74 degrees', '74', '74']\n",
      "['10', '20', 'unanswerable', '10', 'unanswerable', '5', 'unanswerable', 'zoom out denomination not visible', 'unsuitable', '5']\n",
      "['4', '3 shoes 1 sandals', '4', '4', '4 pairs shoes on floor', '4', '4', '4', '4', '4']\n",
      "['450', 'unsuitable', '350', '450 degrees', '450', '450', '350', '450', 'appears to be 450', '450']\n",
      "['1', '1', '1 dollar', '1 dollar', '1', '1', '1 dollar', '$1', '1', '1']\n",
      "['3', '3', '3', '3', '3', '3', '3', '3', '3', '3']\n",
      "['book', '145', 'unsuitable', '45', '145', '145', '145', 'unanswerable', '145', 'unanswerable']\n",
      "['20 c', '20', '20', '20', '20', '20', '20', '20', '20', '20']\n",
      "['400', '400', '300', '400', '400', '400', '300', '400', '400', 'unanswerable']\n",
      "['2', 'unanswerable', '02', '2', '2', '2', '2', '2', '2', '2']\n",
      "['unanswerable', '73', '73', '73', '73', '73', 'unsuitable', '73', '73', 'unsuitable']\n",
      "['68', 'unsuitable', 'heat', '68', '58 degrees', '68', '68', 'heat', 'unanswerable', '80']\n",
      "['season 5 disc 4', '4', '4', '4', '4', '4', '4', '4', '4', '4']\n",
      "['5803', '5803', '5803', '5803', '5803', '5803', '5803', 'life on record', '5803', '5803']\n",
      "['301', '301', '301', '301', '301', '301', '301', '301', '301', '301']\n",
      "['375', '510', '515', 'unanswerable', '375', '375', 'unanswerable', '375', 'unsuitable', '315']\n",
      "['68', 'unanswerable', '84', '84', 'unsuitable', '84 degrees', '84', '84', 'unanswerable', '20.84']\n",
      "['2 chairs', 'unanswerable', '2', '2', '2', '2', '2', '2', '2', '2']\n",
      "['350', '375', '340 bake', '360', '350', '325', '350', '375', 'radio', '360']\n",
      "['20', '20', '20', '20', '20', 'unanswerable', 'unanswerable', '20', '20', '20']\n",
      "['79', '79', '79', '79', '79', '79', '79', '79', '79 degrees', '79 degrees f']\n",
      "['100', '100', '100', '100', '100', '100', '100', '100', '100', '100']\n",
      "['95 degrees', '95', '56', '56', '56', '95', '56 degrees', '56', '56', '56']\n",
      "['10', '10', '$10', '10', 'american', '10 us dollars', '10', '10', '10', '10 dollars']\n",
      "['350', '1.5', 'unsuitable', '350', '1.5', '350', '1.5', '350', '350', '5']\n",
      "['top most number 500', '450', 'no', '450', '450', '450', '450 degrees oven temperature', '450', '450', '449']\n",
      "['400', '400', 'unsuitable', '400 hevit', '400', 'unanswerable', '400 levit', '400', '400 2levit', 'unanswerable']\n",
      "['300', '340', '350', '300', '350', 'slightly below 350', '300', '350 degrees', '300', '350 degrees']\n",
      "['about 35', 'about 44', '25', '45', 'dgfd', '44', 'unanswerable', 'unanswerable', '47', '45']\n",
      "['0', 'nothing', '0', 'no label on that side', '0', 'unanswerable', '0', 'unanswerable', 'no text picture', '0']\n",
      "['0', 'unanswerable', 'unanswerable', 'cool', '75', 'cool', '75', 'cool', '75', 'unanswerable']\n",
      "['50000', '5000', '50000', '50000 won', '50000', '5000', '50000', 'unanswerable', '50000 jin', 'unanswerable']\n",
      "['68', '68', '68', '68', '68 degrees', '68', '68', '68', '68', '68']\n",
      "['450', '450', '450 degrees', '450', '450 degress', '450', '450', '460', '450 degrees', '450']\n",
      "['2', '2', '2', 'unanswerable', '2', '2', '2', '2', '2', '2']\n",
      "['20', '20', '20', '20', '20', 'unanswerable', '20', '20', '20', 'phone']\n",
      "['120', '120', '120 volt', '120', '120', '120', '120', '120v', '120', '60 hz']\n",
      "['325', '250', '360', '375', '325', 'wargrgb', '360', '300', 'unsuitable', '325']\n",
      "['72', '72.0Œء', '72', '72', '72.0', '72', '72 degrees', '72.0 f', '72', '72']\n",
      "['5', '5', '5', '5', '5', '5', '5', '6', '5', '5']\n",
      "['unanswerable', '0', 'theres no box', 'no label', 'unsuitable', '0', '0', 'unanswerable', '0', 'no medicaitons']\n",
      "['20 euro', 'german', '20', '20 euros', '20', '20', '20 euro', '20', '20', '20']\n",
      "['225', 'unanswerable', '250', '290', '275', '325', '275', '275', '280', '255']\n",
      "['69', 'unsuitable', '69', 'i dont know', '69', 'unanswerable', '69', '69 degrees', '69.0', '69.0']\n",
      "['2', '2', '2', '2', '2', '2', '2', '2', '2', '2']\n",
      "['3', 'ewfwefr', '3', '3', '3', '3', '3', '3', '3', '3']\n",
      "['10', '10', '10', '10 dollars', '10', '10 dollar bill', '10', '10', '$10', 'pay money']\n",
      "['4', '96', '45', '60', 'no', 'unanswerable', 'unanswerable', '37', 'unanswerable', '90']\n",
      "['171', '171', '171', '171', '171', '171', '171', 'unanswerable', '171', '171']\n",
      "['216', 'eg', '216', '216', '216', '216 training kitchen 2', '216', '216', '216', '216']\n",
      "['10', '10', '10', '10', '10', '10', '10 clubs', '10', '10', 'card']\n",
      "['4', '4', '4', '4', '4', '4', '4', 'ergvb', '4', '4']\n",
      "['107', '107', '107', 'unsuitable', '1070', '107', 'looks like 107 pounds', '107', '107.0', '107.0']\n",
      "['450', '450', '450 degrees', '450', '450', '450 230', '450 260', '450ºf 230ºc', '450', '450']\n",
      "['1', '1', '1', '1', '1', '1', '1', '1', '1', '1']\n",
      "['at end heavy cycle tad right will be normal cycle', '2', 'unanswerable', '2', 'washing machine', '1', '2', 'unanswerable', 'knob on washing machine', 'unsuitable']\n",
      "['qwdqw', '53', '53', 'unable to see page move camera up to right corner more', '53', '53', '53', '53', '53', '53']\n",
      "['13', '13', '13', '13', '13', '13', '13', '13', '13', 'dfg']\n",
      "['34821', '34821', '34821', 'unanswerable', '34821', '34821', '34821', '34821', '34821', '34821']\n",
      "['10', '10', '10', '10', '$10', '10 dollars', '10', '10', '10 dollar bill', '10']\n",
      "['8', '8', '8', '8', '8', '8', '8', '8', '8', '8']\n",
      "['75', '75', '75', '75', '75', '75 degrees', 'honeywell', '75', '75', '75']\n",
      "['385', '375', '380', 'about 387', '380', '350', 'unanswerable', '385', '400', '390 degrees']\n",
      "['69', '69', '69', 'unanswerable', '69', '69', '69', '69', '69 off', '69']\n",
      "['20', '20', '20', 'ŚŁ20', '20', '20 pounds', '20 pounds', '20', '20 lbs british currency', '20 euros']\n",
      "['24 minutes', '24', '24', '24', '24', '24 minutes', '24', '24', '24 minutes', 'warm warm 24 minutes colors']\n",
      "['10', 'foregin', '10', '10', '10 pounds', '10', '10', '10 pounds', '10', '10']\n",
      "['5', '5', '5', '5 dollars', '5', '5', '5', '5', '5', '5']\n",
      "['180', '180', '180', '180', '180', '180 calories', '180', '180', '180', '180']\n",
      "['04669861010001', '04669861010001', '04669861010001', '04669861010001', '04669861010001', '04669861010001', '04669861010001', '04669861010001', '04669861010001', '04669861010001']\n",
      "['human male hand', '5', '5', '5', '5', '5', '5', '5', '5', '5']\n",
      "['unanswerable', 'eg', '58', '58', '58', '38', '38', '38', '38', '38']\n",
      "['2', 'unanswerable', '3', '3', '3', '3', '3', 'unsuitable', 'unanswerable', '3']\n",
      "['2', '2', '2', '2', '2', '73218', '73218', '73218', 'set numbers', '2']\n",
      "['330820', 'multiplication', '330820', '323404', 'yes', 'yes', 'yes', '330820', 'yes', '330820']\n",
      "['72', '72', '72', '72', '72', '72', '72', 'left button heat middle button fan right button cool 72 degrees', '72', '72']\n",
      "['1000', '1000 yen', '1000', '1000', '1000 international currency', '1000', '1000', '1000', '1000', '1000']\n",
      "['02610518', '02610', '02610518', '02610518m3', '00011420', '0261051', '02610.518', '02610518', '02610518', '02610518']\n",
      "['53716', '53716', '53716', '53716', '53716', '53716', '53716', 'paper', '53716', '53716']\n",
      "['10', '12', '10', '10', '10', '10', '10', '10', '10', '10']\n",
      "['76466652864', '764666528642', '4', '7 64666 52864 2', 'serial number', '6466652864', '6466652864', '7 64666 52564 2', 'unsuitable', '4 inch screw']\n",
      "['5', '5.00', 'unanswerable', '5', '5', '5.00', '5.00', '5.00', 'unsuitable', '5']\n",
      "['475', '500', '475', '475', '480', '480', '475', '475', '475', '475']\n",
      "['455', '435 degrees', '435', '425', '430', '450', '430 degrees', '430', '450', '460']\n",
      "['6', '6', '6', '6', '6', '6', '6', '6', '6', '6']\n",
      "['unanswerable', '393', '853', '393', '393', '339', 'unsuitable', 'unanswerable', '393', '393']\n",
      "['3', 'unanswerable', '3', '3', '3', '3', '3', '3', '3', '3']\n",
      "['i cant tell', '1', '1', '1', '1', '1 line', '1', 'unanswerable', '1', '1']\n",
      "['50', 'unsuitable', '50', 'many', 'unanswerable', '55', 'unanswerable', '61', '60', '52']\n",
      "['5229', '5229', '5229', '522g', '5229', '522g', '5229', '5229', '5229', '5229']\n",
      "['409', '409', 'household cleaner', '409 shower cleaner', '409', '409', '409 cleaner', '409', '409', '409 spray']\n",
      "['2834', '2834', '2834', '2834', '2834', '2834', '2834', '04 2013', '2834', '2834']\n",
      "['1', '1', '1', '3', '1', '1', '3', '3', '3', '3']\n",
      "['20', '20', '50', '$20', '20', '20', '$20', '20', '$20', '20 dollars']\n",
      "['unanswerable', '0', '0', '0', '0', '0', '0', '0', '0', '0']\n",
      "['5', '5', '5', '5 pounds', 'unsuitable', '5', '5', '5', '5', '5']\n",
      "['278900', '278900', '278900', '278900', '278900', '278900', '278900', '278900', '278900', '278900']\n",
      "['east', 'east', '80', '80', 'unsuitable', 'right', '80', 'unsuitable', 'unanswerable', '45']\n",
      "['15', '14', '16', '14', 'unanswerable', '16', '15', '14', '15', '15']\n",
      "['90', '90', '90', '90', '90', '90', '90', '90', '90', '90']\n",
      "['88.8', '6', '6', '6', '6', '8', '6', '6', '1', '6']\n",
      "['0', '0', '0', 'o', '0', '0', 'unanswerable', '0', '0', 'pregnancy test']\n",
      "['5', '5', '5', '5', '5', '5', '5', '4', '5', '4']\n",
      "['325', '325', '325', '325', '325 degrees', '325', '325', '325', '325', '325']\n",
      "['67', 'no', 'unanswerable', '0', '67', 'unanswerable', '67', '75', 'unanswerable', '67']\n",
      "['90', '90', '90', '90', '90', '90', '90', '90', '90', '90']\n",
      "['75 degrees', '75', '75', 'unsuitable', '75', '50', '75', '75', '75', 'unanswerable']\n",
      "['216', '216', '216', '216', '216', '216', '216', '216', '216', '216']\n",
      "['80', '80', 'eighty', '80', '80', '80', '80 degrees', '80', '80', '80']\n",
      "['35', '35', '35', '35', '35', '0', '35', '35', '35', '35']\n",
      "['18', '18', '18', '18', '18', '18', '18', '18', '18', 'microwave']\n",
      "['77', '77', '77 degrees', '77 degrees', '77', '77', '77', '77', '77', '77']\n",
      "['25', '25', '25', '25', '52 minutes', '25', '52 minutes', '25', '25', '25']\n",
      "['fourth number 1', '1', '1', '1', '1', '1', '1', '1', '1', '1']\n",
      "['20', '20', '20', '15', '20', '20', '15', '20', '20', '20']\n",
      "['unsuitable', '78', '76', 'unsuitable', '76', '76', '76', '76', '76', '70 degrees']\n",
      "['dvd', '4', '4', '4', '4', '4', '4', '4', '4', '4']\n",
      "['350', '350', '360', '350', '350 f', '350', '360', '350', '350', '350']\n",
      "['76466610301', '76466610301', '7 64666 10301 6', '764666103016', '764666103016', '764666103016', '7 64666 10301 6', '76466610301', '7 64666 10301 6', '764666103016']\n",
      "['360 degree c', '300', '300', 'off', '305', '300', '400', '400', '300', '315']\n",
      "['20', '20', '20', '20', '20', '20', '20', '20', '20', 'unanswerable']\n",
      "['71', '71', 'yes', '71', '70', '71', '71', '71', 'yes', '71']\n",
      "['almost 70', '67', 'unanswerable', '70 degrees', '65', 'about 65', '65', 'unanswerable', '65', '65']\n",
      "['100 dirhams', '100 units unkown currency', '100', '100', 'unsuitable', '100', '100', 'bgfdhb', '100', '100']\n",
      "['30362', '30362', '30362', '30362', '30362', '30362', 'unanswerable', '30362', '30352', 'unanswerable']\n",
      "['79', '79', '79', '79 degrees', '79 degrees', '79', 'honey well 79 degrees', '79 degrees', '79', '79']\n",
      "['3', '3', '3', '3', '73218', '3', '3', '73218', '3', '73218']\n",
      "['unsuitable', 'off', '425', 'unanswerable', '425', '425', '425', '450', 'unanswerable', '425']\n",
      "['12', '10', 'unsuitable', '12', 'unanswerable', '2', '8', '10', '10', '10']\n",
      "['globe', '195', '195', '195', 'unanswerable', '206', '195', 'unanswerable', 'unanswerable', '195']\n",
      "['79', '79', '79 degrees', '79', '79', '79', '79', '79', '79', '79']\n",
      "['58', 'about 60', '56', '38', 'approximately 55', '30', 'unsuitable', 'lot', 'unanswerable', 'lots']\n",
      "['230 degrees', '150', '230', 'unsuitable', '230', '230', '230', '150', '230', '230c']\n",
      "['5', '5', '5', '4', '5', '5', '5', '5', '5', '5']\n",
      "['9674 khz', '9674', '9674', '9674', '9674 khz', '9674', '9674khz', '9674', '9674 khz', '9674']\n",
      "['ergfer', '68', '99', 'unsuitable', '68', '89', '68', '68', '68', '89']\n",
      "['dockers', '38', '38', '36', '36', '38', '38', '38', '38', '36']\n",
      "['5', '5', '5', '5', '5', '5', '5', '4', '5', '5']\n",
      "['40', '40', '40', '40', '40', '40', '40', '40', 'unanswerable', '40']\n",
      "['11', '8', '9', '8', '9', '10', '8', '10', '10', '8']\n",
      "['10000 yuan', '1000', '10', '10000', 'unanswerable', '10000', '10000', 'unanswerable', '10000', '10000 yen']\n",
      "['13', '13', '13', '13', '13', '13', '13', '12', '13', '13']\n",
      "['unsuitable', '$5', '5', '5', '5', '5', '10', '5', 'unsuitable', '5']\n",
      "['75', 'unsuitable', '115', '75', '75', '75', 'unsuitable', '75', 'unanswerable', '75']\n",
      "['10', '10', '10', '10', '10', '10', '0', 'unanswerable', '10', '10']\n",
      "['5', '5 dollar', '5dolar', '5', '5 dollars', '5', '5', '$5.00', '5', '5']\n",
      "['79', '79', '79', 'unsuitable', '79', 'unsuitable', '79', '79', '79', 'no']\n",
      "['75', 'unanswerable', '75', '75', '75', '75', '75', '75', '75 degrees', 'seventy 5 degrees']\n",
      "['this picture blurry', '20', 'unsuitable', '20 dollars', '$20', 'unanswerable', '20', '20', '20', '20']\n",
      "['5', '5', '5', '6', '5', '5 colors', '5', '5', '5', '4']\n",
      "['unanswerable', '3', '3', 'unanswerable', 'unsuitable', '3', '3', '3', '3', '3']\n",
      "['10', '10', '10', '10', '10 dollars', '10', '10', '10', '10', 'pounds']\n",
      "['129.0', 'i cant read image theres something on your scale', '242', '124', '242', '247', '122', '124.2', '129', '124']\n",
      "['2', '2.25', '14 1 2', '2 inches', 'fourteen', '2', '2', '2', '14', '2']\n",
      "['470', '455', '460', '450', '460', '452', '451', '460', '470', '460']\n",
      "['9', '9', '9', '9', 'unanswerable', '9', '9', '9', '9', 'unsuitable']\n",
      "['70', '70', '70', '70', '70', '70', '70 degrees', '70', '101', '70']\n",
      "['20', '20', '20', '20', '20', '20', '20', '20', '20', '20']\n",
      "['200', '200', '200', '200', '200', '200', '200', '200', '200', '200']\n",
      "['3', '3', '3', 'erg', '3', '3', '3', '3', '3', '3']\n",
      "['unsuitable', '450', '450', '450', '450', '400', '450', '450', '450', '450']\n",
      "['20', '20', '20%', '20', '20', '20%', '20', 'extra 20 percent off everything', '20', '20']\n",
      "['unanswerable', '47', '40', 'unanswerable', 'fd', '40', 'temp says 70 appears to be set below 50 if up north turn little east north', '44', '44', 'on 42']\n",
      "['temperature thermostat 90', '70', 'unanswerable', '72', 'unanswerable', '72', '70', '70 degrees', '72', '70']\n",
      "['1', '1', '1 dollar', '1 dollar', 'sd', '1 dollar', '1', '1', '1', 'dollar']\n",
      "['79', '79 degrees', '79', '79', '79', '79 degrees', '79', '79', '79°', 'unsuitable']\n",
      "['135', '131', '131', '131', '131', '131', '131', 'language nation', 'page book', '131']\n",
      "['20', '20 dollars', '20', 'usa $20', '20', 'this 20 dollar bill', '20', '$20', '20', '20']\n",
      "['68', '68', '68', '68', '68', 'current temp 68 set to 80 unable to tell if heat on', 'house 68 degrees iäó t looks like person set to be 80', '68', 'yes i will totalsine', '68']\n",
      "['55195', '55195', '55795', '55', '5', '55195', '55', '55195', '55', '55 195']\n",
      "['no', '140', 'unsuitable', 'no', '440', '440ml', '440', '440', '440 ml', '460']\n",
      "['10', '10', '10', '10', '10', '10', '10', '10', '$10', '10']\n",
      "['unsuitable', '350', 'unsuitable', '350', 'unsuitable', 'unsuitable', '350', '500', '300', '350']\n",
      "['unanswerable', '58 degrees', '68', 'unanswerable', '58 degrees', '58', '59', '56', '58', '58']\n",
      "['3', '3', 'unanswerable', '3', '3', '3', '3', '3', '3', '3']\n",
      "['5', '5', '5', '4 fingers thumb', '5', '5', '5', '5', '5', '5']\n",
      "['325', '315', '325', '325', '325 degrees', '325', '375', '325', '315', '325']\n",
      "['5', '$5', '5', '$5', '5', '5', '5 dollars', '5 dollars', '5', '5']\n",
      "['101', '101', '101', '101', '101', '201', '101', '101', '101', '101']\n",
      "['78', '78', 'digital', '78 degrees', '78', 'honeywell: 78 degrees', '78', '78 degree', '78 degrees', '78']\n",
      "['20', '20', '20', 'canadian dollars', 'canadian', '20', '20', '20', '20 canadian dollars', 'unanswerable']\n",
      "['5', '5', '5', '5 hearts', '5 hearts', '5', '5 hearts', 'playing card', '5 hearts', '5']\n",
      "['67', '67', '67', '67', '67º', '67', '67°', '67', '67', '67']\n",
      "['300', '200', 'unsuitable', '200', '200', '200', '200', '200', '200 degrees', 'unsuitable']\n",
      "['10', '10', '10', '10', '10', '8', '10', '10', '10 coins', '10']\n",
      "['15', '15', '15', '15', '15', 'fifteen', '15', 'numbers', '15', '15']\n",
      "['04', '04', '4', '04', '04', '04', '04', '04', ':04', '04']\n",
      "['41950', '41950', '4.1950', '41950', '41950', '41860', '4.195.0', '4.195.0', '41950', '4.1950']\n",
      "['unanswerable', '50000', '50000', '50000 lebanese pounds', '50000 foreign', '50000', 'unanswerable', '50000 liban', '50000', '50000']\n",
      "['2', '2', 'unsuitable', '2', 'unsuitable', '2', 'no 1 4', '2', 'unsuitable', '2']\n",
      "['250', '250', '250', '250', '250', '250', '250', '250', '250 f', '250 degrees']\n",
      "['4', '4', '4', '4', '4', '4', '4', '4', '4', '4']\n",
      "['2000', '2000', '2000', '1999', '1960', '1999', '2000', 'unsuitable', 'unsuitable', 'unsuitable']\n",
      "['72', '72.0', 'unanswerable', 'no display', 'unanswerable', 'unsuitable', '0', 'unanswerable', '71', '72']\n",
      "['335', '335', '335', '335 upside down though', '335', '335', '335', '335', '335', '335']\n",
      "['2', '1', '2', '1', '1', '1', '1', '1', '1', '1']\n",
      "['94', '94', '94', '94', '94 humidity 31%', '94', '94', '94', '94', '94']\n",
      "['unanswerable', 'unsuitable image', '46bg5', '46395', '46b15', '46815', '46315', '46bi5', 'unsuitable image', '46095']\n",
      "['876512', '876512', '876512', 'unanswerable', '876512', '876512', '876612', '876612', '8876512', '876512']\n",
      "['20', '20', '20', 'unsuitable image', '20', 'twenty', 'dollar', 'unanswerable', '20 dollars', '20']\n",
      "['unanswerable', '10', '4', 'unanswerable', '2', '2', '4', '5', '3', 'unanswerable']\n",
      "['no animal', '0', '0', '0', '0', 'no animal in screen', 'unanswerable', 'unanswerable', 'unanswerable', 'unanswerable']\n",
      "['5 star', 'no', '02577039', '02577039', '02577039', '02577039', '02577039 m3', '02577039', 'unanswerable', 'unanswerable']\n",
      "['799852896', '799852896', '799852896', '799852896', '799852896', '799852896', '799852896', '799852896', '799852896', '799852896']\n",
      "['261627.2 m^3', '02616272 m^3', '02616272', '02615272', '02616272', '272', '02616272', '02616272', '02616272 m3', '02616272']\n",
      "['72', '72', '72', '72 degrees', '72', '72', '72', '72', '72', '72']\n",
      "['5', '6 from top', '6th button', '6th 1 down', '5', '6', 'unsuitable', 'unanswerable', 'unanswerable', '5']\n",
      "['unsuitable', '061', 'unsuitable', 'digital', '06', '90', '90', '90', 'unanswerable', '98']\n",
      "['2000', '2000', '2000', '2000', '2000', '2000', '2000', '2000', '2000', '2000']\n",
      "['350', 'unanswerable', '350', '350w max', 'unsuitable', '350', '350', 'unanswerable', 'wair', '350w max']\n",
      "['77 degrees', '77', '77', '77', '77 degrees', '77', '77', '77', '77', '77']\n",
      "['47', '47', '47', '47th', 'has number 47', '47', '47', 'unanswerable', '47', 'no']\n",
      "['5', '5', '5', '5', '5', '5 dollars', '5', '5 singapore dollars', '5', '5 dollars']\n",
      "['400', '550', '500', '475', '475', '475', '475', '500', '550', '500']\n",
      "['20', 'rgreg', '20', '20', 'unsuitable', 'unanswerable', '20', '20', '20', '20']\n",
      "['452940', '452940', 'wakie talkie', 'numbers', 'radio', '452940', 'walkie talkie', '452940', 'unsuitable', '452940']\n",
      "['410', '410', '410', 'unanswerable', '410', 'unanswerable', '410', '410', '410', '410']\n",
      "['8', '8', '8', '8', '8', '8', '8', '8', '8', '8']\n",
      "['2', '2', '2', '2', '$2', 'money', '2', '2', 'unanswerable', '2']\n",
      "['110', 'image plurry', '104', '110', '100', 'unsuitable', '10', 'unsuitable', 'unsuitable', 'unsuitable']\n",
      "['oven knob', 'oven temp 400 temperature', '425', '450', '400', '425', '425', '400', '425', '400']\n",
      "['78', '78', '78 degrees', '78', '78', '78', '78', '78', '78', '78']\n",
      "['20 canadian dollars', '20', '20', '20', '20 euros', '20', '20 canadian dollars', '20', '20', '20']\n",
      "['75', '75', '75', '75', '76', '75', '75', '75', '75', '75']\n",
      "['50', '50', '55', '64 degrees', '55', 'unsuitable', 'unsuitable', '54', 'unanswerable', '56']\n",
      "['5', '5', '5', '5', 'canada', '5', '5', 'eghsthg', '5', '5']\n",
      "['6 diamonds', '9 diamonds', '6 diamonds', '6', '6', '6', '6', '6', '6', '6']\n",
      "['210', '200', 'yes 200', '198', '200', '200', '200', '250', '200', '200']\n",
      "['59', '59', '59 f', '59', '59 f', '59', '59', '59', '59', '59']\n",
      "['78', '78', '78', '78', '78', '78', '78 degrees', '78 degrees', '78 degrees fahrenheit', '78']\n",
      "['unanswerable', '2', '4', 'unsuitable', '4', '4 peanut butter cups', '2', '2', 'unanswerable', 'unsuitable']\n",
      "['120', '120', '120 dry 220 prepared if prepared 1 1 4 cup fat free milk', '120', '120', '120', '120', '120', '220', '120 dry cereal 220 milk']\n",
      "['10 euro', '10', '10', 'unsuitable', '10', '10', '10 laying on red white shirt', '10', '10', '10']\n",
      "['biue', '1', '1 line', '1 dark line', '1', '1', '1', '1', '1', '1']\n",
      "['3248849064', '3248849084', 'unsuitable', '3248849084', 'unanswerable', 'unsuitable', '3248849084', 'unanswerable', 'unsuitable', '3248849084']\n",
      "['1', '1', 'unanswerable', '1', '1', 'unanswerable', 'unanswerable', 'unanswerable', 'blank scale', '1']\n",
      "['184313', '18431', '18461', '18431', '18431', '18431', '18431', '18431', '18431', '18431']\n",
      "['70', '70', '70', '70', '70', '70', '70', '70', '70', 'thermostat']\n",
      "['10', '10', '10', '10', '10', '10', '10', '10', '10', '10 canadian']\n",
      "['25389186', '25389186 08 07 23:39', '25389186', '253891186', 'unanswerable', '25389186', '25389186 8 07 23:59', '25389186', '25389186', '25389186']\n",
      "['23442', '23442', '23442', 'unanswerable', 'unanswerable', 'only see 2 digits 69', '23442', 'unanswerable', 'unanswerable', '23442']\n",
      "['23.6', '20', '20', '24', 'unsuitable', 'unsuitable', 'unsuitable', '33', 'unanswerable', 'gfdsgsdf']\n",
      "['72', '72', '72', '72', '72', '72', '72', '72 degrees', '72', '72 degrees']\n",
      "['2', '2', '2', '2', '2', '2', '2', 'unanswerable', '2', '2']\n",
      "['8888', 'unsuitable', 'nothing', '8888', 'unanswerable', 'unanswerable', '8888', '888', 'nothing', 'blank']\n",
      "['123', '121', '121', '121', 'unsuitable', '121', '121', '128', '321', '121']\n",
      "['26', '26', '26', '26', '26', 'paper', '26', '26', '26', '26']\n",
      "['unanswerable', '40', '40', 'unanswerable', 'unsuitable', 'numbers', '40', '40', '40 lbs air', '30']\n",
      "['8 tablets', '8', '8', '8', '8', '8', '8', '8 tablets', '8', '8']\n",
      "16424 other\n",
      "6917 unanswerable\n",
      "1152 yes/no\n"
     ]
    }
   ],
   "source": [
    "for group in answer_type_groups:\n",
    "    print(len(group), group[0]['answer_type'])\n",
    "    if group[0]['answer_type']=='number':\n",
    "        for gr in group:\n",
    "            answers = [ans['answer'] for ans in gr['answers']]\n",
    "            print(answers)"
   ]
  },
  {
   "cell_type": "code",
   "execution_count": null,
   "id": "5e821850",
   "metadata": {},
   "outputs": [],
   "source": [
    "print"
   ]
  }
 ],
 "metadata": {
  "kernelspec": {
   "display_name": "Python 3 (ipykernel)",
   "language": "python",
   "name": "python3"
  },
  "language_info": {
   "codemirror_mode": {
    "name": "ipython",
    "version": 3
   },
   "file_extension": ".py",
   "mimetype": "text/x-python",
   "name": "python",
   "nbconvert_exporter": "python",
   "pygments_lexer": "ipython3",
   "version": "3.7.12"
  }
 },
 "nbformat": 4,
 "nbformat_minor": 5
}
